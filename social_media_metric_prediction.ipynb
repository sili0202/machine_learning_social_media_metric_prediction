{
 "cells": [
  {
   "cell_type": "code",
   "execution_count": 1,
   "metadata": {},
   "outputs": [],
   "source": [
    "import pandas as pd\n",
    "import numpy as np\n",
    "import matplotlib.pyplot as plt\n",
    "%matplotlib inline\n",
    "import seaborn as sns\n",
    "plt.rcParams.update({'font.size': 14})\n",
    "from sklearn.preprocessing import LabelEncoder\n",
    "from sklearn.model_selection import train_test_split\n",
    "from sklearn.dummy import DummyRegressor\n",
    "from sklearn import metrics\n",
    "from sklearn.linear_model import LinearRegression\n",
    "from sklearn.preprocessing import MinMaxScaler\n",
    "from sklearn.preprocessing import StandardScaler\n",
    "from sklearn.linear_model import Ridge\n",
    "from sklearn.model_selection import GridSearchCV\n",
    "from sklearn.ensemble import RandomForestRegressor\n",
    "import lightgbm as lgbm\n",
    "from catboost import CatBoostRegressor, Pool\n",
    "from sklearn.model_selection import cross_val_score\n",
    "from sklearn.tree import DecisionTreeRegressor\n",
    "from sklearn import tree"
   ]
  },
  {
   "cell_type": "code",
   "execution_count": 2,
   "metadata": {
    "scrolled": true
   },
   "outputs": [
    {
     "data": {
      "text/html": [
       "<div>\n",
       "<style scoped>\n",
       "    .dataframe tbody tr th:only-of-type {\n",
       "        vertical-align: middle;\n",
       "    }\n",
       "\n",
       "    .dataframe tbody tr th {\n",
       "        vertical-align: top;\n",
       "    }\n",
       "\n",
       "    .dataframe thead th {\n",
       "        text-align: right;\n",
       "    }\n",
       "</style>\n",
       "<table border=\"1\" class=\"dataframe\">\n",
       "  <thead>\n",
       "    <tr style=\"text-align: right;\">\n",
       "      <th></th>\n",
       "      <th>group</th>\n",
       "      <th>mentions</th>\n",
       "      <th>post_uid</th>\n",
       "      <th>date</th>\n",
       "      <th>post_type</th>\n",
       "      <th>format</th>\n",
       "      <th>uid</th>\n",
       "      <th>author</th>\n",
       "      <th>shared</th>\n",
       "      <th>shared_author</th>\n",
       "      <th>...</th>\n",
       "      <th>shares</th>\n",
       "      <th>total_engagements</th>\n",
       "      <th>potential_reach</th>\n",
       "      <th>eng_rate</th>\n",
       "      <th>impressions</th>\n",
       "      <th>yt_dislikes</th>\n",
       "      <th>avg_ccv</th>\n",
       "      <th>peak_ccv</th>\n",
       "      <th>duration</th>\n",
       "      <th>measured</th>\n",
       "    </tr>\n",
       "  </thead>\n",
       "  <tbody>\n",
       "    <tr>\n",
       "      <th>0</th>\n",
       "      <td>generic_words</td>\n",
       "      <td>1</td>\n",
       "      <td>bf612b87e2a533e6bbff4a72f9602721</td>\n",
       "      <td>2020-02-12T00:19:58+0000</td>\n",
       "      <td>IMAGE</td>\n",
       "      <td>NaN</td>\n",
       "      <td>733167615cbe4c16afe1310786a94875</td>\n",
       "      <td>elrufas</td>\n",
       "      <td>NaN</td>\n",
       "      <td>NaN</td>\n",
       "      <td>...</td>\n",
       "      <td>0.0</td>\n",
       "      <td>42852.0</td>\n",
       "      <td>472725.0</td>\n",
       "      <td>0.090649</td>\n",
       "      <td>NaN</td>\n",
       "      <td>NaN</td>\n",
       "      <td>NaN</td>\n",
       "      <td>NaN</td>\n",
       "      <td>NaN</td>\n",
       "      <td>1.0</td>\n",
       "    </tr>\n",
       "    <tr>\n",
       "      <th>1</th>\n",
       "      <td>generic_words</td>\n",
       "      <td>1</td>\n",
       "      <td>1879e56cbe2a38beb6086fb6d7cbba5d</td>\n",
       "      <td>2020-02-14T03:53:43+0000</td>\n",
       "      <td>IMAGE</td>\n",
       "      <td>STORY</td>\n",
       "      <td>bb6ec127f3234f40a135d2ef79d9a71d</td>\n",
       "      <td>jamieout</td>\n",
       "      <td>NaN</td>\n",
       "      <td>NaN</td>\n",
       "      <td>...</td>\n",
       "      <td>NaN</td>\n",
       "      <td>NaN</td>\n",
       "      <td>163530.0</td>\n",
       "      <td>NaN</td>\n",
       "      <td>NaN</td>\n",
       "      <td>NaN</td>\n",
       "      <td>NaN</td>\n",
       "      <td>NaN</td>\n",
       "      <td>NaN</td>\n",
       "      <td>NaN</td>\n",
       "    </tr>\n",
       "    <tr>\n",
       "      <th>2</th>\n",
       "      <td>generic_words</td>\n",
       "      <td>1</td>\n",
       "      <td>c92f21df08c738acb11ec61789e806c8</td>\n",
       "      <td>2020-02-14T03:56:22+0000</td>\n",
       "      <td>VIDEO</td>\n",
       "      <td>STORY</td>\n",
       "      <td>bb6ec127f3234f40a135d2ef79d9a71d</td>\n",
       "      <td>jamieout</td>\n",
       "      <td>NaN</td>\n",
       "      <td>NaN</td>\n",
       "      <td>...</td>\n",
       "      <td>NaN</td>\n",
       "      <td>NaN</td>\n",
       "      <td>163530.0</td>\n",
       "      <td>NaN</td>\n",
       "      <td>NaN</td>\n",
       "      <td>NaN</td>\n",
       "      <td>NaN</td>\n",
       "      <td>NaN</td>\n",
       "      <td>NaN</td>\n",
       "      <td>NaN</td>\n",
       "    </tr>\n",
       "    <tr>\n",
       "      <th>3</th>\n",
       "      <td>generic_words</td>\n",
       "      <td>1</td>\n",
       "      <td>ab79826bdfe331ab86e825bcab202303</td>\n",
       "      <td>2020-02-07T18:20:54+0000</td>\n",
       "      <td>VIDEO</td>\n",
       "      <td>STORY</td>\n",
       "      <td>1faf226854fe4e458facacfd22fe8b79</td>\n",
       "      <td>milynette</td>\n",
       "      <td>NaN</td>\n",
       "      <td>NaN</td>\n",
       "      <td>...</td>\n",
       "      <td>NaN</td>\n",
       "      <td>NaN</td>\n",
       "      <td>1474126.0</td>\n",
       "      <td>NaN</td>\n",
       "      <td>NaN</td>\n",
       "      <td>NaN</td>\n",
       "      <td>NaN</td>\n",
       "      <td>NaN</td>\n",
       "      <td>NaN</td>\n",
       "      <td>NaN</td>\n",
       "    </tr>\n",
       "    <tr>\n",
       "      <th>4</th>\n",
       "      <td>generic_words</td>\n",
       "      <td>1</td>\n",
       "      <td>b212823b4d093de3943e18f25248797f</td>\n",
       "      <td>2020-02-07T23:16:53+0000</td>\n",
       "      <td>VIDEO</td>\n",
       "      <td>STORY</td>\n",
       "      <td>1faf226854fe4e458facacfd22fe8b79</td>\n",
       "      <td>milynette</td>\n",
       "      <td>NaN</td>\n",
       "      <td>NaN</td>\n",
       "      <td>...</td>\n",
       "      <td>NaN</td>\n",
       "      <td>NaN</td>\n",
       "      <td>1474126.0</td>\n",
       "      <td>NaN</td>\n",
       "      <td>NaN</td>\n",
       "      <td>NaN</td>\n",
       "      <td>NaN</td>\n",
       "      <td>NaN</td>\n",
       "      <td>NaN</td>\n",
       "      <td>NaN</td>\n",
       "    </tr>\n",
       "  </tbody>\n",
       "</table>\n",
       "<p>5 rows × 28 columns</p>\n",
       "</div>"
      ],
      "text/plain": [
       "           group  mentions                          post_uid  \\\n",
       "0  generic_words         1  bf612b87e2a533e6bbff4a72f9602721   \n",
       "1  generic_words         1  1879e56cbe2a38beb6086fb6d7cbba5d   \n",
       "2  generic_words         1  c92f21df08c738acb11ec61789e806c8   \n",
       "3  generic_words         1  ab79826bdfe331ab86e825bcab202303   \n",
       "4  generic_words         1  b212823b4d093de3943e18f25248797f   \n",
       "\n",
       "                       date post_type format  \\\n",
       "0  2020-02-12T00:19:58+0000     IMAGE    NaN   \n",
       "1  2020-02-14T03:53:43+0000     IMAGE  STORY   \n",
       "2  2020-02-14T03:56:22+0000     VIDEO  STORY   \n",
       "3  2020-02-07T18:20:54+0000     VIDEO  STORY   \n",
       "4  2020-02-07T23:16:53+0000     VIDEO  STORY   \n",
       "\n",
       "                                uid     author  shared  shared_author  ...  \\\n",
       "0  733167615cbe4c16afe1310786a94875    elrufas     NaN            NaN  ...   \n",
       "1  bb6ec127f3234f40a135d2ef79d9a71d   jamieout     NaN            NaN  ...   \n",
       "2  bb6ec127f3234f40a135d2ef79d9a71d   jamieout     NaN            NaN  ...   \n",
       "3  1faf226854fe4e458facacfd22fe8b79  milynette     NaN            NaN  ...   \n",
       "4  1faf226854fe4e458facacfd22fe8b79  milynette     NaN            NaN  ...   \n",
       "\n",
       "  shares total_engagements potential_reach  eng_rate impressions  yt_dislikes  \\\n",
       "0    0.0           42852.0        472725.0  0.090649         NaN          NaN   \n",
       "1    NaN               NaN        163530.0       NaN         NaN          NaN   \n",
       "2    NaN               NaN        163530.0       NaN         NaN          NaN   \n",
       "3    NaN               NaN       1474126.0       NaN         NaN          NaN   \n",
       "4    NaN               NaN       1474126.0       NaN         NaN          NaN   \n",
       "\n",
       "   avg_ccv  peak_ccv  duration  measured  \n",
       "0      NaN       NaN       NaN       1.0  \n",
       "1      NaN       NaN       NaN       NaN  \n",
       "2      NaN       NaN       NaN       NaN  \n",
       "3      NaN       NaN       NaN       NaN  \n",
       "4      NaN       NaN       NaN       NaN  \n",
       "\n",
       "[5 rows x 28 columns]"
      ]
     },
     "execution_count": 2,
     "metadata": {},
     "output_type": "execute_result"
    }
   ],
   "source": [
    "df = pd.read_csv('/Users/si/data.csv')\n",
    "df.head(5)"
   ]
  },
  {
   "cell_type": "code",
   "execution_count": 3,
   "metadata": {},
   "outputs": [],
   "source": [
    "df['date'] = pd.to_datetime(df['date'])"
   ]
  },
  {
   "cell_type": "code",
   "execution_count": 4,
   "metadata": {},
   "outputs": [
    {
     "data": {
      "text/plain": [
       "Index(['group', 'mentions', 'post_uid', 'date', 'post_type', 'format', 'uid',\n",
       "       'author', 'shared', 'shared_author', 'title', 'url', 'thumbnail_url',\n",
       "       'platform', 'channel_uid', 'video_views', 'reactions', 'comments',\n",
       "       'shares', 'total_engagements', 'potential_reach', 'eng_rate',\n",
       "       'impressions', 'yt_dislikes', 'avg_ccv', 'peak_ccv', 'duration',\n",
       "       'measured'],\n",
       "      dtype='object')"
      ]
     },
     "execution_count": 4,
     "metadata": {},
     "output_type": "execute_result"
    }
   ],
   "source": [
    "df.columns"
   ]
  },
  {
   "cell_type": "code",
   "execution_count": 5,
   "metadata": {},
   "outputs": [],
   "source": [
    "# drop rows where impression is na\n",
    "df.dropna(subset=['impressions'], axis=0, inplace=True)"
   ]
  },
  {
   "cell_type": "code",
   "execution_count": 6,
   "metadata": {},
   "outputs": [
    {
     "name": "stdout",
     "output_type": "stream",
     "text": [
      "<class 'pandas.core.frame.DataFrame'>\n",
      "Int64Index: 940579 entries, 1172 to 1202323\n",
      "Data columns (total 28 columns):\n",
      " #   Column             Non-Null Count   Dtype              \n",
      "---  ------             --------------   -----              \n",
      " 0   group              940579 non-null  object             \n",
      " 1   mentions           940579 non-null  int64              \n",
      " 2   post_uid           940579 non-null  object             \n",
      " 3   date               940579 non-null  datetime64[ns, UTC]\n",
      " 4   post_type          940579 non-null  object             \n",
      " 5   format             678098 non-null  object             \n",
      " 6   uid                940579 non-null  object             \n",
      " 7   author             940579 non-null  object             \n",
      " 8   shared             0 non-null       float64            \n",
      " 9   shared_author      0 non-null       float64            \n",
      " 10  title              940553 non-null  object             \n",
      " 11  url                940579 non-null  object             \n",
      " 12  thumbnail_url      940579 non-null  object             \n",
      " 13  platform           940579 non-null  object             \n",
      " 14  channel_uid        940579 non-null  object             \n",
      " 15  video_views        33698 non-null   float64            \n",
      " 16  reactions          262481 non-null  float64            \n",
      " 17  comments           261494 non-null  float64            \n",
      " 18  shares             0 non-null       float64            \n",
      " 19  total_engagements  940579 non-null  float64            \n",
      " 20  potential_reach    940549 non-null  float64            \n",
      " 21  eng_rate           940540 non-null  float64            \n",
      " 22  impressions        940579 non-null  float64            \n",
      " 23  yt_dislikes        0 non-null       float64            \n",
      " 24  avg_ccv            0 non-null       float64            \n",
      " 25  peak_ccv           0 non-null       float64            \n",
      " 26  duration           0 non-null       float64            \n",
      " 27  measured           940579 non-null  float64            \n",
      "dtypes: datetime64[ns, UTC](1), float64(15), int64(1), object(11)\n",
      "memory usage: 208.1+ MB\n"
     ]
    }
   ],
   "source": [
    "df.info()"
   ]
  },
  {
   "cell_type": "code",
   "execution_count": 7,
   "metadata": {},
   "outputs": [
    {
     "data": {
      "text/html": [
       "<div>\n",
       "<style scoped>\n",
       "    .dataframe tbody tr th:only-of-type {\n",
       "        vertical-align: middle;\n",
       "    }\n",
       "\n",
       "    .dataframe tbody tr th {\n",
       "        vertical-align: top;\n",
       "    }\n",
       "\n",
       "    .dataframe thead th {\n",
       "        text-align: right;\n",
       "    }\n",
       "</style>\n",
       "<table border=\"1\" class=\"dataframe\">\n",
       "  <thead>\n",
       "    <tr style=\"text-align: right;\">\n",
       "      <th></th>\n",
       "      <th>group</th>\n",
       "      <th>mentions</th>\n",
       "      <th>post_uid</th>\n",
       "      <th>date</th>\n",
       "      <th>post_type</th>\n",
       "      <th>format</th>\n",
       "      <th>uid</th>\n",
       "      <th>author</th>\n",
       "      <th>shared</th>\n",
       "      <th>shared_author</th>\n",
       "      <th>...</th>\n",
       "      <th>shares</th>\n",
       "      <th>total_engagements</th>\n",
       "      <th>potential_reach</th>\n",
       "      <th>eng_rate</th>\n",
       "      <th>impressions</th>\n",
       "      <th>yt_dislikes</th>\n",
       "      <th>avg_ccv</th>\n",
       "      <th>peak_ccv</th>\n",
       "      <th>duration</th>\n",
       "      <th>measured</th>\n",
       "    </tr>\n",
       "  </thead>\n",
       "  <tbody>\n",
       "    <tr>\n",
       "      <th>2629</th>\n",
       "      <td>generic_words</td>\n",
       "      <td>1</td>\n",
       "      <td>54b51e729d4636d8b828114946d5d313</td>\n",
       "      <td>2021-01-02 00:44:52+00:00</td>\n",
       "      <td>IMAGE</td>\n",
       "      <td>STORY</td>\n",
       "      <td>fca25ed9812245c9a096a909b997df0f</td>\n",
       "      <td>glambymykaila</td>\n",
       "      <td>NaN</td>\n",
       "      <td>NaN</td>\n",
       "      <td>...</td>\n",
       "      <td>NaN</td>\n",
       "      <td>0.0</td>\n",
       "      <td>78195.0</td>\n",
       "      <td>0.000000</td>\n",
       "      <td>1194.0</td>\n",
       "      <td>NaN</td>\n",
       "      <td>NaN</td>\n",
       "      <td>NaN</td>\n",
       "      <td>NaN</td>\n",
       "      <td>1.0</td>\n",
       "    </tr>\n",
       "    <tr>\n",
       "      <th>2630</th>\n",
       "      <td>generic_words</td>\n",
       "      <td>1</td>\n",
       "      <td>b3c7f2d2ca763737911b243661b6922a</td>\n",
       "      <td>2021-01-02 00:41:47+00:00</td>\n",
       "      <td>IMAGE</td>\n",
       "      <td>STORY</td>\n",
       "      <td>fca25ed9812245c9a096a909b997df0f</td>\n",
       "      <td>glambymykaila</td>\n",
       "      <td>NaN</td>\n",
       "      <td>NaN</td>\n",
       "      <td>...</td>\n",
       "      <td>NaN</td>\n",
       "      <td>0.0</td>\n",
       "      <td>78195.0</td>\n",
       "      <td>0.000000</td>\n",
       "      <td>1283.0</td>\n",
       "      <td>NaN</td>\n",
       "      <td>NaN</td>\n",
       "      <td>NaN</td>\n",
       "      <td>NaN</td>\n",
       "      <td>1.0</td>\n",
       "    </tr>\n",
       "    <tr>\n",
       "      <th>2631</th>\n",
       "      <td>generic_words</td>\n",
       "      <td>1</td>\n",
       "      <td>435c752614a137abb18a6817ac751e6e</td>\n",
       "      <td>2021-01-02 00:53:45+00:00</td>\n",
       "      <td>IMAGE</td>\n",
       "      <td>STORY</td>\n",
       "      <td>cb7968b5f0c248f388b4bf3b0a0afcdb</td>\n",
       "      <td>sharmtoaster</td>\n",
       "      <td>NaN</td>\n",
       "      <td>NaN</td>\n",
       "      <td>...</td>\n",
       "      <td>NaN</td>\n",
       "      <td>0.0</td>\n",
       "      <td>44497.0</td>\n",
       "      <td>0.000000</td>\n",
       "      <td>2435.0</td>\n",
       "      <td>NaN</td>\n",
       "      <td>NaN</td>\n",
       "      <td>NaN</td>\n",
       "      <td>NaN</td>\n",
       "      <td>1.0</td>\n",
       "    </tr>\n",
       "    <tr>\n",
       "      <th>2648</th>\n",
       "      <td>generic_words</td>\n",
       "      <td>1</td>\n",
       "      <td>2d64972d3e653da5baa3b5259c35b9b0</td>\n",
       "      <td>2021-01-01 14:34:56+00:00</td>\n",
       "      <td>VIDEO</td>\n",
       "      <td>STORY</td>\n",
       "      <td>fca25ed9812245c9a096a909b997df0f</td>\n",
       "      <td>glambymykaila</td>\n",
       "      <td>NaN</td>\n",
       "      <td>NaN</td>\n",
       "      <td>...</td>\n",
       "      <td>NaN</td>\n",
       "      <td>0.0</td>\n",
       "      <td>78195.0</td>\n",
       "      <td>0.000000</td>\n",
       "      <td>860.0</td>\n",
       "      <td>NaN</td>\n",
       "      <td>NaN</td>\n",
       "      <td>NaN</td>\n",
       "      <td>NaN</td>\n",
       "      <td>1.0</td>\n",
       "    </tr>\n",
       "    <tr>\n",
       "      <th>2649</th>\n",
       "      <td>generic_words</td>\n",
       "      <td>1</td>\n",
       "      <td>45bc9aa6e24a3660abaab55b9a001adc</td>\n",
       "      <td>2021-01-01 16:51:31+00:00</td>\n",
       "      <td>IMAGE</td>\n",
       "      <td>STORY</td>\n",
       "      <td>744a9c7087e34b7386e217c2b7b39960</td>\n",
       "      <td>hollysilius</td>\n",
       "      <td>NaN</td>\n",
       "      <td>NaN</td>\n",
       "      <td>...</td>\n",
       "      <td>NaN</td>\n",
       "      <td>0.0</td>\n",
       "      <td>36754.0</td>\n",
       "      <td>0.000000</td>\n",
       "      <td>389.0</td>\n",
       "      <td>NaN</td>\n",
       "      <td>NaN</td>\n",
       "      <td>NaN</td>\n",
       "      <td>NaN</td>\n",
       "      <td>1.0</td>\n",
       "    </tr>\n",
       "    <tr>\n",
       "      <th>...</th>\n",
       "      <td>...</td>\n",
       "      <td>...</td>\n",
       "      <td>...</td>\n",
       "      <td>...</td>\n",
       "      <td>...</td>\n",
       "      <td>...</td>\n",
       "      <td>...</td>\n",
       "      <td>...</td>\n",
       "      <td>...</td>\n",
       "      <td>...</td>\n",
       "      <td>...</td>\n",
       "      <td>...</td>\n",
       "      <td>...</td>\n",
       "      <td>...</td>\n",
       "      <td>...</td>\n",
       "      <td>...</td>\n",
       "      <td>...</td>\n",
       "      <td>...</td>\n",
       "      <td>...</td>\n",
       "      <td>...</td>\n",
       "      <td>...</td>\n",
       "    </tr>\n",
       "    <tr>\n",
       "      <th>1202027</th>\n",
       "      <td>generic_words</td>\n",
       "      <td>1</td>\n",
       "      <td>3a902aba18ea34d3b70fba5bcbe76f8f</td>\n",
       "      <td>2021-01-09 11:28:13+00:00</td>\n",
       "      <td>IMAGE</td>\n",
       "      <td>NaN</td>\n",
       "      <td>aa1d9fbca2264864a4ecd1305ab950df</td>\n",
       "      <td>aglimpseofrach</td>\n",
       "      <td>NaN</td>\n",
       "      <td>NaN</td>\n",
       "      <td>...</td>\n",
       "      <td>NaN</td>\n",
       "      <td>723.0</td>\n",
       "      <td>21375.0</td>\n",
       "      <td>0.033825</td>\n",
       "      <td>35141.0</td>\n",
       "      <td>NaN</td>\n",
       "      <td>NaN</td>\n",
       "      <td>NaN</td>\n",
       "      <td>NaN</td>\n",
       "      <td>1.0</td>\n",
       "    </tr>\n",
       "    <tr>\n",
       "      <th>1202034</th>\n",
       "      <td>generic_words</td>\n",
       "      <td>1</td>\n",
       "      <td>31e5675dc75a35f2933c4fbbde32df49</td>\n",
       "      <td>2021-01-14 09:20:20+00:00</td>\n",
       "      <td>IMAGE</td>\n",
       "      <td>NaN</td>\n",
       "      <td>aa1d9fbca2264864a4ecd1305ab950df</td>\n",
       "      <td>aglimpseofrach</td>\n",
       "      <td>NaN</td>\n",
       "      <td>NaN</td>\n",
       "      <td>...</td>\n",
       "      <td>NaN</td>\n",
       "      <td>923.0</td>\n",
       "      <td>21375.0</td>\n",
       "      <td>0.043181</td>\n",
       "      <td>44990.0</td>\n",
       "      <td>NaN</td>\n",
       "      <td>NaN</td>\n",
       "      <td>NaN</td>\n",
       "      <td>NaN</td>\n",
       "      <td>1.0</td>\n",
       "    </tr>\n",
       "    <tr>\n",
       "      <th>1202044</th>\n",
       "      <td>generic_words</td>\n",
       "      <td>1</td>\n",
       "      <td>fa3dfec681dd33aaac8399e4d593cedc</td>\n",
       "      <td>2021-01-12 11:49:41+00:00</td>\n",
       "      <td>IMAGE</td>\n",
       "      <td>NaN</td>\n",
       "      <td>aa1d9fbca2264864a4ecd1305ab950df</td>\n",
       "      <td>aglimpseofrach</td>\n",
       "      <td>NaN</td>\n",
       "      <td>NaN</td>\n",
       "      <td>...</td>\n",
       "      <td>NaN</td>\n",
       "      <td>323.0</td>\n",
       "      <td>21375.0</td>\n",
       "      <td>0.015111</td>\n",
       "      <td>9244.0</td>\n",
       "      <td>NaN</td>\n",
       "      <td>NaN</td>\n",
       "      <td>NaN</td>\n",
       "      <td>NaN</td>\n",
       "      <td>1.0</td>\n",
       "    </tr>\n",
       "    <tr>\n",
       "      <th>1202049</th>\n",
       "      <td>generic_words</td>\n",
       "      <td>1</td>\n",
       "      <td>c99a6e1ff7c23793a543aba037645b3a</td>\n",
       "      <td>2021-01-11 10:29:27+00:00</td>\n",
       "      <td>IMAGE</td>\n",
       "      <td>NaN</td>\n",
       "      <td>aa1d9fbca2264864a4ecd1305ab950df</td>\n",
       "      <td>aglimpseofrach</td>\n",
       "      <td>NaN</td>\n",
       "      <td>NaN</td>\n",
       "      <td>...</td>\n",
       "      <td>NaN</td>\n",
       "      <td>502.0</td>\n",
       "      <td>21375.0</td>\n",
       "      <td>0.023485</td>\n",
       "      <td>14366.0</td>\n",
       "      <td>NaN</td>\n",
       "      <td>NaN</td>\n",
       "      <td>NaN</td>\n",
       "      <td>NaN</td>\n",
       "      <td>1.0</td>\n",
       "    </tr>\n",
       "    <tr>\n",
       "      <th>1202062</th>\n",
       "      <td>generic_words</td>\n",
       "      <td>1</td>\n",
       "      <td>bc47d83177cb3245afddde4e3e8274fd</td>\n",
       "      <td>2021-01-07 11:51:56+00:00</td>\n",
       "      <td>VIDEO</td>\n",
       "      <td>NaN</td>\n",
       "      <td>aa1d9fbca2264864a4ecd1305ab950df</td>\n",
       "      <td>aglimpseofrach</td>\n",
       "      <td>NaN</td>\n",
       "      <td>NaN</td>\n",
       "      <td>...</td>\n",
       "      <td>NaN</td>\n",
       "      <td>196.0</td>\n",
       "      <td>21142.0</td>\n",
       "      <td>0.009271</td>\n",
       "      <td>9733.0</td>\n",
       "      <td>NaN</td>\n",
       "      <td>NaN</td>\n",
       "      <td>NaN</td>\n",
       "      <td>NaN</td>\n",
       "      <td>1.0</td>\n",
       "    </tr>\n",
       "  </tbody>\n",
       "</table>\n",
       "<p>43883 rows × 28 columns</p>\n",
       "</div>"
      ],
      "text/plain": [
       "                 group  mentions                          post_uid  \\\n",
       "2629     generic_words         1  54b51e729d4636d8b828114946d5d313   \n",
       "2630     generic_words         1  b3c7f2d2ca763737911b243661b6922a   \n",
       "2631     generic_words         1  435c752614a137abb18a6817ac751e6e   \n",
       "2648     generic_words         1  2d64972d3e653da5baa3b5259c35b9b0   \n",
       "2649     generic_words         1  45bc9aa6e24a3660abaab55b9a001adc   \n",
       "...                ...       ...                               ...   \n",
       "1202027  generic_words         1  3a902aba18ea34d3b70fba5bcbe76f8f   \n",
       "1202034  generic_words         1  31e5675dc75a35f2933c4fbbde32df49   \n",
       "1202044  generic_words         1  fa3dfec681dd33aaac8399e4d593cedc   \n",
       "1202049  generic_words         1  c99a6e1ff7c23793a543aba037645b3a   \n",
       "1202062  generic_words         1  bc47d83177cb3245afddde4e3e8274fd   \n",
       "\n",
       "                             date post_type format  \\\n",
       "2629    2021-01-02 00:44:52+00:00     IMAGE  STORY   \n",
       "2630    2021-01-02 00:41:47+00:00     IMAGE  STORY   \n",
       "2631    2021-01-02 00:53:45+00:00     IMAGE  STORY   \n",
       "2648    2021-01-01 14:34:56+00:00     VIDEO  STORY   \n",
       "2649    2021-01-01 16:51:31+00:00     IMAGE  STORY   \n",
       "...                           ...       ...    ...   \n",
       "1202027 2021-01-09 11:28:13+00:00     IMAGE    NaN   \n",
       "1202034 2021-01-14 09:20:20+00:00     IMAGE    NaN   \n",
       "1202044 2021-01-12 11:49:41+00:00     IMAGE    NaN   \n",
       "1202049 2021-01-11 10:29:27+00:00     IMAGE    NaN   \n",
       "1202062 2021-01-07 11:51:56+00:00     VIDEO    NaN   \n",
       "\n",
       "                                      uid          author  shared  \\\n",
       "2629     fca25ed9812245c9a096a909b997df0f   glambymykaila     NaN   \n",
       "2630     fca25ed9812245c9a096a909b997df0f   glambymykaila     NaN   \n",
       "2631     cb7968b5f0c248f388b4bf3b0a0afcdb    sharmtoaster     NaN   \n",
       "2648     fca25ed9812245c9a096a909b997df0f   glambymykaila     NaN   \n",
       "2649     744a9c7087e34b7386e217c2b7b39960     hollysilius     NaN   \n",
       "...                                   ...             ...     ...   \n",
       "1202027  aa1d9fbca2264864a4ecd1305ab950df  aglimpseofrach     NaN   \n",
       "1202034  aa1d9fbca2264864a4ecd1305ab950df  aglimpseofrach     NaN   \n",
       "1202044  aa1d9fbca2264864a4ecd1305ab950df  aglimpseofrach     NaN   \n",
       "1202049  aa1d9fbca2264864a4ecd1305ab950df  aglimpseofrach     NaN   \n",
       "1202062  aa1d9fbca2264864a4ecd1305ab950df  aglimpseofrach     NaN   \n",
       "\n",
       "         shared_author  ... shares total_engagements potential_reach  \\\n",
       "2629               NaN  ...    NaN               0.0         78195.0   \n",
       "2630               NaN  ...    NaN               0.0         78195.0   \n",
       "2631               NaN  ...    NaN               0.0         44497.0   \n",
       "2648               NaN  ...    NaN               0.0         78195.0   \n",
       "2649               NaN  ...    NaN               0.0         36754.0   \n",
       "...                ...  ...    ...               ...             ...   \n",
       "1202027            NaN  ...    NaN             723.0         21375.0   \n",
       "1202034            NaN  ...    NaN             923.0         21375.0   \n",
       "1202044            NaN  ...    NaN             323.0         21375.0   \n",
       "1202049            NaN  ...    NaN             502.0         21375.0   \n",
       "1202062            NaN  ...    NaN             196.0         21142.0   \n",
       "\n",
       "         eng_rate impressions  yt_dislikes  avg_ccv  peak_ccv  duration  \\\n",
       "2629     0.000000      1194.0          NaN      NaN       NaN       NaN   \n",
       "2630     0.000000      1283.0          NaN      NaN       NaN       NaN   \n",
       "2631     0.000000      2435.0          NaN      NaN       NaN       NaN   \n",
       "2648     0.000000       860.0          NaN      NaN       NaN       NaN   \n",
       "2649     0.000000       389.0          NaN      NaN       NaN       NaN   \n",
       "...           ...         ...          ...      ...       ...       ...   \n",
       "1202027  0.033825     35141.0          NaN      NaN       NaN       NaN   \n",
       "1202034  0.043181     44990.0          NaN      NaN       NaN       NaN   \n",
       "1202044  0.015111      9244.0          NaN      NaN       NaN       NaN   \n",
       "1202049  0.023485     14366.0          NaN      NaN       NaN       NaN   \n",
       "1202062  0.009271      9733.0          NaN      NaN       NaN       NaN   \n",
       "\n",
       "         measured  \n",
       "2629          1.0  \n",
       "2630          1.0  \n",
       "2631          1.0  \n",
       "2648          1.0  \n",
       "2649          1.0  \n",
       "...           ...  \n",
       "1202027       1.0  \n",
       "1202034       1.0  \n",
       "1202044       1.0  \n",
       "1202049       1.0  \n",
       "1202062       1.0  \n",
       "\n",
       "[43883 rows x 28 columns]"
      ]
     },
     "execution_count": 7,
     "metadata": {},
     "output_type": "execute_result"
    }
   ],
   "source": [
    "validation_df = df[(df['date']>='2021-01-01') & (df['date']<='2021-01-15')]\n",
    "validation_df"
   ]
  },
  {
   "cell_type": "code",
   "execution_count": 8,
   "metadata": {},
   "outputs": [
    {
     "data": {
      "text/html": [
       "<div>\n",
       "<style scoped>\n",
       "    .dataframe tbody tr th:only-of-type {\n",
       "        vertical-align: middle;\n",
       "    }\n",
       "\n",
       "    .dataframe tbody tr th {\n",
       "        vertical-align: top;\n",
       "    }\n",
       "\n",
       "    .dataframe thead th {\n",
       "        text-align: right;\n",
       "    }\n",
       "</style>\n",
       "<table border=\"1\" class=\"dataframe\">\n",
       "  <thead>\n",
       "    <tr style=\"text-align: right;\">\n",
       "      <th></th>\n",
       "      <th>group</th>\n",
       "      <th>mentions</th>\n",
       "      <th>post_uid</th>\n",
       "      <th>date</th>\n",
       "      <th>post_type</th>\n",
       "      <th>format</th>\n",
       "      <th>uid</th>\n",
       "      <th>author</th>\n",
       "      <th>shared</th>\n",
       "      <th>shared_author</th>\n",
       "      <th>...</th>\n",
       "      <th>shares</th>\n",
       "      <th>total_engagements</th>\n",
       "      <th>potential_reach</th>\n",
       "      <th>eng_rate</th>\n",
       "      <th>impressions</th>\n",
       "      <th>yt_dislikes</th>\n",
       "      <th>avg_ccv</th>\n",
       "      <th>peak_ccv</th>\n",
       "      <th>duration</th>\n",
       "      <th>measured</th>\n",
       "    </tr>\n",
       "  </thead>\n",
       "  <tbody>\n",
       "    <tr>\n",
       "      <th>1172</th>\n",
       "      <td>generic_words</td>\n",
       "      <td>1</td>\n",
       "      <td>97f7d51b3e65349a8f0ec4d4ca85ca0b</td>\n",
       "      <td>2020-12-14 14:53:48+00:00</td>\n",
       "      <td>VIDEO</td>\n",
       "      <td>STORY</td>\n",
       "      <td>8be15a69487a470da853acf748f3d686</td>\n",
       "      <td>kayavine</td>\n",
       "      <td>NaN</td>\n",
       "      <td>NaN</td>\n",
       "      <td>...</td>\n",
       "      <td>NaN</td>\n",
       "      <td>0.0</td>\n",
       "      <td>903497.0</td>\n",
       "      <td>0.000000</td>\n",
       "      <td>45802.0</td>\n",
       "      <td>NaN</td>\n",
       "      <td>NaN</td>\n",
       "      <td>NaN</td>\n",
       "      <td>NaN</td>\n",
       "      <td>1.0</td>\n",
       "    </tr>\n",
       "    <tr>\n",
       "      <th>1178</th>\n",
       "      <td>generic_words</td>\n",
       "      <td>1</td>\n",
       "      <td>2b040b8be24439ebb48af5b5c5c21510</td>\n",
       "      <td>2020-12-14 17:07:35+00:00</td>\n",
       "      <td>IMAGE</td>\n",
       "      <td>STORY</td>\n",
       "      <td>beef4076dffa49d4aee9ad736c2f8186</td>\n",
       "      <td>annamaradan</td>\n",
       "      <td>NaN</td>\n",
       "      <td>NaN</td>\n",
       "      <td>...</td>\n",
       "      <td>NaN</td>\n",
       "      <td>0.0</td>\n",
       "      <td>34712.0</td>\n",
       "      <td>0.000000</td>\n",
       "      <td>1275.0</td>\n",
       "      <td>NaN</td>\n",
       "      <td>NaN</td>\n",
       "      <td>NaN</td>\n",
       "      <td>NaN</td>\n",
       "      <td>1.0</td>\n",
       "    </tr>\n",
       "    <tr>\n",
       "      <th>1179</th>\n",
       "      <td>generic_words</td>\n",
       "      <td>1</td>\n",
       "      <td>9fbf928f88063d41bbf8b8e71b41699b</td>\n",
       "      <td>2020-12-14 17:19:48+00:00</td>\n",
       "      <td>VIDEO</td>\n",
       "      <td>STORY</td>\n",
       "      <td>8a75a10c16a446aeb30fec84aabc8e4a</td>\n",
       "      <td>themantraco</td>\n",
       "      <td>NaN</td>\n",
       "      <td>NaN</td>\n",
       "      <td>...</td>\n",
       "      <td>NaN</td>\n",
       "      <td>0.0</td>\n",
       "      <td>1062524.0</td>\n",
       "      <td>0.000000</td>\n",
       "      <td>11481.0</td>\n",
       "      <td>NaN</td>\n",
       "      <td>NaN</td>\n",
       "      <td>NaN</td>\n",
       "      <td>NaN</td>\n",
       "      <td>1.0</td>\n",
       "    </tr>\n",
       "    <tr>\n",
       "      <th>1180</th>\n",
       "      <td>generic_words</td>\n",
       "      <td>1</td>\n",
       "      <td>cbe95041d3673f038df167647b3380a3</td>\n",
       "      <td>2020-12-13 15:30:07+00:00</td>\n",
       "      <td>VIDEO</td>\n",
       "      <td>STORY</td>\n",
       "      <td>7f607f0de7b045f69e9086d22608c571</td>\n",
       "      <td>loveandsundays</td>\n",
       "      <td>NaN</td>\n",
       "      <td>NaN</td>\n",
       "      <td>...</td>\n",
       "      <td>NaN</td>\n",
       "      <td>0.0</td>\n",
       "      <td>29993.0</td>\n",
       "      <td>0.000000</td>\n",
       "      <td>1698.0</td>\n",
       "      <td>NaN</td>\n",
       "      <td>NaN</td>\n",
       "      <td>NaN</td>\n",
       "      <td>NaN</td>\n",
       "      <td>1.0</td>\n",
       "    </tr>\n",
       "    <tr>\n",
       "      <th>1181</th>\n",
       "      <td>generic_words</td>\n",
       "      <td>1</td>\n",
       "      <td>71c80103bf6f378091bde400166914ba</td>\n",
       "      <td>2020-12-13 13:17:45+00:00</td>\n",
       "      <td>VIDEO</td>\n",
       "      <td>STORY</td>\n",
       "      <td>7f607f0de7b045f69e9086d22608c571</td>\n",
       "      <td>loveandsundays</td>\n",
       "      <td>NaN</td>\n",
       "      <td>NaN</td>\n",
       "      <td>...</td>\n",
       "      <td>NaN</td>\n",
       "      <td>0.0</td>\n",
       "      <td>29993.0</td>\n",
       "      <td>0.000000</td>\n",
       "      <td>1832.0</td>\n",
       "      <td>NaN</td>\n",
       "      <td>NaN</td>\n",
       "      <td>NaN</td>\n",
       "      <td>NaN</td>\n",
       "      <td>1.0</td>\n",
       "    </tr>\n",
       "    <tr>\n",
       "      <th>...</th>\n",
       "      <td>...</td>\n",
       "      <td>...</td>\n",
       "      <td>...</td>\n",
       "      <td>...</td>\n",
       "      <td>...</td>\n",
       "      <td>...</td>\n",
       "      <td>...</td>\n",
       "      <td>...</td>\n",
       "      <td>...</td>\n",
       "      <td>...</td>\n",
       "      <td>...</td>\n",
       "      <td>...</td>\n",
       "      <td>...</td>\n",
       "      <td>...</td>\n",
       "      <td>...</td>\n",
       "      <td>...</td>\n",
       "      <td>...</td>\n",
       "      <td>...</td>\n",
       "      <td>...</td>\n",
       "      <td>...</td>\n",
       "      <td>...</td>\n",
       "    </tr>\n",
       "    <tr>\n",
       "      <th>1202079</th>\n",
       "      <td>generic_words</td>\n",
       "      <td>1</td>\n",
       "      <td>b5fd1440011b36109f874436ed5834b5</td>\n",
       "      <td>2020-12-30 11:29:17+00:00</td>\n",
       "      <td>IMAGE</td>\n",
       "      <td>NaN</td>\n",
       "      <td>a2773654c1cc426ca493bdd4a98728ea</td>\n",
       "      <td>dudu_kgoebane</td>\n",
       "      <td>NaN</td>\n",
       "      <td>NaN</td>\n",
       "      <td>...</td>\n",
       "      <td>NaN</td>\n",
       "      <td>1327.0</td>\n",
       "      <td>12048.0</td>\n",
       "      <td>0.110143</td>\n",
       "      <td>12062.0</td>\n",
       "      <td>NaN</td>\n",
       "      <td>NaN</td>\n",
       "      <td>NaN</td>\n",
       "      <td>NaN</td>\n",
       "      <td>1.0</td>\n",
       "    </tr>\n",
       "    <tr>\n",
       "      <th>1202080</th>\n",
       "      <td>generic_words</td>\n",
       "      <td>1</td>\n",
       "      <td>c738fe7f060b3994bbc860aaf2e98bf9</td>\n",
       "      <td>2020-12-30 19:56:46+00:00</td>\n",
       "      <td>IMAGE</td>\n",
       "      <td>NaN</td>\n",
       "      <td>74abc35429a74bca949869f734c1ec8a</td>\n",
       "      <td>ianfrombigtiregarage</td>\n",
       "      <td>NaN</td>\n",
       "      <td>NaN</td>\n",
       "      <td>...</td>\n",
       "      <td>NaN</td>\n",
       "      <td>1313.0</td>\n",
       "      <td>98267.0</td>\n",
       "      <td>0.013362</td>\n",
       "      <td>27329.0</td>\n",
       "      <td>NaN</td>\n",
       "      <td>NaN</td>\n",
       "      <td>NaN</td>\n",
       "      <td>NaN</td>\n",
       "      <td>1.0</td>\n",
       "    </tr>\n",
       "    <tr>\n",
       "      <th>1202081</th>\n",
       "      <td>generic_words</td>\n",
       "      <td>1</td>\n",
       "      <td>5b7db89d54b53d8084210e95870d590b</td>\n",
       "      <td>2020-12-30 15:40:50+00:00</td>\n",
       "      <td>IMAGE</td>\n",
       "      <td>NaN</td>\n",
       "      <td>eea5a41fc74f44bda00bf1169c70c066</td>\n",
       "      <td>vickymartinberrocal</td>\n",
       "      <td>NaN</td>\n",
       "      <td>NaN</td>\n",
       "      <td>...</td>\n",
       "      <td>NaN</td>\n",
       "      <td>11860.0</td>\n",
       "      <td>1001471.0</td>\n",
       "      <td>0.011843</td>\n",
       "      <td>338104.0</td>\n",
       "      <td>NaN</td>\n",
       "      <td>NaN</td>\n",
       "      <td>NaN</td>\n",
       "      <td>NaN</td>\n",
       "      <td>1.0</td>\n",
       "    </tr>\n",
       "    <tr>\n",
       "      <th>1202082</th>\n",
       "      <td>generic_words</td>\n",
       "      <td>1</td>\n",
       "      <td>66754d981aab3aaf8dfd8469eff56c96</td>\n",
       "      <td>2020-12-30 12:36:56+00:00</td>\n",
       "      <td>IMAGE</td>\n",
       "      <td>NaN</td>\n",
       "      <td>d21151feda474482b3618772116ba906</td>\n",
       "      <td>thebakerbeauty</td>\n",
       "      <td>NaN</td>\n",
       "      <td>NaN</td>\n",
       "      <td>...</td>\n",
       "      <td>NaN</td>\n",
       "      <td>321.0</td>\n",
       "      <td>2603.0</td>\n",
       "      <td>0.123319</td>\n",
       "      <td>825.0</td>\n",
       "      <td>NaN</td>\n",
       "      <td>NaN</td>\n",
       "      <td>NaN</td>\n",
       "      <td>NaN</td>\n",
       "      <td>1.0</td>\n",
       "    </tr>\n",
       "    <tr>\n",
       "      <th>1202083</th>\n",
       "      <td>generic_words</td>\n",
       "      <td>1</td>\n",
       "      <td>46172df2f2f437deae2398078cb41175</td>\n",
       "      <td>2020-12-30 16:02:43+00:00</td>\n",
       "      <td>IMAGE</td>\n",
       "      <td>NaN</td>\n",
       "      <td>22b77d71adc943afb415ca54e609fca4</td>\n",
       "      <td>sharonkmwangi</td>\n",
       "      <td>NaN</td>\n",
       "      <td>NaN</td>\n",
       "      <td>...</td>\n",
       "      <td>NaN</td>\n",
       "      <td>6160.0</td>\n",
       "      <td>131476.0</td>\n",
       "      <td>0.046853</td>\n",
       "      <td>49301.0</td>\n",
       "      <td>NaN</td>\n",
       "      <td>NaN</td>\n",
       "      <td>NaN</td>\n",
       "      <td>NaN</td>\n",
       "      <td>1.0</td>\n",
       "    </tr>\n",
       "  </tbody>\n",
       "</table>\n",
       "<p>614310 rows × 28 columns</p>\n",
       "</div>"
      ],
      "text/plain": [
       "                 group  mentions                          post_uid  \\\n",
       "1172     generic_words         1  97f7d51b3e65349a8f0ec4d4ca85ca0b   \n",
       "1178     generic_words         1  2b040b8be24439ebb48af5b5c5c21510   \n",
       "1179     generic_words         1  9fbf928f88063d41bbf8b8e71b41699b   \n",
       "1180     generic_words         1  cbe95041d3673f038df167647b3380a3   \n",
       "1181     generic_words         1  71c80103bf6f378091bde400166914ba   \n",
       "...                ...       ...                               ...   \n",
       "1202079  generic_words         1  b5fd1440011b36109f874436ed5834b5   \n",
       "1202080  generic_words         1  c738fe7f060b3994bbc860aaf2e98bf9   \n",
       "1202081  generic_words         1  5b7db89d54b53d8084210e95870d590b   \n",
       "1202082  generic_words         1  66754d981aab3aaf8dfd8469eff56c96   \n",
       "1202083  generic_words         1  46172df2f2f437deae2398078cb41175   \n",
       "\n",
       "                             date post_type format  \\\n",
       "1172    2020-12-14 14:53:48+00:00     VIDEO  STORY   \n",
       "1178    2020-12-14 17:07:35+00:00     IMAGE  STORY   \n",
       "1179    2020-12-14 17:19:48+00:00     VIDEO  STORY   \n",
       "1180    2020-12-13 15:30:07+00:00     VIDEO  STORY   \n",
       "1181    2020-12-13 13:17:45+00:00     VIDEO  STORY   \n",
       "...                           ...       ...    ...   \n",
       "1202079 2020-12-30 11:29:17+00:00     IMAGE    NaN   \n",
       "1202080 2020-12-30 19:56:46+00:00     IMAGE    NaN   \n",
       "1202081 2020-12-30 15:40:50+00:00     IMAGE    NaN   \n",
       "1202082 2020-12-30 12:36:56+00:00     IMAGE    NaN   \n",
       "1202083 2020-12-30 16:02:43+00:00     IMAGE    NaN   \n",
       "\n",
       "                                      uid                author  shared  \\\n",
       "1172     8be15a69487a470da853acf748f3d686              kayavine     NaN   \n",
       "1178     beef4076dffa49d4aee9ad736c2f8186           annamaradan     NaN   \n",
       "1179     8a75a10c16a446aeb30fec84aabc8e4a           themantraco     NaN   \n",
       "1180     7f607f0de7b045f69e9086d22608c571        loveandsundays     NaN   \n",
       "1181     7f607f0de7b045f69e9086d22608c571        loveandsundays     NaN   \n",
       "...                                   ...                   ...     ...   \n",
       "1202079  a2773654c1cc426ca493bdd4a98728ea         dudu_kgoebane     NaN   \n",
       "1202080  74abc35429a74bca949869f734c1ec8a  ianfrombigtiregarage     NaN   \n",
       "1202081  eea5a41fc74f44bda00bf1169c70c066   vickymartinberrocal     NaN   \n",
       "1202082  d21151feda474482b3618772116ba906        thebakerbeauty     NaN   \n",
       "1202083  22b77d71adc943afb415ca54e609fca4         sharonkmwangi     NaN   \n",
       "\n",
       "         shared_author  ... shares total_engagements potential_reach  \\\n",
       "1172               NaN  ...    NaN               0.0        903497.0   \n",
       "1178               NaN  ...    NaN               0.0         34712.0   \n",
       "1179               NaN  ...    NaN               0.0       1062524.0   \n",
       "1180               NaN  ...    NaN               0.0         29993.0   \n",
       "1181               NaN  ...    NaN               0.0         29993.0   \n",
       "...                ...  ...    ...               ...             ...   \n",
       "1202079            NaN  ...    NaN            1327.0         12048.0   \n",
       "1202080            NaN  ...    NaN            1313.0         98267.0   \n",
       "1202081            NaN  ...    NaN           11860.0       1001471.0   \n",
       "1202082            NaN  ...    NaN             321.0          2603.0   \n",
       "1202083            NaN  ...    NaN            6160.0        131476.0   \n",
       "\n",
       "         eng_rate impressions  yt_dislikes  avg_ccv  peak_ccv  duration  \\\n",
       "1172     0.000000     45802.0          NaN      NaN       NaN       NaN   \n",
       "1178     0.000000      1275.0          NaN      NaN       NaN       NaN   \n",
       "1179     0.000000     11481.0          NaN      NaN       NaN       NaN   \n",
       "1180     0.000000      1698.0          NaN      NaN       NaN       NaN   \n",
       "1181     0.000000      1832.0          NaN      NaN       NaN       NaN   \n",
       "...           ...         ...          ...      ...       ...       ...   \n",
       "1202079  0.110143     12062.0          NaN      NaN       NaN       NaN   \n",
       "1202080  0.013362     27329.0          NaN      NaN       NaN       NaN   \n",
       "1202081  0.011843    338104.0          NaN      NaN       NaN       NaN   \n",
       "1202082  0.123319       825.0          NaN      NaN       NaN       NaN   \n",
       "1202083  0.046853     49301.0          NaN      NaN       NaN       NaN   \n",
       "\n",
       "         measured  \n",
       "1172          1.0  \n",
       "1178          1.0  \n",
       "1179          1.0  \n",
       "1180          1.0  \n",
       "1181          1.0  \n",
       "...           ...  \n",
       "1202079       1.0  \n",
       "1202080       1.0  \n",
       "1202081       1.0  \n",
       "1202082       1.0  \n",
       "1202083       1.0  \n",
       "\n",
       "[614310 rows x 28 columns]"
      ]
     },
     "execution_count": 8,
     "metadata": {},
     "output_type": "execute_result"
    }
   ],
   "source": [
    "df = df[df['date']<='2020-12-31']\n",
    "df"
   ]
  },
  {
   "cell_type": "code",
   "execution_count": 9,
   "metadata": {},
   "outputs": [],
   "source": [
    "# don't have values of engagement metrics for story. so impute values of MOST RECENT None-story post\n",
    "# df = df.sort_values(by = ['uid', 'date'])\n",
    "# df = df.groupby('uid').ffill().reindex(df.columns, axis=1)\n",
    "\n",
    "# reset video_views to 0 for IMAGE post\n",
    "df['video_views'] = np.where(df.post_type == 'IMAGE', 0, df['video_views'])"
   ]
  },
  {
   "cell_type": "code",
   "execution_count": 10,
   "metadata": {},
   "outputs": [],
   "source": [
    "# fill na for format where it's either a STORY or not a STORY\n",
    "df.format.fillna('NOT STORY', inplace=True)\n",
    "\n",
    "# fill na for video_views where video_views is 0\n",
    "df.video_views.fillna(0, inplace=True)\n",
    "\n",
    "# fill na for comments where comments is 0\n",
    "df.comments.fillna(0, inplace=True)\n",
    "\n",
    "# fill na for comments where reaction is 0\n",
    "df.reactions.fillna(0, inplace=True)"
   ]
  },
  {
   "cell_type": "code",
   "execution_count": 11,
   "metadata": {},
   "outputs": [
    {
     "data": {
      "text/plain": [
       "group                     0\n",
       "mentions                  0\n",
       "post_uid                  0\n",
       "date                      0\n",
       "post_type                 0\n",
       "format                    0\n",
       "uid                       0\n",
       "author                    0\n",
       "shared               614310\n",
       "shared_author        614310\n",
       "title                    19\n",
       "url                       0\n",
       "thumbnail_url             0\n",
       "platform                  0\n",
       "channel_uid               0\n",
       "video_views               0\n",
       "reactions                 0\n",
       "comments                  0\n",
       "shares               614310\n",
       "total_engagements         0\n",
       "potential_reach          14\n",
       "eng_rate                 14\n",
       "impressions               0\n",
       "yt_dislikes          614310\n",
       "avg_ccv              614310\n",
       "peak_ccv             614310\n",
       "duration             614310\n",
       "measured                  0\n",
       "dtype: int64"
      ]
     },
     "execution_count": 11,
     "metadata": {},
     "output_type": "execute_result"
    }
   ],
   "source": [
    "df.isnull().sum()"
   ]
  },
  {
   "cell_type": "code",
   "execution_count": 12,
   "metadata": {},
   "outputs": [],
   "source": [
    "# drop na potential reach\n",
    "df.dropna(subset=['potential_reach'], axis=0, inplace=True)"
   ]
  },
  {
   "cell_type": "markdown",
   "metadata": {},
   "source": [
    "# EDA"
   ]
  },
  {
   "cell_type": "code",
   "execution_count": 13,
   "metadata": {},
   "outputs": [
    {
     "data": {
      "text/html": [
       "<div>\n",
       "<style scoped>\n",
       "    .dataframe tbody tr th:only-of-type {\n",
       "        vertical-align: middle;\n",
       "    }\n",
       "\n",
       "    .dataframe tbody tr th {\n",
       "        vertical-align: top;\n",
       "    }\n",
       "\n",
       "    .dataframe thead th {\n",
       "        text-align: right;\n",
       "    }\n",
       "</style>\n",
       "<table border=\"1\" class=\"dataframe\">\n",
       "  <thead>\n",
       "    <tr style=\"text-align: right;\">\n",
       "      <th></th>\n",
       "      <th>uid</th>\n",
       "      <th>date</th>\n",
       "      <th>post_type</th>\n",
       "      <th>format</th>\n",
       "      <th>video_views</th>\n",
       "      <th>reactions</th>\n",
       "      <th>comments</th>\n",
       "      <th>potential_reach</th>\n",
       "      <th>impressions</th>\n",
       "    </tr>\n",
       "  </thead>\n",
       "  <tbody>\n",
       "    <tr>\n",
       "      <th>1172</th>\n",
       "      <td>8be15a69487a470da853acf748f3d686</td>\n",
       "      <td>2020-12-14 14:53:48+00:00</td>\n",
       "      <td>VIDEO</td>\n",
       "      <td>STORY</td>\n",
       "      <td>0.0</td>\n",
       "      <td>0.0</td>\n",
       "      <td>0.0</td>\n",
       "      <td>903497.0</td>\n",
       "      <td>45802.0</td>\n",
       "    </tr>\n",
       "    <tr>\n",
       "      <th>1178</th>\n",
       "      <td>beef4076dffa49d4aee9ad736c2f8186</td>\n",
       "      <td>2020-12-14 17:07:35+00:00</td>\n",
       "      <td>IMAGE</td>\n",
       "      <td>STORY</td>\n",
       "      <td>0.0</td>\n",
       "      <td>0.0</td>\n",
       "      <td>0.0</td>\n",
       "      <td>34712.0</td>\n",
       "      <td>1275.0</td>\n",
       "    </tr>\n",
       "    <tr>\n",
       "      <th>1179</th>\n",
       "      <td>8a75a10c16a446aeb30fec84aabc8e4a</td>\n",
       "      <td>2020-12-14 17:19:48+00:00</td>\n",
       "      <td>VIDEO</td>\n",
       "      <td>STORY</td>\n",
       "      <td>0.0</td>\n",
       "      <td>0.0</td>\n",
       "      <td>0.0</td>\n",
       "      <td>1062524.0</td>\n",
       "      <td>11481.0</td>\n",
       "    </tr>\n",
       "    <tr>\n",
       "      <th>1180</th>\n",
       "      <td>7f607f0de7b045f69e9086d22608c571</td>\n",
       "      <td>2020-12-13 15:30:07+00:00</td>\n",
       "      <td>VIDEO</td>\n",
       "      <td>STORY</td>\n",
       "      <td>0.0</td>\n",
       "      <td>0.0</td>\n",
       "      <td>0.0</td>\n",
       "      <td>29993.0</td>\n",
       "      <td>1698.0</td>\n",
       "    </tr>\n",
       "    <tr>\n",
       "      <th>1181</th>\n",
       "      <td>7f607f0de7b045f69e9086d22608c571</td>\n",
       "      <td>2020-12-13 13:17:45+00:00</td>\n",
       "      <td>VIDEO</td>\n",
       "      <td>STORY</td>\n",
       "      <td>0.0</td>\n",
       "      <td>0.0</td>\n",
       "      <td>0.0</td>\n",
       "      <td>29993.0</td>\n",
       "      <td>1832.0</td>\n",
       "    </tr>\n",
       "  </tbody>\n",
       "</table>\n",
       "</div>"
      ],
      "text/plain": [
       "                                   uid                      date post_type  \\\n",
       "1172  8be15a69487a470da853acf748f3d686 2020-12-14 14:53:48+00:00     VIDEO   \n",
       "1178  beef4076dffa49d4aee9ad736c2f8186 2020-12-14 17:07:35+00:00     IMAGE   \n",
       "1179  8a75a10c16a446aeb30fec84aabc8e4a 2020-12-14 17:19:48+00:00     VIDEO   \n",
       "1180  7f607f0de7b045f69e9086d22608c571 2020-12-13 15:30:07+00:00     VIDEO   \n",
       "1181  7f607f0de7b045f69e9086d22608c571 2020-12-13 13:17:45+00:00     VIDEO   \n",
       "\n",
       "     format  video_views  reactions  comments  potential_reach  impressions  \n",
       "1172  STORY          0.0        0.0       0.0         903497.0      45802.0  \n",
       "1178  STORY          0.0        0.0       0.0          34712.0       1275.0  \n",
       "1179  STORY          0.0        0.0       0.0        1062524.0      11481.0  \n",
       "1180  STORY          0.0        0.0       0.0          29993.0       1698.0  \n",
       "1181  STORY          0.0        0.0       0.0          29993.0       1832.0  "
      ]
     },
     "execution_count": 13,
     "metadata": {},
     "output_type": "execute_result"
    }
   ],
   "source": [
    "df = df[['uid', 'date', 'post_type', 'format', 'video_views', 'reactions', 'comments', 'potential_reach', 'impressions']]\n",
    "df.head()"
   ]
  },
  {
   "cell_type": "code",
   "execution_count": 14,
   "metadata": {},
   "outputs": [
    {
     "data": {
      "text/html": [
       "<div>\n",
       "<style scoped>\n",
       "    .dataframe tbody tr th:only-of-type {\n",
       "        vertical-align: middle;\n",
       "    }\n",
       "\n",
       "    .dataframe tbody tr th {\n",
       "        vertical-align: top;\n",
       "    }\n",
       "\n",
       "    .dataframe thead th {\n",
       "        text-align: right;\n",
       "    }\n",
       "</style>\n",
       "<table border=\"1\" class=\"dataframe\">\n",
       "  <thead>\n",
       "    <tr style=\"text-align: right;\">\n",
       "      <th></th>\n",
       "      <th>count</th>\n",
       "      <th>video_views</th>\n",
       "      <th>reactions</th>\n",
       "      <th>comments</th>\n",
       "      <th>potential_reach</th>\n",
       "      <th>impressions</th>\n",
       "    </tr>\n",
       "    <tr>\n",
       "      <th>post_type</th>\n",
       "      <th></th>\n",
       "      <th></th>\n",
       "      <th></th>\n",
       "      <th></th>\n",
       "      <th></th>\n",
       "      <th></th>\n",
       "    </tr>\n",
       "  </thead>\n",
       "  <tbody>\n",
       "    <tr>\n",
       "      <th>IMAGE</th>\n",
       "      <td>360837</td>\n",
       "      <td>0.000000</td>\n",
       "      <td>2755.206592</td>\n",
       "      <td>138.623908</td>\n",
       "      <td>139967.006452</td>\n",
       "      <td>38069.902978</td>\n",
       "    </tr>\n",
       "    <tr>\n",
       "      <th>VIDEO</th>\n",
       "      <td>253459</td>\n",
       "      <td>3621.116125</td>\n",
       "      <td>454.331959</td>\n",
       "      <td>12.120848</td>\n",
       "      <td>171430.019699</td>\n",
       "      <td>21664.496364</td>\n",
       "    </tr>\n",
       "  </tbody>\n",
       "</table>\n",
       "</div>"
      ],
      "text/plain": [
       "            count  video_views    reactions    comments  potential_reach  \\\n",
       "post_type                                                                  \n",
       "IMAGE      360837     0.000000  2755.206592  138.623908    139967.006452   \n",
       "VIDEO      253459  3621.116125   454.331959   12.120848    171430.019699   \n",
       "\n",
       "            impressions  \n",
       "post_type                \n",
       "IMAGE      38069.902978  \n",
       "VIDEO      21664.496364  "
      ]
     },
     "execution_count": 14,
     "metadata": {},
     "output_type": "execute_result"
    }
   ],
   "source": [
    "a = df.groupby('post_type').agg({'format':'count', 'video_views':'mean', 'reactions':'mean', \n",
    "    'comments':'mean', 'potential_reach':'mean', 'impressions':'mean'}).rename(columns={'format': 'count'})\n",
    "a"
   ]
  },
  {
   "cell_type": "code",
   "execution_count": 15,
   "metadata": {},
   "outputs": [
    {
     "data": {
      "image/png": "[encoded data removed]",
      "text/plain": [
       "<Figure size 432x288 with 1 Axes>"
      ]
     },
     "metadata": {
      "needs_background": "light"
     },
     "output_type": "display_data"
    }
   ],
   "source": [
    "a.impressions.plot(kind='bar');"
   ]
  },
  {
   "cell_type": "code",
   "execution_count": 16,
   "metadata": {},
   "outputs": [
    {
     "data": {
      "text/html": [
       "<div>\n",
       "<style scoped>\n",
       "    .dataframe tbody tr th:only-of-type {\n",
       "        vertical-align: middle;\n",
       "    }\n",
       "\n",
       "    .dataframe tbody tr th {\n",
       "        vertical-align: top;\n",
       "    }\n",
       "\n",
       "    .dataframe thead th {\n",
       "        text-align: right;\n",
       "    }\n",
       "</style>\n",
       "<table border=\"1\" class=\"dataframe\">\n",
       "  <thead>\n",
       "    <tr style=\"text-align: right;\">\n",
       "      <th></th>\n",
       "      <th>count</th>\n",
       "      <th>video_views</th>\n",
       "      <th>reactions</th>\n",
       "      <th>comments</th>\n",
       "      <th>potential_reach</th>\n",
       "      <th>impressions</th>\n",
       "    </tr>\n",
       "    <tr>\n",
       "      <th>format</th>\n",
       "      <th></th>\n",
       "      <th></th>\n",
       "      <th></th>\n",
       "      <th></th>\n",
       "      <th></th>\n",
       "      <th></th>\n",
       "    </tr>\n",
       "  </thead>\n",
       "  <tbody>\n",
       "    <tr>\n",
       "      <th>NOT STORY</th>\n",
       "      <td>214225</td>\n",
       "      <td>4284.301421</td>\n",
       "      <td>5178.363893</td>\n",
       "      <td>247.836494</td>\n",
       "      <td>163954.357391</td>\n",
       "      <td>62268.965611</td>\n",
       "    </tr>\n",
       "    <tr>\n",
       "      <th>STORY</th>\n",
       "      <td>400071</td>\n",
       "      <td>0.000000</td>\n",
       "      <td>0.000000</td>\n",
       "      <td>0.000000</td>\n",
       "      <td>147055.482297</td>\n",
       "      <td>14718.692450</td>\n",
       "    </tr>\n",
       "  </tbody>\n",
       "</table>\n",
       "</div>"
      ],
      "text/plain": [
       "            count  video_views    reactions    comments  potential_reach  \\\n",
       "format                                                                     \n",
       "NOT STORY  214225  4284.301421  5178.363893  247.836494    163954.357391   \n",
       "STORY      400071     0.000000     0.000000    0.000000    147055.482297   \n",
       "\n",
       "            impressions  \n",
       "format                   \n",
       "NOT STORY  62268.965611  \n",
       "STORY      14718.692450  "
      ]
     },
     "execution_count": 16,
     "metadata": {},
     "output_type": "execute_result"
    }
   ],
   "source": [
    "b = df.groupby('format').agg({'post_type':'count', 'video_views':'mean', 'reactions':'mean', 'comments':'mean', 'potential_reach':'mean', 'impressions':'mean'}).rename(columns={'post_type': 'count'})\n",
    "b"
   ]
  },
  {
   "cell_type": "code",
   "execution_count": 17,
   "metadata": {},
   "outputs": [
    {
     "data": {
      "image/png": "[encoded data removed]",
      "text/plain": [
       "<Figure size 432x288 with 1 Axes>"
      ]
     },
     "metadata": {
      "needs_background": "light"
     },
     "output_type": "display_data"
    }
   ],
   "source": [
    "b.impressions.plot(kind='bar');"
   ]
  },
  {
   "cell_type": "code",
   "execution_count": 18,
   "metadata": {},
   "outputs": [],
   "source": [
    "# remove stories from the dataset as we don't have engagement data for it. And the model performance is not good\n",
    "df = df[df['format'] != 'STORY']"
   ]
  },
  {
   "cell_type": "code",
   "execution_count": 19,
   "metadata": {},
   "outputs": [
    {
     "name": "stderr",
     "output_type": "stream",
     "text": [
      "/usr/local/lib/python3.9/site-packages/seaborn/distributions.py:2557: FutureWarning: `distplot` is a deprecated function and will be removed in a future version. Please adapt your code to use either `displot` (a figure-level function with similar flexibility) or `histplot` (an axes-level function for histograms).\n",
      "  warnings.warn(msg, FutureWarning)\n"
     ]
    },
    {
     "data": {
      "image/png": "[encoded data removed]",
      "text/plain": [
       "<Figure size 1080x576 with 1 Axes>"
      ]
     },
     "metadata": {
      "needs_background": "light"
     },
     "output_type": "display_data"
    }
   ],
   "source": [
    "plt.figure(figsize=(15,8))\n",
    "sns.distplot(df.impressions, label=\"impressions\")\n",
    "plt.title('Impression distribution')\n",
    "plt.legend();"
   ]
  },
  {
   "cell_type": "code",
   "execution_count": 20,
   "metadata": {},
   "outputs": [
    {
     "data": {
      "image/png": "[encoded data removed]",
      "text/plain": [
       "<Figure size 1080x576 with 1 Axes>"
      ]
     },
     "metadata": {
      "needs_background": "light"
     },
     "output_type": "display_data"
    }
   ],
   "source": [
    "plt.figure(figsize=(15,8))\n",
    "sns.histplot(np.log(df.impressions+0.01), label=\"impressions\", alpha=0.5)\n",
    "plt.legend()\n",
    "plt.title('Impression distribution after log transformation')\n",
    "labels = [int(np.exp(x)) for x in range(4,18,2)]\n",
    "plt.xticks(range(4,18,2), labels)\n",
    "plt.show();"
   ]
  },
  {
   "cell_type": "code",
   "execution_count": 21,
   "metadata": {},
   "outputs": [
    {
     "data": {
      "image/png": "[encoded data removed]",
      "text/plain": [
       "<Figure size 1080x288 with 1 Axes>"
      ]
     },
     "metadata": {
      "needs_background": "light"
     },
     "output_type": "display_data"
    }
   ],
   "source": [
    "plt.figure(figsize=(15,4))\n",
    "sns.boxplot(x=df.impressions);"
   ]
  },
  {
   "cell_type": "code",
   "execution_count": 22,
   "metadata": {},
   "outputs": [
    {
     "data": {
      "text/plain": [
       "0.2500    3.406000e+03\n",
       "0.5000    1.233300e+04\n",
       "0.7500    4.415600e+04\n",
       "0.9000    1.309040e+05\n",
       "0.9500    2.562374e+05\n",
       "0.9900    7.230162e+05\n",
       "0.9990    3.335610e+06\n",
       "0.9999    1.002975e+07\n",
       "Name: impressions, dtype: float64"
      ]
     },
     "execution_count": 22,
     "metadata": {},
     "output_type": "execute_result"
    }
   ],
   "source": [
    "df.impressions.quantile([0.25, 0.5, 0.75, 0.9, 0.95, 0.99, 0.999, 0.9999])"
   ]
  },
  {
   "cell_type": "markdown",
   "metadata": {},
   "source": [
    "# Preprocessing"
   ]
  },
  {
   "cell_type": "code",
   "execution_count": 23,
   "metadata": {},
   "outputs": [
    {
     "data": {
      "text/plain": [
       "52"
      ]
     },
     "execution_count": 23,
     "metadata": {},
     "output_type": "execute_result"
    }
   ],
   "source": [
    "len(df[df['impressions']>=8000000])"
   ]
  },
  {
   "cell_type": "code",
   "execution_count": 24,
   "metadata": {},
   "outputs": [],
   "source": [
    "df = df[df['impressions']<=8000000]"
   ]
  },
  {
   "cell_type": "code",
   "execution_count": 25,
   "metadata": {},
   "outputs": [],
   "source": [
    "# label encode post_type (0 - image; 1 video) and format (0 - not a story; 1 - story)\n",
    "le = LabelEncoder()\n",
    "df['post_type'] = le.fit_transform(df['post_type'])"
   ]
  },
  {
   "cell_type": "code",
   "execution_count": 26,
   "metadata": {},
   "outputs": [],
   "source": [
    "#ohe = OneHotEncoder()\n",
    "#enc_df = pd.DataFrame(ohe.fit_transform(df[['post_type']]).toarray())\n",
    "#df = df.join(enc_df)"
   ]
  },
  {
   "cell_type": "code",
   "execution_count": 27,
   "metadata": {},
   "outputs": [],
   "source": [
    "feature_names = ['post_type', 'video_views', 'reactions', 'comments', 'potential_reach']\n",
    "target_name = ['impressions']\n",
    "\n",
    "X = df[feature_names]\n",
    "y = df[target_name]\n",
    "\n",
    "X_train, X_test, y_train, y_test = train_test_split(X, y, random_state=0)"
   ]
  },
  {
   "cell_type": "markdown",
   "metadata": {},
   "source": [
    "# Dummy Regressor"
   ]
  },
  {
   "cell_type": "code",
   "execution_count": 28,
   "metadata": {},
   "outputs": [
    {
     "name": "stdout",
     "output_type": "stream",
     "text": [
      "Linear Regression R-square score (training): 0.000\n",
      "Dummy Regressor R-square score (testing): -0.000\n",
      "Dummy Regressor RMSE (testing): 201865.524\n"
     ]
    }
   ],
   "source": [
    "dr = DummyRegressor(strategy='mean')\n",
    "dr.fit(X_train, y_train)\n",
    "y_null = dr.predict(X_test)\n",
    "\n",
    "print('Linear Regression R-square score (training): {:.3f}'.format(dr.score(X_train, y_train)))\n",
    "print('Dummy Regressor R-square score (testing): {:.3f}'.format(metrics.r2_score(y_test, y_null)))\n",
    "print('Dummy Regressor RMSE (testing): {:.3f}'.format(np.sqrt(metrics.mean_squared_error(y_test, y_null))))"
   ]
  },
  {
   "cell_type": "code",
   "execution_count": 29,
   "metadata": {},
   "outputs": [],
   "source": [
    "model_performance_RMSE={}\n",
    "model_performance_RMSE['DummyRegressor'] = np.sqrt(metrics.mean_squared_error(y_test, y_null))"
   ]
  },
  {
   "cell_type": "markdown",
   "metadata": {},
   "source": [
    "# Linear Regression"
   ]
  },
  {
   "cell_type": "code",
   "execution_count": 30,
   "metadata": {},
   "outputs": [
    {
     "name": "stdout",
     "output_type": "stream",
     "text": [
      "Linear Regression R-square score (training): 0.846\n",
      "Linear Regression R-square score (testing): 0.820\n",
      "Linear Regression RMSE (testing): 85541.039\n"
     ]
    },
    {
     "data": {
      "text/plain": [
       "(array([[ 2.94985222e+03,  2.41740103e-01,  7.00378532e+00,\n",
       "         -6.44423705e-02,  6.37798421e-02]]),\n",
       " array([14115.21942106]))"
      ]
     },
     "execution_count": 30,
     "metadata": {},
     "output_type": "execute_result"
    }
   ],
   "source": [
    "X_train, X_test, y_train, y_test = train_test_split(X, y, random_state=0)\n",
    "linreg = LinearRegression().fit(X_train, y_train)\n",
    "y_pred = linreg.predict(X_test)\n",
    "\n",
    "print('Linear Regression R-square score (training): {:.3f}'.format(linreg.score(X_train, y_train)))\n",
    "print('Linear Regression R-square score (testing): {:.3f}'.format(metrics.r2_score(y_test, y_pred)))\n",
    "#print('Linear Regression R-square score (testing): {:.3f}'.format(linreg.score(X_test, y_test)))\n",
    "\n",
    "print('Linear Regression RMSE (testing): {:.3f}'.format(np.sqrt(metrics.mean_squared_error(y_test, y_pred))))\n",
    "linreg.coef_, linreg.intercept_"
   ]
  },
  {
   "cell_type": "code",
   "execution_count": 31,
   "metadata": {},
   "outputs": [],
   "source": [
    "model_performance_RMSE['Linear Regression'] = np.sqrt(metrics.mean_squared_error(y_test, y_pred))"
   ]
  },
  {
   "cell_type": "markdown",
   "metadata": {},
   "source": [
    "# Linear Regression with Scaling"
   ]
  },
  {
   "cell_type": "code",
   "execution_count": 32,
   "metadata": {},
   "outputs": [
    {
     "name": "stdout",
     "output_type": "stream",
     "text": [
      "Scaled Linear Regression R-square score (training): 0.84570\n",
      "Scaled Linear Regression R-square score (testing): 0.820\n",
      "Scaled Linear Regression RMSE (testing): 85541.039\n"
     ]
    },
    {
     "data": {
      "text/plain": [
       "(array([[ 2.94985222e+03,  1.05314583e+06,  5.71979537e+06,\n",
       "         -9.58310892e+04,  3.20057497e+06]]),\n",
       " array([14116.75013727]))"
      ]
     },
     "execution_count": 32,
     "metadata": {},
     "output_type": "execute_result"
    }
   ],
   "source": [
    "scaler = MinMaxScaler()\n",
    "\n",
    "X_train, X_test, y_train, y_test = train_test_split(X, y, random_state=0)\n",
    "X_train_scaled = scaler.fit_transform(X_train)\n",
    "X_test_scaled = scaler.transform(X_test)\n",
    "\n",
    "linreg = LinearRegression()\n",
    "linreg.fit(X_train_scaled, y_train)\n",
    "y_pred = linreg.predict(X_test_scaled)\n",
    "\n",
    "\n",
    "print('Scaled Linear Regression R-square score (training): {:.5f}'.format(linreg.score(X_train_scaled, y_train)))\n",
    "print('Scaled Linear Regression R-square score (testing): {:.3f}'.format(metrics.r2_score(y_test, y_pred)))\n",
    "\n",
    "print('Scaled Linear Regression RMSE (testing): {:.3f}'.format(np.sqrt(metrics.mean_squared_error(y_test, y_pred))))\n",
    "linreg.coef_, linreg.intercept_"
   ]
  },
  {
   "cell_type": "code",
   "execution_count": 33,
   "metadata": {},
   "outputs": [],
   "source": [
    "model_performance_RMSE['Scaled Linear Regression'] = np.sqrt(metrics.mean_squared_error(y_test, y_pred))"
   ]
  },
  {
   "cell_type": "code",
   "execution_count": 34,
   "metadata": {},
   "outputs": [
    {
     "name": "stdout",
     "output_type": "stream",
     "text": [
      "Scaled Linear Regression R-square score (training): 0.84570\n",
      "Scaled Linear Regression R-square score (testing): 0.820\n",
      "Scaled Linear Regression RMSE (testing): 85541.039\n"
     ]
    },
    {
     "data": {
      "text/plain": [
       "(array([[   808.61929454,  11534.4082526 , 138143.9486484 ,\n",
       "           -567.27117669,  73282.60471426]]),\n",
       " array([59881.05792852]))"
      ]
     },
     "execution_count": 34,
     "metadata": {},
     "output_type": "execute_result"
    }
   ],
   "source": [
    "scaler = StandardScaler()\n",
    "\n",
    "X_train, X_test, y_train, y_test = train_test_split(X, y, random_state=0)\n",
    "X_train_scaled = scaler.fit_transform(X_train)\n",
    "X_test_scaled = scaler.transform(X_test)\n",
    "\n",
    "linreg = LinearRegression()\n",
    "linreg.fit(X_train_scaled, y_train)\n",
    "y_pred_2 = linreg.predict(X_test_scaled)\n",
    "\n",
    "\n",
    "print('Scaled Linear Regression R-square score (training): {:.5f}'.format(linreg.score(X_train_scaled, y_train)))\n",
    "print('Scaled Linear Regression R-square score (testing): {:.3f}'.format(metrics.r2_score(y_test, y_pred_2)))\n",
    "\n",
    "print('Scaled Linear Regression RMSE (testing): {:.3f}'.format(np.sqrt(metrics.mean_squared_error(y_test, y_pred_2))))\n",
    "linreg.coef_, linreg.intercept_"
   ]
  },
  {
   "cell_type": "code",
   "execution_count": 35,
   "metadata": {},
   "outputs": [],
   "source": [
    "model_performance_RMSE['Standardised Linear Regression'] = np.sqrt(metrics.mean_squared_error(y_test, y_pred))"
   ]
  },
  {
   "cell_type": "markdown",
   "metadata": {},
   "source": [
    "# Ridge Regression with feature Scaling"
   ]
  },
  {
   "cell_type": "code",
   "execution_count": 36,
   "metadata": {},
   "outputs": [
    {
     "name": "stdout",
     "output_type": "stream",
     "text": [
      "Normalised Ridge Regression R-square score (training): 0.84570\n",
      "Normalised Ridge Regression R-square score (testing): 0.820\n",
      "Normalised Ridge Regression RMSE (testing): 85541.044\n"
     ]
    },
    {
     "data": {
      "text/plain": [
       "array([[   808.56381124,  11534.65905313, 138143.02843599,\n",
       "          -567.15653408,  73282.55160628]])"
      ]
     },
     "execution_count": 36,
     "metadata": {},
     "output_type": "execute_result"
    }
   ],
   "source": [
    "ridgereg = Ridge().fit(X_train_scaled, y_train)\n",
    "y_pred = ridgereg.predict(X_test_scaled)\n",
    "\n",
    "print('Normalised Ridge Regression R-square score (training): {:.5f}'.format(ridgereg.score(X_train_scaled, y_train)))\n",
    "print('Normalised Ridge Regression R-square score (testing): {:.3f}'.format(metrics.r2_score(y_test, y_pred)))\n",
    "\n",
    "print('Normalised Ridge Regression RMSE (testing): {:.3f}'.format(np.sqrt(metrics.mean_squared_error(y_test, y_pred))))\n",
    "ridgereg.coef_"
   ]
  },
  {
   "cell_type": "code",
   "execution_count": 37,
   "metadata": {},
   "outputs": [],
   "source": [
    "model_performance_RMSE['Ridge Regression'] = np.sqrt(metrics.mean_squared_error(y_test, y_pred))"
   ]
  },
  {
   "cell_type": "markdown",
   "metadata": {},
   "source": [
    "## Tuning alpha for Ridge regression"
   ]
  },
  {
   "cell_type": "code",
   "execution_count": 38,
   "metadata": {},
   "outputs": [
    {
     "name": "stdout",
     "output_type": "stream",
     "text": [
      "Grid best parameter (max. MSE):  {'alpha': 25}\n",
      "Grid best score (MSE):  83363.76040847975\n"
     ]
    }
   ],
   "source": [
    "grid_values = {'alpha': [25,10,4,2,1.0,0.8,0.5,0.3,0.2,0.1,0.05,0.02,0.01]}\n",
    "grid_reg_mse = GridSearchCV(ridgereg, param_grid = grid_values, scoring = 'neg_mean_squared_error', cv=10)\n",
    "grid_reg_mse.fit(X_train_scaled, y_train)\n",
    "\n",
    "print('Grid best parameter (max. MSE): ', grid_reg_mse.best_params_)\n",
    "print('Grid best score (MSE): ', np.sqrt(-grid_reg_mse.best_score_))"
   ]
  },
  {
   "cell_type": "code",
   "execution_count": 39,
   "metadata": {},
   "outputs": [
    {
     "name": "stdout",
     "output_type": "stream",
     "text": [
      "Grid best parameter (max. R2):  {'alpha': 25}\n",
      "Grid best score (MSE):  0.841283766419434\n"
     ]
    }
   ],
   "source": [
    "grid_values = {'alpha': [25,10,4,2,1.0,0.8,0.5,0.3,0.2,0.1,0.05,0.02,0.01]}\n",
    "grid_reg_mse = GridSearchCV(ridgereg, param_grid = grid_values, scoring = 'r2', cv=10)\n",
    "grid_reg_mse.fit(X_train_scaled, y_train)\n",
    "\n",
    "print('Grid best parameter (max. R2): ', grid_reg_mse.best_params_)\n",
    "print('Grid best score (MSE): ', grid_reg_mse.best_score_)"
   ]
  },
  {
   "cell_type": "code",
   "execution_count": 40,
   "metadata": {},
   "outputs": [
    {
     "name": "stdout",
     "output_type": "stream",
     "text": [
      "Ridge regression: effect of alpha regularization parameter\n",
      "\n",
      "Ridge Regression with Alpha: 0 R-square score (training): 0.846\n",
      "Ridge Regression with Alpha: 0 R-square score (testing): 0.820\n",
      "Ridge Regression with Alpha: 0 RMSE (testing): 85541.039\n",
      "Ridge Regression with Alpha: 1 R-square score (training): 0.846\n",
      "Ridge Regression with Alpha: 1 R-square score (testing): 0.820\n",
      "Ridge Regression with Alpha: 1 RMSE (testing): 85541.044\n",
      "Ridge Regression with Alpha: 2 R-square score (training): 0.846\n",
      "Ridge Regression with Alpha: 2 R-square score (testing): 0.820\n",
      "Ridge Regression with Alpha: 2 RMSE (testing): 85541.048\n",
      "Ridge Regression with Alpha: 3 R-square score (training): 0.846\n",
      "Ridge Regression with Alpha: 3 R-square score (testing): 0.820\n",
      "Ridge Regression with Alpha: 3 RMSE (testing): 85541.053\n",
      "Ridge Regression with Alpha: 4 R-square score (training): 0.846\n",
      "Ridge Regression with Alpha: 4 R-square score (testing): 0.820\n",
      "Ridge Regression with Alpha: 4 RMSE (testing): 85541.058\n",
      "Ridge Regression with Alpha: 5 R-square score (training): 0.846\n",
      "Ridge Regression with Alpha: 5 R-square score (testing): 0.820\n",
      "Ridge Regression with Alpha: 5 RMSE (testing): 85541.062\n",
      "Ridge Regression with Alpha: 6 R-square score (training): 0.846\n",
      "Ridge Regression with Alpha: 6 R-square score (testing): 0.820\n",
      "Ridge Regression with Alpha: 6 RMSE (testing): 85541.067\n",
      "Ridge Regression with Alpha: 7 R-square score (training): 0.846\n",
      "Ridge Regression with Alpha: 7 R-square score (testing): 0.820\n",
      "Ridge Regression with Alpha: 7 RMSE (testing): 85541.072\n",
      "Ridge Regression with Alpha: 8 R-square score (training): 0.846\n",
      "Ridge Regression with Alpha: 8 R-square score (testing): 0.820\n",
      "Ridge Regression with Alpha: 8 RMSE (testing): 85541.077\n",
      "Ridge Regression with Alpha: 9 R-square score (training): 0.846\n",
      "Ridge Regression with Alpha: 9 R-square score (testing): 0.820\n",
      "Ridge Regression with Alpha: 9 RMSE (testing): 85541.081\n",
      "Ridge Regression with Alpha: 10 R-square score (training): 0.846\n",
      "Ridge Regression with Alpha: 10 R-square score (testing): 0.820\n",
      "Ridge Regression with Alpha: 10 RMSE (testing): 85541.086\n",
      "Ridge Regression with Alpha: 11 R-square score (training): 0.846\n",
      "Ridge Regression with Alpha: 11 R-square score (testing): 0.820\n",
      "Ridge Regression with Alpha: 11 RMSE (testing): 85541.091\n",
      "Ridge Regression with Alpha: 12 R-square score (training): 0.846\n",
      "Ridge Regression with Alpha: 12 R-square score (testing): 0.820\n",
      "Ridge Regression with Alpha: 12 RMSE (testing): 85541.096\n",
      "Ridge Regression with Alpha: 13 R-square score (training): 0.846\n",
      "Ridge Regression with Alpha: 13 R-square score (testing): 0.820\n",
      "Ridge Regression with Alpha: 13 RMSE (testing): 85541.101\n",
      "Ridge Regression with Alpha: 14 R-square score (training): 0.846\n",
      "Ridge Regression with Alpha: 14 R-square score (testing): 0.820\n",
      "Ridge Regression with Alpha: 14 RMSE (testing): 85541.105\n",
      "Ridge Regression with Alpha: 15 R-square score (training): 0.846\n",
      "Ridge Regression with Alpha: 15 R-square score (testing): 0.820\n",
      "Ridge Regression with Alpha: 15 RMSE (testing): 85541.110\n",
      "Ridge Regression with Alpha: 16 R-square score (training): 0.846\n",
      "Ridge Regression with Alpha: 16 R-square score (testing): 0.820\n",
      "Ridge Regression with Alpha: 16 RMSE (testing): 85541.115\n",
      "Ridge Regression with Alpha: 17 R-square score (training): 0.846\n",
      "Ridge Regression with Alpha: 17 R-square score (testing): 0.820\n",
      "Ridge Regression with Alpha: 17 RMSE (testing): 85541.120\n",
      "Ridge Regression with Alpha: 18 R-square score (training): 0.846\n",
      "Ridge Regression with Alpha: 18 R-square score (testing): 0.820\n",
      "Ridge Regression with Alpha: 18 RMSE (testing): 85541.125\n",
      "Ridge Regression with Alpha: 19 R-square score (training): 0.846\n",
      "Ridge Regression with Alpha: 19 R-square score (testing): 0.820\n",
      "Ridge Regression with Alpha: 19 RMSE (testing): 85541.130\n",
      "Ridge Regression with Alpha: 20 R-square score (training): 0.846\n",
      "Ridge Regression with Alpha: 20 R-square score (testing): 0.820\n",
      "Ridge Regression with Alpha: 20 RMSE (testing): 85541.134\n",
      "Ridge Regression with Alpha: 21 R-square score (training): 0.846\n",
      "Ridge Regression with Alpha: 21 R-square score (testing): 0.820\n",
      "Ridge Regression with Alpha: 21 RMSE (testing): 85541.139\n",
      "Ridge Regression with Alpha: 22 R-square score (training): 0.846\n",
      "Ridge Regression with Alpha: 22 R-square score (testing): 0.820\n",
      "Ridge Regression with Alpha: 22 RMSE (testing): 85541.144\n",
      "Ridge Regression with Alpha: 23 R-square score (training): 0.846\n",
      "Ridge Regression with Alpha: 23 R-square score (testing): 0.820\n",
      "Ridge Regression with Alpha: 23 RMSE (testing): 85541.149\n",
      "Ridge Regression with Alpha: 24 R-square score (training): 0.846\n",
      "Ridge Regression with Alpha: 24 R-square score (testing): 0.820\n",
      "Ridge Regression with Alpha: 24 RMSE (testing): 85541.154\n",
      "Ridge Regression with Alpha: 25 R-square score (training): 0.846\n",
      "Ridge Regression with Alpha: 25 R-square score (testing): 0.820\n",
      "Ridge Regression with Alpha: 25 RMSE (testing): 85541.159\n",
      "Ridge Regression with Alpha: 26 R-square score (training): 0.846\n",
      "Ridge Regression with Alpha: 26 R-square score (testing): 0.820\n",
      "Ridge Regression with Alpha: 26 RMSE (testing): 85541.164\n",
      "Ridge Regression with Alpha: 27 R-square score (training): 0.846\n",
      "Ridge Regression with Alpha: 27 R-square score (testing): 0.820\n",
      "Ridge Regression with Alpha: 27 RMSE (testing): 85541.169\n",
      "Ridge Regression with Alpha: 28 R-square score (training): 0.846\n",
      "Ridge Regression with Alpha: 28 R-square score (testing): 0.820\n",
      "Ridge Regression with Alpha: 28 RMSE (testing): 85541.174\n",
      "Ridge Regression with Alpha: 29 R-square score (training): 0.846\n",
      "Ridge Regression with Alpha: 29 R-square score (testing): 0.820\n",
      "Ridge Regression with Alpha: 29 RMSE (testing): 85541.178\n"
     ]
    }
   ],
   "source": [
    "print('Ridge regression: effect of alpha regularization parameter\\n')\n",
    "for this_alpha in range(0,30):\n",
    "    ridgereg = Ridge(alpha = this_alpha).fit(X_train_scaled, y_train)\n",
    "    y_pred = ridgereg.predict(X_test_scaled)\n",
    "    print('Ridge Regression with Alpha: {} R-square score (training): {:.3f}'.format(this_alpha, ridgereg.score(X_train_scaled, y_train)))\n",
    "    print('Ridge Regression with Alpha: {} R-square score (testing): {:.3f}'.format(this_alpha, metrics.r2_score(y_test, y_pred)))\n",
    "    print('Ridge Regression with Alpha: {} RMSE (testing): {:.3f}'.format(this_alpha, np.sqrt(metrics.mean_squared_error(y_test, y_pred))))"
   ]
  },
  {
   "cell_type": "code",
   "execution_count": 41,
   "metadata": {},
   "outputs": [
    {
     "name": "stdout",
     "output_type": "stream",
     "text": [
      "Normalised Ridge Regression R-square score (training): 0.84570\n",
      "Normalised Ridge Regression R-square score (testing): 0.820\n",
      "Normalised Ridge Regression RMSE (testing): 85541.159\n"
     ]
    },
    {
     "data": {
      "text/plain": [
       "array([[   807.23292392,  11540.67645491, 138120.94851623,\n",
       "          -564.40609779,  73281.27512549]])"
      ]
     },
     "execution_count": 41,
     "metadata": {},
     "output_type": "execute_result"
    }
   ],
   "source": [
    "# set alpha to 25 as tested above\n",
    "ridgereg = Ridge(alpha=25).fit(X_train_scaled, y_train)\n",
    "y_pred = ridgereg.predict(X_test_scaled)\n",
    "\n",
    "print('Normalised Ridge Regression R-square score (training): {:.5f}'.format(ridgereg.score(X_train_scaled, y_train)))\n",
    "print('Normalised Ridge Regression R-square score (testing): {:.3f}'.format(metrics.r2_score(y_test, y_pred)))\n",
    "\n",
    "print('Normalised Ridge Regression RMSE (testing): {:.3f}'.format(np.sqrt(metrics.mean_squared_error(y_test, y_pred))))\n",
    "ridgereg.coef_"
   ]
  },
  {
   "cell_type": "code",
   "execution_count": 42,
   "metadata": {},
   "outputs": [],
   "source": [
    "model_performance_RMSE['Tuned Ridge Regression'] = np.sqrt(metrics.mean_squared_error(y_test, y_pred))"
   ]
  },
  {
   "cell_type": "markdown",
   "metadata": {},
   "source": [
    "# Random Forest"
   ]
  },
  {
   "cell_type": "markdown",
   "metadata": {},
   "source": [
    "## Manually tuning n_estimators for Random Forest first"
   ]
  },
  {
   "cell_type": "code",
   "execution_count": 43,
   "metadata": {},
   "outputs": [
    {
     "name": "stdout",
     "output_type": "stream",
     "text": [
      "Random Forest: effect of n_estimator \n",
      "\n"
     ]
    },
    {
     "name": "stderr",
     "output_type": "stream",
     "text": [
      "/usr/local/lib/python3.9/site-packages/sklearn/ensemble/_forest.py:833: UserWarning: Some inputs do not have OOB scores. This probably means too few trees were used to compute any reliable oob estimates.\n",
      "  warn(\"Some inputs do not have OOB scores. \"\n"
     ]
    },
    {
     "name": "stdout",
     "output_type": "stream",
     "text": [
      "when trees=10, Random Forest RMSE (testing): 71244.416\n",
      "when trees=10, Random Forest OOB Score: 0.880\n"
     ]
    },
    {
     "name": "stderr",
     "output_type": "stream",
     "text": [
      "/usr/local/lib/python3.9/site-packages/sklearn/ensemble/_forest.py:833: UserWarning: Some inputs do not have OOB scores. This probably means too few trees were used to compute any reliable oob estimates.\n",
      "  warn(\"Some inputs do not have OOB scores. \"\n"
     ]
    },
    {
     "name": "stdout",
     "output_type": "stream",
     "text": [
      "when trees=20, Random Forest RMSE (testing): 69037.196\n",
      "when trees=20, Random Forest OOB Score: 0.902\n",
      "when trees=30, Random Forest RMSE (testing): 68220.994\n",
      "when trees=30, Random Forest OOB Score: 0.907\n",
      "when trees=40, Random Forest RMSE (testing): 68063.771\n",
      "when trees=40, Random Forest OOB Score: 0.909\n",
      "when trees=50, Random Forest RMSE (testing): 67669.623\n",
      "when trees=50, Random Forest OOB Score: 0.910\n",
      "when trees=60, Random Forest RMSE (testing): 67637.606\n",
      "when trees=60, Random Forest OOB Score: 0.912\n",
      "when trees=70, Random Forest RMSE (testing): 67545.652\n",
      "when trees=70, Random Forest OOB Score: 0.912\n",
      "when trees=80, Random Forest RMSE (testing): 67483.404\n",
      "when trees=80, Random Forest OOB Score: 0.913\n",
      "when trees=90, Random Forest RMSE (testing): 67334.901\n",
      "when trees=90, Random Forest OOB Score: 0.913\n",
      "when trees=100, Random Forest RMSE (testing): 67336.513\n",
      "when trees=100, Random Forest OOB Score: 0.913\n",
      "when trees=110, Random Forest RMSE (testing): 67351.353\n",
      "when trees=110, Random Forest OOB Score: 0.913\n",
      "when trees=120, Random Forest RMSE (testing): 67281.189\n",
      "when trees=120, Random Forest OOB Score: 0.913\n",
      "when trees=130, Random Forest RMSE (testing): 67249.388\n",
      "when trees=130, Random Forest OOB Score: 0.913\n",
      "when trees=140, Random Forest RMSE (testing): 67195.012\n",
      "when trees=140, Random Forest OOB Score: 0.913\n",
      "when trees=150, Random Forest RMSE (testing): 67239.748\n",
      "when trees=150, Random Forest OOB Score: 0.914\n",
      "when trees=160, Random Forest RMSE (testing): 67210.791\n",
      "when trees=160, Random Forest OOB Score: 0.914\n",
      "when trees=170, Random Forest RMSE (testing): 67170.649\n",
      "when trees=170, Random Forest OOB Score: 0.914\n",
      "when trees=180, Random Forest RMSE (testing): 67116.308\n",
      "when trees=180, Random Forest OOB Score: 0.914\n",
      "when trees=190, Random Forest RMSE (testing): 67123.286\n",
      "when trees=190, Random Forest OOB Score: 0.914\n"
     ]
    }
   ],
   "source": [
    "print('Random Forest: effect of n_estimator \\n')\n",
    "manual_estimator=[]\n",
    "manual_RMSE=[]\n",
    "for estimator in range(10,200,10):\n",
    "    rfreg = RandomForestRegressor(n_estimators=estimator, max_features=5, oob_score=True, random_state=1, n_jobs=-1).fit(X_train, y_train.values.ravel())\n",
    "    y_pred = rfreg.predict(X_test)\n",
    "    print('when trees={}, Random Forest RMSE (testing): {:.3f}'.format(estimator, np.sqrt(metrics.mean_squared_error(y_test, y_pred))))\n",
    "    print('when trees={}, Random Forest OOB Score: {:.3f}'.format(estimator, rfreg.oob_score_))\n",
    "    manual_estimator.append(estimator)\n",
    "    manual_RMSE.append(np.sqrt(metrics.mean_squared_error(y_test, y_pred)))"
   ]
  },
  {
   "cell_type": "code",
   "execution_count": 44,
   "metadata": {},
   "outputs": [
    {
     "name": "stdout",
     "output_type": "stream",
     "text": [
      "Random Forest RMSE (testing): 67116.308\n",
      "Random Forest OOB Score: 0.914\n"
     ]
    }
   ],
   "source": [
    "X_train, X_test, y_train, y_test = train_test_split(X, y, random_state=0)\n",
    "\n",
    "rfreg = RandomForestRegressor(n_estimators=sorted(zip(manual_estimator,manual_RMSE), key=lambda x:x[1])[0][0], \n",
    "                              max_features=5, oob_score=True, \n",
    "                              random_state=1, n_jobs=-1).fit(X_train, y_train.values.ravel())\n",
    "y_pred = rfreg.predict(X_test)\n",
    "\n",
    "print('Random Forest RMSE (testing): {:.3f}'.format(np.sqrt(metrics.mean_squared_error(y_test, y_pred))))\n",
    "print('Random Forest OOB Score: {:.3f}'.format(rfreg.oob_score_))"
   ]
  },
  {
   "cell_type": "code",
   "execution_count": 45,
   "metadata": {},
   "outputs": [],
   "source": [
    "model_performance_RMSE['Manually Tuned Random Forest'] = np.sqrt(metrics.mean_squared_error(y_test, y_pred))"
   ]
  },
  {
   "cell_type": "markdown",
   "metadata": {},
   "source": [
    "## Determine best combo of n_estimators and max_features for Random Forest"
   ]
  },
  {
   "cell_type": "code",
   "execution_count": 46,
   "metadata": {},
   "outputs": [
    {
     "data": {
      "text/plain": [
       "(180, 1)"
      ]
     },
     "execution_count": 46,
     "metadata": {},
     "output_type": "execute_result"
    }
   ],
   "source": [
    "# find out n_estimator with minimal RMSE - based on manual tuning\n",
    "min_manual_estimator = sorted(zip(manual_estimator,manual_RMSE), key=lambda x:x[1])[0][0]\n",
    "# find out number of features - based on rule of thumb (classifican squart root of number of features)\n",
    "n_features = int(len(feature_names)/3)\n",
    "(min_manual_estimator,n_features)"
   ]
  },
  {
   "cell_type": "code",
   "execution_count": 48,
   "metadata": {},
   "outputs": [
    {
     "name": "stdout",
     "output_type": "stream",
     "text": [
      "Fitting 5 folds for each of 24 candidates, totalling 120 fits\n",
      "[CV 1/5] END ...............max_features=1, n_estimators=180; total time=  45.0s\n",
      "[CV 2/5] END ...............max_features=1, n_estimators=180; total time=  27.2s\n",
      "[CV 3/5] END ...............max_features=1, n_estimators=180; total time=  28.4s\n",
      "[CV 4/5] END ...............max_features=1, n_estimators=180; total time=  26.2s\n",
      "[CV 5/5] END ...............max_features=1, n_estimators=180; total time=  30.2s\n",
      "[CV 1/5] END ...............max_features=1, n_estimators=185; total time=  34.2s\n",
      "[CV 2/5] END ...............max_features=1, n_estimators=185; total time=  36.8s\n",
      "[CV 3/5] END ...............max_features=1, n_estimators=185; total time=  32.7s\n",
      "[CV 4/5] END ...............max_features=1, n_estimators=185; total time=  28.0s\n",
      "[CV 5/5] END ...............max_features=1, n_estimators=185; total time=  26.0s\n",
      "[CV 1/5] END ...............max_features=1, n_estimators=190; total time=  37.0s\n",
      "[CV 2/5] END ...............max_features=1, n_estimators=190; total time=  39.6s\n",
      "[CV 3/5] END ...............max_features=1, n_estimators=190; total time=  50.2s\n",
      "[CV 4/5] END ...............max_features=1, n_estimators=190; total time=  36.5s\n",
      "[CV 5/5] END ...............max_features=1, n_estimators=190; total time=  51.1s\n",
      "[CV 1/5] END ...............max_features=1, n_estimators=195; total time=  42.2s\n",
      "[CV 2/5] END ...............max_features=1, n_estimators=195; total time=  33.1s\n",
      "[CV 3/5] END ...............max_features=1, n_estimators=195; total time=  36.7s\n",
      "[CV 4/5] END ...............max_features=1, n_estimators=195; total time=  34.8s\n",
      "[CV 5/5] END ...............max_features=1, n_estimators=195; total time=  35.8s\n",
      "[CV 1/5] END ...............max_features=1, n_estimators=200; total time=  42.6s\n",
      "[CV 2/5] END ...............max_features=1, n_estimators=200; total time=  51.8s\n",
      "[CV 3/5] END ...............max_features=1, n_estimators=200; total time=  49.9s\n",
      "[CV 4/5] END ...............max_features=1, n_estimators=200; total time=  38.2s\n",
      "[CV 5/5] END ...............max_features=1, n_estimators=200; total time=  47.9s\n",
      "[CV 1/5] END ...............max_features=1, n_estimators=205; total time=  28.1s\n",
      "[CV 2/5] END ...............max_features=1, n_estimators=205; total time=  22.3s\n",
      "[CV 3/5] END ...............max_features=1, n_estimators=205; total time=  21.2s\n",
      "[CV 4/5] END ...............max_features=1, n_estimators=205; total time=  28.6s\n",
      "[CV 5/5] END ...............max_features=1, n_estimators=205; total time=  21.8s\n",
      "[CV 1/5] END ...............max_features=2, n_estimators=180; total time=  22.7s\n",
      "[CV 2/5] END ...............max_features=2, n_estimators=180; total time=  22.4s\n",
      "[CV 3/5] END ...............max_features=2, n_estimators=180; total time=  22.8s\n",
      "[CV 4/5] END ...............max_features=2, n_estimators=180; total time=  21.6s\n",
      "[CV 5/5] END ...............max_features=2, n_estimators=180; total time=  22.2s\n",
      "[CV 1/5] END ...............max_features=2, n_estimators=185; total time=  22.2s\n",
      "[CV 2/5] END ...............max_features=2, n_estimators=185; total time=  22.3s\n",
      "[CV 3/5] END ...............max_features=2, n_estimators=185; total time=  23.2s\n",
      "[CV 4/5] END ...............max_features=2, n_estimators=185; total time=  22.7s\n",
      "[CV 5/5] END ...............max_features=2, n_estimators=185; total time=  23.8s\n",
      "[CV 1/5] END ...............max_features=2, n_estimators=190; total time=  23.0s\n",
      "[CV 2/5] END ...............max_features=2, n_estimators=190; total time=  22.7s\n",
      "[CV 3/5] END ...............max_features=2, n_estimators=190; total time=  28.5s\n",
      "[CV 4/5] END ...............max_features=2, n_estimators=190; total time=  23.8s\n",
      "[CV 5/5] END ...............max_features=2, n_estimators=190; total time=  22.9s\n",
      "[CV 1/5] END ...............max_features=2, n_estimators=195; total time=  22.9s\n",
      "[CV 2/5] END ...............max_features=2, n_estimators=195; total time=  23.1s\n",
      "[CV 3/5] END ...............max_features=2, n_estimators=195; total time=  23.5s\n",
      "[CV 4/5] END ...............max_features=2, n_estimators=195; total time=  23.4s\n",
      "[CV 5/5] END ...............max_features=2, n_estimators=195; total time=  26.5s\n",
      "[CV 1/5] END ...............max_features=2, n_estimators=200; total time=  25.5s\n",
      "[CV 2/5] END ...............max_features=2, n_estimators=200; total time=  26.4s\n",
      "[CV 3/5] END ...............max_features=2, n_estimators=200; total time=  24.2s\n",
      "[CV 4/5] END ...............max_features=2, n_estimators=200; total time=  24.3s\n",
      "[CV 5/5] END ...............max_features=2, n_estimators=200; total time=  24.4s\n",
      "[CV 1/5] END ...............max_features=2, n_estimators=205; total time=  28.0s\n",
      "[CV 2/5] END ...............max_features=2, n_estimators=205; total time=  25.5s\n",
      "[CV 3/5] END ...............max_features=2, n_estimators=205; total time=  24.7s\n",
      "[CV 4/5] END ...............max_features=2, n_estimators=205; total time=  25.0s\n",
      "[CV 5/5] END ...............max_features=2, n_estimators=205; total time=  23.9s\n",
      "[CV 1/5] END ...............max_features=3, n_estimators=180; total time=  25.8s\n",
      "[CV 2/5] END ...............max_features=3, n_estimators=180; total time=  26.8s\n",
      "[CV 3/5] END ...............max_features=3, n_estimators=180; total time=  26.3s\n",
      "[CV 4/5] END ...............max_features=3, n_estimators=180; total time=  26.1s\n",
      "[CV 5/5] END ...............max_features=3, n_estimators=180; total time=  26.2s\n",
      "[CV 1/5] END ...............max_features=3, n_estimators=185; total time=  27.1s\n",
      "[CV 2/5] END ...............max_features=3, n_estimators=185; total time=  26.8s\n",
      "[CV 3/5] END ...............max_features=3, n_estimators=185; total time=  26.7s\n",
      "[CV 4/5] END ...............max_features=3, n_estimators=185; total time=  26.5s\n",
      "[CV 5/5] END ...............max_features=3, n_estimators=185; total time=  30.5s\n",
      "[CV 1/5] END ...............max_features=3, n_estimators=190; total time=  28.7s\n",
      "[CV 2/5] END ...............max_features=3, n_estimators=190; total time=  27.4s\n",
      "[CV 3/5] END ...............max_features=3, n_estimators=190; total time=  29.4s\n",
      "[CV 4/5] END ...............max_features=3, n_estimators=190; total time=  27.5s\n",
      "[CV 5/5] END ...............max_features=3, n_estimators=190; total time=  28.8s\n",
      "[CV 1/5] END ...............max_features=3, n_estimators=195; total time=  28.4s\n",
      "[CV 2/5] END ...............max_features=3, n_estimators=195; total time=  30.6s\n",
      "[CV 3/5] END ...............max_features=3, n_estimators=195; total time=  29.3s\n",
      "[CV 4/5] END ...............max_features=3, n_estimators=195; total time=  29.4s\n",
      "[CV 5/5] END ...............max_features=3, n_estimators=195; total time=  27.9s\n",
      "[CV 1/5] END ...............max_features=3, n_estimators=200; total time=  35.9s\n",
      "[CV 2/5] END ...............max_features=3, n_estimators=200; total time=  30.5s\n",
      "[CV 3/5] END ...............max_features=3, n_estimators=200; total time=  29.4s\n",
      "[CV 4/5] END ...............max_features=3, n_estimators=200; total time=  29.4s\n",
      "[CV 5/5] END ...............max_features=3, n_estimators=200; total time=  30.1s\n",
      "[CV 1/5] END ...............max_features=3, n_estimators=205; total time=  36.1s\n",
      "[CV 2/5] END ...............max_features=3, n_estimators=205; total time=  32.7s\n",
      "[CV 3/5] END ...............max_features=3, n_estimators=205; total time=  30.6s\n",
      "[CV 4/5] END ...............max_features=3, n_estimators=205; total time=  29.5s\n",
      "[CV 5/5] END ...............max_features=3, n_estimators=205; total time=  29.3s\n",
      "[CV 1/5] END ...............max_features=4, n_estimators=180; total time=  30.9s\n",
      "[CV 2/5] END ...............max_features=4, n_estimators=180; total time=  31.0s\n",
      "[CV 3/5] END ...............max_features=4, n_estimators=180; total time=  35.7s\n",
      "[CV 4/5] END ...............max_features=4, n_estimators=180; total time=  39.3s\n",
      "[CV 5/5] END ...............max_features=4, n_estimators=180; total time=  34.2s\n",
      "[CV 1/5] END ...............max_features=4, n_estimators=185; total time=  34.3s\n",
      "[CV 2/5] END ...............max_features=4, n_estimators=185; total time=  39.8s\n",
      "[CV 3/5] END ...............max_features=4, n_estimators=185; total time=  31.9s\n",
      "[CV 4/5] END ...............max_features=4, n_estimators=185; total time=  33.6s\n",
      "[CV 5/5] END ...............max_features=4, n_estimators=185; total time=  32.2s\n",
      "[CV 1/5] END ...............max_features=4, n_estimators=190; total time=  36.5s\n",
      "[CV 2/5] END ...............max_features=4, n_estimators=190; total time=  35.1s\n",
      "[CV 3/5] END ...............max_features=4, n_estimators=190; total time=  33.6s\n",
      "[CV 4/5] END ...............max_features=4, n_estimators=190; total time=  32.1s\n",
      "[CV 5/5] END ...............max_features=4, n_estimators=190; total time=  32.4s\n",
      "[CV 1/5] END ...............max_features=4, n_estimators=195; total time=  33.3s\n",
      "[CV 2/5] END ...............max_features=4, n_estimators=195; total time=  33.0s\n",
      "[CV 3/5] END ...............max_features=4, n_estimators=195; total time=  38.4s\n",
      "[CV 4/5] END ...............max_features=4, n_estimators=195; total time=  36.4s\n",
      "[CV 5/5] END ...............max_features=4, n_estimators=195; total time=  35.8s\n",
      "[CV 1/5] END ...............max_features=4, n_estimators=200; total time=  34.5s\n",
      "[CV 2/5] END ...............max_features=4, n_estimators=200; total time=  33.7s\n",
      "[CV 3/5] END ...............max_features=4, n_estimators=200; total time=  34.3s\n",
      "[CV 4/5] END ...............max_features=4, n_estimators=200; total time=  33.8s\n",
      "[CV 5/5] END ...............max_features=4, n_estimators=200; total time=  35.4s\n",
      "[CV 1/5] END ...............max_features=4, n_estimators=205; total time=  38.9s\n",
      "[CV 2/5] END ...............max_features=4, n_estimators=205; total time=  35.1s\n",
      "[CV 3/5] END ...............max_features=4, n_estimators=205; total time=  36.0s\n",
      "[CV 4/5] END ...............max_features=4, n_estimators=205; total time=  34.6s\n",
      "[CV 5/5] END ...............max_features=4, n_estimators=205; total time=  35.5s\n"
     ]
    },
    {
     "data": {
      "text/plain": [
       "{'max_features': 3, 'n_estimators': 185}"
      ]
     },
     "execution_count": 48,
     "metadata": {},
     "output_type": "execute_result"
    }
   ],
   "source": [
    "PARAM_GRID = {'n_estimators': list(range(min_manual_estimator, min_manual_estimator+30, 5)), \n",
    "              'max_features': [n_features, n_features+1, n_features+2, n_features+3]}\n",
    "\n",
    "gs = GridSearchCV(estimator = RandomForestRegressor(random_state=1, n_jobs=-1), \n",
    "                  scoring = 'neg_root_mean_squared_error', param_grid=PARAM_GRID, verbose=3)\n",
    "gs.fit(X_train, y_train.values.ravel())\n",
    "gs.best_params_"
   ]
  },
  {
   "cell_type": "code",
   "execution_count": 49,
   "metadata": {},
   "outputs": [
    {
     "name": "stdout",
     "output_type": "stream",
     "text": [
      "Random Forest RMSE (testing): 66792.912\n",
      "Random Forest OOB Score: 0.916\n"
     ]
    }
   ],
   "source": [
    "rfreg = RandomForestRegressor(n_estimators=gs.best_params_['n_estimators'], max_features=gs.best_params_['max_features'], \n",
    "                              oob_score=True, random_state=1, n_jobs=-1).fit(X_train, y_train.values.ravel())\n",
    "y_pred = rfreg.predict(X_test)\n",
    "\n",
    "print('Random Forest RMSE (testing): {:.3f}'.format(np.sqrt(metrics.mean_squared_error(y_test, y_pred))))\n",
    "print('Random Forest OOB Score: {:.3f}'.format(rfreg.oob_score_))"
   ]
  },
  {
   "cell_type": "code",
   "execution_count": 50,
   "metadata": {},
   "outputs": [],
   "source": [
    "model_performance_RMSE['Grid Search Tuned Random Forest'] = np.sqrt(metrics.mean_squared_error(y_test, y_pred))"
   ]
  },
  {
   "cell_type": "markdown",
   "metadata": {},
   "source": [
    "# LightBGM"
   ]
  },
  {
   "cell_type": "code",
   "execution_count": 51,
   "metadata": {},
   "outputs": [],
   "source": [
    "feature_names = ['post_type', 'video_views', 'reactions', 'comments', 'potential_reach']\n",
    "target_name = ['impressions']\n",
    "\n",
    "df['post_type'] = df['post_type'].astype('category')\n",
    "df['format'] = df['format'].astype('category')\n",
    "\n",
    "X = df[feature_names]\n",
    "y = df[target_name]\n",
    "\n",
    "X_train, X_test, y_train, y_test = train_test_split(X, y, random_state=1)\n",
    "\n",
    "\n",
    "X_train, X_validation, y_train, y_validation = train_test_split(\n",
    "    X_train, y_train, random_state=1)\n",
    "\n",
    "cat = ['post_type']"
   ]
  },
  {
   "cell_type": "code",
   "execution_count": 52,
   "metadata": {},
   "outputs": [],
   "source": [
    "# dataset for lightgbm\n",
    "train_set = lgbm.Dataset(data=X_train, \n",
    "                         label=y_train,\n",
    "                         categorical_feature=cat, \n",
    "                         free_raw_data=False)\n",
    "\n",
    "validation_set = lgbm.Dataset(data=X_validation, \n",
    "                         label=y_validation,\n",
    "                         categorical_feature=cat, \n",
    "                         free_raw_data=False)\n",
    "\n",
    "test_set = lgbm.Dataset(data=X_test, \n",
    "                         label=y_test,\n",
    "                         categorical_feature=cat, \n",
    "                         free_raw_data=False) "
   ]
  },
  {
   "cell_type": "code",
   "execution_count": 53,
   "metadata": {},
   "outputs": [],
   "source": [
    "# model parameters defined\n",
    "lgbm_params = {'objective': 'regression',\n",
    "               'max_depth': 100, \n",
    "               'n_estimators': 100000,\n",
    "               'learning_rate': 0.0001,                    \n",
    "               'boost_from_average': False,\n",
    "               'feature_fraction' : 0.7,\n",
    "               'metric': 'root_mean_squared_error'\n",
    "          }\n",
    "\n",
    "evaluation_results = {}"
   ]
  },
  {
   "cell_type": "code",
   "execution_count": 54,
   "metadata": {},
   "outputs": [
    {
     "name": "stderr",
     "output_type": "stream",
     "text": [
      "/usr/local/lib/python3.9/site-packages/lightgbm/engine.py:148: UserWarning: Found `n_estimators` in params. Will use it instead of argument\n",
      "  _log_warning(\"Found `{}` in params. Will use it instead of argument\".format(alias))\n",
      "/usr/local/lib/python3.9/site-packages/lightgbm/basic.py:1702: UserWarning: Using categorical_feature in Dataset.\n",
      "  _log_warning('Using categorical_feature in Dataset.')\n"
     ]
    },
    {
     "name": "stdout",
     "output_type": "stream",
     "text": [
      "[LightGBM] [Warning] Accuracy may be bad since you didn't explicitly set num_leaves OR 2^max_depth > num_leaves. (num_leaves=31).\n",
      "[LightGBM] [Warning] Accuracy may be bad since you didn't explicitly set num_leaves OR 2^max_depth > num_leaves. (num_leaves=31).\n",
      "[LightGBM] [Warning] Auto-choosing row-wise multi-threading, the overhead of testing was 0.005278 seconds.\n",
      "You can set `force_row_wise=true` to remove the overhead.\n",
      "And if memory is not enough, you can set `force_col_wise=true`.\n",
      "[LightGBM] [Info] Total Bins 1023\n",
      "[LightGBM] [Info] Number of data points in the train set: 120471, number of used features: 5\n",
      "[LightGBM] [Warning] Accuracy may be bad since you didn't explicitly set num_leaves OR 2^max_depth > num_leaves. (num_leaves=31).\n",
      "Training until validation scores don't improve for 100 rounds\n"
     ]
    },
    {
     "name": "stderr",
     "output_type": "stream",
     "text": [
      "/usr/local/lib/python3.9/site-packages/lightgbm/basic.py:1433: UserWarning: Overriding the parameters from Reference Dataset.\n",
      "  _log_warning('Overriding the parameters from Reference Dataset.')\n",
      "/usr/local/lib/python3.9/site-packages/lightgbm/basic.py:1245: UserWarning: categorical_column in param dict is overridden.\n",
      "  _log_warning('{} in param dict is overridden.'.format(cat_alias))\n"
     ]
    },
    {
     "name": "stdout",
     "output_type": "stream",
     "text": [
      "[500]\tTrain's rmse: 206601\tValidation's rmse: 210039\n",
      "[1000]\tTrain's rmse: 198752\tValidation's rmse: 202221\n",
      "[1500]\tTrain's rmse: 191324\tValidation's rmse: 194811\n",
      "[2000]\tTrain's rmse: 184307\tValidation's rmse: 187808\n",
      "[2500]\tTrain's rmse: 177654\tValidation's rmse: 181168\n",
      "[3000]\tTrain's rmse: 171382\tValidation's rmse: 174916\n",
      "[3500]\tTrain's rmse: 165456\tValidation's rmse: 169013\n",
      "[4000]\tTrain's rmse: 159858\tValidation's rmse: 163435\n",
      "[4500]\tTrain's rmse: 154589\tValidation's rmse: 158188\n",
      "[5000]\tTrain's rmse: 149622\tValidation's rmse: 153233\n",
      "[5500]\tTrain's rmse: 144942\tValidation's rmse: 148566\n",
      "[6000]\tTrain's rmse: 140543\tValidation's rmse: 144176\n",
      "[6500]\tTrain's rmse: 136406\tValidation's rmse: 140059\n",
      "[7000]\tTrain's rmse: 132513\tValidation's rmse: 136168\n",
      "[7500]\tTrain's rmse: 128879\tValidation's rmse: 132538\n",
      "[8000]\tTrain's rmse: 125473\tValidation's rmse: 129143\n",
      "[8500]\tTrain's rmse: 122281\tValidation's rmse: 125953\n",
      "[9000]\tTrain's rmse: 119292\tValidation's rmse: 122952\n",
      "[9500]\tTrain's rmse: 116489\tValidation's rmse: 120143\n",
      "[10000]\tTrain's rmse: 113872\tValidation's rmse: 117511\n",
      "[10500]\tTrain's rmse: 111434\tValidation's rmse: 115072\n",
      "[11000]\tTrain's rmse: 109156\tValidation's rmse: 112790\n",
      "[11500]\tTrain's rmse: 107026\tValidation's rmse: 110661\n",
      "[12000]\tTrain's rmse: 105032\tValidation's rmse: 108664\n",
      "[12500]\tTrain's rmse: 103180\tValidation's rmse: 106812\n",
      "[13000]\tTrain's rmse: 101458\tValidation's rmse: 105091\n",
      "[13500]\tTrain's rmse: 99853.6\tValidation's rmse: 103484\n",
      "[14000]\tTrain's rmse: 98361\tValidation's rmse: 101989\n",
      "[14500]\tTrain's rmse: 96971.1\tValidation's rmse: 100592\n",
      "[15000]\tTrain's rmse: 95680.5\tValidation's rmse: 99294.2\n",
      "[15500]\tTrain's rmse: 94479.8\tValidation's rmse: 98081.4\n",
      "[16000]\tTrain's rmse: 93363.4\tValidation's rmse: 96950.6\n",
      "[16500]\tTrain's rmse: 92325.9\tValidation's rmse: 95901.5\n",
      "[17000]\tTrain's rmse: 91361.7\tValidation's rmse: 94922.7\n",
      "[17500]\tTrain's rmse: 90469.1\tValidation's rmse: 94015.8\n",
      "[18000]\tTrain's rmse: 89637\tValidation's rmse: 93167.2\n",
      "[18500]\tTrain's rmse: 88867.9\tValidation's rmse: 92392.4\n",
      "[19000]\tTrain's rmse: 88149.4\tValidation's rmse: 91668.6\n",
      "[19500]\tTrain's rmse: 87482.9\tValidation's rmse: 91005.3\n",
      "[20000]\tTrain's rmse: 86864.8\tValidation's rmse: 90397.9\n",
      "[20500]\tTrain's rmse: 86290.2\tValidation's rmse: 89834.8\n",
      "[21000]\tTrain's rmse: 85753.9\tValidation's rmse: 89310.6\n",
      "[21500]\tTrain's rmse: 85253.5\tValidation's rmse: 88834.5\n",
      "[22000]\tTrain's rmse: 84784.7\tValidation's rmse: 88386.7\n",
      "[22500]\tTrain's rmse: 84347.4\tValidation's rmse: 87972.1\n",
      "[23000]\tTrain's rmse: 83941.1\tValidation's rmse: 87592.2\n",
      "[23500]\tTrain's rmse: 83562.9\tValidation's rmse: 87235.9\n",
      "[24000]\tTrain's rmse: 83210.6\tValidation's rmse: 86906.3\n",
      "[24500]\tTrain's rmse: 82881.5\tValidation's rmse: 86597.9\n",
      "[25000]\tTrain's rmse: 82574.6\tValidation's rmse: 86314.4\n",
      "[25500]\tTrain's rmse: 82289.7\tValidation's rmse: 86052.2\n",
      "[26000]\tTrain's rmse: 82020.8\tValidation's rmse: 85802.2\n",
      "[26500]\tTrain's rmse: 81770.9\tValidation's rmse: 85574\n",
      "[27000]\tTrain's rmse: 81537.2\tValidation's rmse: 85359.4\n",
      "[27500]\tTrain's rmse: 81321.7\tValidation's rmse: 85162.6\n",
      "[28000]\tTrain's rmse: 81117.1\tValidation's rmse: 84974.4\n",
      "[28500]\tTrain's rmse: 80926.3\tValidation's rmse: 84797.5\n",
      "[29000]\tTrain's rmse: 80746.4\tValidation's rmse: 84630.5\n",
      "[29500]\tTrain's rmse: 80578.6\tValidation's rmse: 84473.8\n",
      "[30000]\tTrain's rmse: 80420.6\tValidation's rmse: 84328.4\n",
      "[30500]\tTrain's rmse: 80266.1\tValidation's rmse: 84190.2\n",
      "[31000]\tTrain's rmse: 80120.9\tValidation's rmse: 84057.3\n",
      "[31500]\tTrain's rmse: 79980.8\tValidation's rmse: 83932\n",
      "[32000]\tTrain's rmse: 79842.3\tValidation's rmse: 83808.1\n",
      "[32500]\tTrain's rmse: 79708.4\tValidation's rmse: 83687.8\n",
      "[33000]\tTrain's rmse: 79582.4\tValidation's rmse: 83575.6\n",
      "[33500]\tTrain's rmse: 79462.4\tValidation's rmse: 83467.3\n",
      "[34000]\tTrain's rmse: 79347.4\tValidation's rmse: 83365.9\n",
      "[34500]\tTrain's rmse: 79235.4\tValidation's rmse: 83271.3\n",
      "[35000]\tTrain's rmse: 79118.6\tValidation's rmse: 83175.6\n",
      "[35500]\tTrain's rmse: 79011.5\tValidation's rmse: 83085.2\n",
      "[36000]\tTrain's rmse: 78919.6\tValidation's rmse: 83006.3\n",
      "[36500]\tTrain's rmse: 78824.9\tValidation's rmse: 82928.8\n",
      "[37000]\tTrain's rmse: 78730.9\tValidation's rmse: 82850.5\n",
      "[37500]\tTrain's rmse: 78641.2\tValidation's rmse: 82774.7\n",
      "[38000]\tTrain's rmse: 78549.6\tValidation's rmse: 82693.5\n",
      "[38500]\tTrain's rmse: 78462.2\tValidation's rmse: 82616.6\n",
      "[39000]\tTrain's rmse: 78373.2\tValidation's rmse: 82545.2\n",
      "[39500]\tTrain's rmse: 78290.9\tValidation's rmse: 82482.7\n",
      "[40000]\tTrain's rmse: 78197.9\tValidation's rmse: 82408.9\n",
      "[40500]\tTrain's rmse: 78111.9\tValidation's rmse: 82344.3\n",
      "[41000]\tTrain's rmse: 78026.3\tValidation's rmse: 82278.6\n",
      "[41500]\tTrain's rmse: 77944.7\tValidation's rmse: 82215.9\n",
      "[42000]\tTrain's rmse: 77867.6\tValidation's rmse: 82154.9\n",
      "[42500]\tTrain's rmse: 77790.4\tValidation's rmse: 82093.4\n",
      "[43000]\tTrain's rmse: 77718.2\tValidation's rmse: 82037.2\n",
      "[43500]\tTrain's rmse: 77645.6\tValidation's rmse: 81981.2\n",
      "[44000]\tTrain's rmse: 77576.4\tValidation's rmse: 81929.9\n",
      "[44500]\tTrain's rmse: 77512.6\tValidation's rmse: 81887.2\n",
      "[45000]\tTrain's rmse: 77448.2\tValidation's rmse: 81844.9\n",
      "[45500]\tTrain's rmse: 77385.7\tValidation's rmse: 81807.9\n",
      "[46000]\tTrain's rmse: 77322.6\tValidation's rmse: 81768\n",
      "[46500]\tTrain's rmse: 77262.6\tValidation's rmse: 81735.4\n",
      "[47000]\tTrain's rmse: 77203.6\tValidation's rmse: 81700.5\n",
      "[47500]\tTrain's rmse: 77147\tValidation's rmse: 81666\n",
      "[48000]\tTrain's rmse: 77091.1\tValidation's rmse: 81634\n",
      "[48500]\tTrain's rmse: 77033.9\tValidation's rmse: 81607.3\n",
      "[49000]\tTrain's rmse: 76979.2\tValidation's rmse: 81581\n",
      "[49500]\tTrain's rmse: 76924.6\tValidation's rmse: 81557\n",
      "[50000]\tTrain's rmse: 76873.1\tValidation's rmse: 81531\n",
      "[50500]\tTrain's rmse: 76822.7\tValidation's rmse: 81503.9\n",
      "[51000]\tTrain's rmse: 76775.3\tValidation's rmse: 81475.4\n",
      "[51500]\tTrain's rmse: 76731.8\tValidation's rmse: 81442.2\n",
      "[52000]\tTrain's rmse: 76689.6\tValidation's rmse: 81408.3\n",
      "[52500]\tTrain's rmse: 76648.5\tValidation's rmse: 81376\n",
      "[53000]\tTrain's rmse: 76610\tValidation's rmse: 81347.3\n",
      "[53500]\tTrain's rmse: 76570.8\tValidation's rmse: 81314.9\n",
      "[54000]\tTrain's rmse: 76532.8\tValidation's rmse: 81287.3\n",
      "[54500]\tTrain's rmse: 76494.4\tValidation's rmse: 81262.4\n",
      "[55000]\tTrain's rmse: 76457.2\tValidation's rmse: 81237.7\n",
      "[55500]\tTrain's rmse: 76421.6\tValidation's rmse: 81210.1\n",
      "[56000]\tTrain's rmse: 76383\tValidation's rmse: 81179.2\n",
      "[56500]\tTrain's rmse: 76345\tValidation's rmse: 81149.6\n",
      "[57000]\tTrain's rmse: 76308.3\tValidation's rmse: 81121.4\n",
      "[57500]\tTrain's rmse: 76271.7\tValidation's rmse: 81091.5\n",
      "[58000]\tTrain's rmse: 76235.9\tValidation's rmse: 81061.1\n",
      "[58500]\tTrain's rmse: 76202.2\tValidation's rmse: 81036.4\n",
      "[59000]\tTrain's rmse: 76170.6\tValidation's rmse: 81014.1\n",
      "[59500]\tTrain's rmse: 76138.1\tValidation's rmse: 80986.1\n",
      "[60000]\tTrain's rmse: 76103.9\tValidation's rmse: 80954.1\n",
      "[60500]\tTrain's rmse: 76070.4\tValidation's rmse: 80926\n",
      "[61000]\tTrain's rmse: 76039.8\tValidation's rmse: 80902.7\n",
      "[61500]\tTrain's rmse: 76009.5\tValidation's rmse: 80877.3\n",
      "[62000]\tTrain's rmse: 75980.2\tValidation's rmse: 80852.9\n",
      "[62500]\tTrain's rmse: 75951.5\tValidation's rmse: 80830.3\n",
      "[63000]\tTrain's rmse: 75921\tValidation's rmse: 80802.9\n",
      "[63500]\tTrain's rmse: 75890\tValidation's rmse: 80777.9\n",
      "[64000]\tTrain's rmse: 75860.1\tValidation's rmse: 80757.6\n",
      "[64500]\tTrain's rmse: 75831.9\tValidation's rmse: 80741.7\n",
      "[65000]\tTrain's rmse: 75803.7\tValidation's rmse: 80723.1\n",
      "[65500]\tTrain's rmse: 75775.3\tValidation's rmse: 80707.5\n",
      "[66000]\tTrain's rmse: 75743\tValidation's rmse: 80700\n",
      "[66500]\tTrain's rmse: 75709.4\tValidation's rmse: 80689.5\n",
      "[67000]\tTrain's rmse: 75675.7\tValidation's rmse: 80679.7\n",
      "[67500]\tTrain's rmse: 75643.4\tValidation's rmse: 80666.9\n",
      "[68000]\tTrain's rmse: 75608.8\tValidation's rmse: 80643.4\n",
      "[68500]\tTrain's rmse: 75574.1\tValidation's rmse: 80620.2\n",
      "[69000]\tTrain's rmse: 75540.7\tValidation's rmse: 80598.1\n",
      "[69500]\tTrain's rmse: 75509\tValidation's rmse: 80581.5\n",
      "[70000]\tTrain's rmse: 75477.4\tValidation's rmse: 80565.2\n",
      "[70500]\tTrain's rmse: 75446.7\tValidation's rmse: 80548.8\n",
      "[71000]\tTrain's rmse: 75416.1\tValidation's rmse: 80532.8\n",
      "[71500]\tTrain's rmse: 75386\tValidation's rmse: 80517.3\n",
      "[72000]\tTrain's rmse: 75356.3\tValidation's rmse: 80501.5\n",
      "[72500]\tTrain's rmse: 75327.4\tValidation's rmse: 80483.5\n",
      "[73000]\tTrain's rmse: 75298.7\tValidation's rmse: 80465.3\n",
      "[73500]\tTrain's rmse: 75271\tValidation's rmse: 80448.8\n",
      "[74000]\tTrain's rmse: 75244.8\tValidation's rmse: 80431.6\n",
      "[74500]\tTrain's rmse: 75218.4\tValidation's rmse: 80415.7\n",
      "[75000]\tTrain's rmse: 75191.8\tValidation's rmse: 80399.2\n",
      "[75500]\tTrain's rmse: 75165.1\tValidation's rmse: 80383.5\n",
      "[76000]\tTrain's rmse: 75138.6\tValidation's rmse: 80367.8\n",
      "[76500]\tTrain's rmse: 75112\tValidation's rmse: 80353\n",
      "[77000]\tTrain's rmse: 75086.5\tValidation's rmse: 80338.2\n",
      "[77500]\tTrain's rmse: 75061.5\tValidation's rmse: 80323.6\n",
      "[78000]\tTrain's rmse: 75037.8\tValidation's rmse: 80310.3\n",
      "[78500]\tTrain's rmse: 75014.9\tValidation's rmse: 80298.7\n",
      "[79000]\tTrain's rmse: 74992.6\tValidation's rmse: 80287.5\n",
      "[79500]\tTrain's rmse: 74970.5\tValidation's rmse: 80277\n",
      "[80000]\tTrain's rmse: 74948.6\tValidation's rmse: 80264.2\n",
      "[80500]\tTrain's rmse: 74927.3\tValidation's rmse: 80251.4\n",
      "[81000]\tTrain's rmse: 74905.4\tValidation's rmse: 80238.1\n",
      "[81500]\tTrain's rmse: 74883.6\tValidation's rmse: 80225.1\n",
      "[82000]\tTrain's rmse: 74862.2\tValidation's rmse: 80212.5\n",
      "[82500]\tTrain's rmse: 74842.1\tValidation's rmse: 80200.8\n",
      "[83000]\tTrain's rmse: 74820.9\tValidation's rmse: 80190.4\n",
      "[83500]\tTrain's rmse: 74800\tValidation's rmse: 80179.9\n",
      "[84000]\tTrain's rmse: 74778.7\tValidation's rmse: 80170.2\n",
      "[84500]\tTrain's rmse: 74755.5\tValidation's rmse: 80159.8\n",
      "[85000]\tTrain's rmse: 74733.5\tValidation's rmse: 80150.7\n",
      "[85500]\tTrain's rmse: 74711.6\tValidation's rmse: 80142.4\n",
      "[86000]\tTrain's rmse: 74690\tValidation's rmse: 80134.9\n",
      "[86500]\tTrain's rmse: 74669\tValidation's rmse: 80126\n",
      "[87000]\tTrain's rmse: 74647.9\tValidation's rmse: 80117.3\n",
      "[87500]\tTrain's rmse: 74624.9\tValidation's rmse: 80109.7\n",
      "[88000]\tTrain's rmse: 74603.1\tValidation's rmse: 80101.7\n",
      "[88500]\tTrain's rmse: 74580.8\tValidation's rmse: 80094.4\n",
      "[89000]\tTrain's rmse: 74557.7\tValidation's rmse: 80082.3\n",
      "[89500]\tTrain's rmse: 74535.1\tValidation's rmse: 80070.4\n",
      "[90000]\tTrain's rmse: 74512.7\tValidation's rmse: 80059\n",
      "[90500]\tTrain's rmse: 74490.6\tValidation's rmse: 80048.4\n",
      "[91000]\tTrain's rmse: 74469\tValidation's rmse: 80038.7\n",
      "[91500]\tTrain's rmse: 74447.3\tValidation's rmse: 80028.5\n",
      "[92000]\tTrain's rmse: 74426.3\tValidation's rmse: 80018.5\n",
      "[92500]\tTrain's rmse: 74405.7\tValidation's rmse: 80009.6\n",
      "[93000]\tTrain's rmse: 74384.6\tValidation's rmse: 80000.8\n",
      "[93500]\tTrain's rmse: 74363.8\tValidation's rmse: 79992.9\n",
      "[94000]\tTrain's rmse: 74343.4\tValidation's rmse: 79986\n",
      "[94500]\tTrain's rmse: 74323.4\tValidation's rmse: 79979.1\n",
      "[95000]\tTrain's rmse: 74303.3\tValidation's rmse: 79972\n",
      "[95500]\tTrain's rmse: 74284.2\tValidation's rmse: 79965.4\n",
      "Early stopping, best iteration is:\n",
      "[95714]\tTrain's rmse: 74275.9\tValidation's rmse: 79963.6\n"
     ]
    }
   ],
   "source": [
    "model_lgbm = lgbm.train(train_set = train_set, \n",
    "                   params = lgbm_params,\n",
    "                   num_boost_round = 10000,\n",
    "                   valid_sets = [train_set, validation_set],\n",
    "                   valid_names = ['Train', 'Validation'], \n",
    "                   evals_result = evaluation_results,\n",
    "                   verbose_eval = 500,\n",
    "                   early_stopping_rounds=100,\n",
    "                   )\n",
    "y_pred = model_lgbm.predict(X_test)"
   ]
  },
  {
   "cell_type": "code",
   "execution_count": 55,
   "metadata": {},
   "outputs": [],
   "source": [
    "model_performance_RMSE['LightBGM'] = np.sqrt(metrics.mean_squared_error(y_test, y_pred))"
   ]
  },
  {
   "cell_type": "markdown",
   "metadata": {},
   "source": [
    "# CatBoost"
   ]
  },
  {
   "cell_type": "code",
   "execution_count": 56,
   "metadata": {},
   "outputs": [],
   "source": [
    "SEED=1\n",
    "#model parameters defined\n",
    "model_cat = CatBoostRegressor(iterations=10000,\n",
    "                          depth=16,\n",
    "                          loss_function='RMSE', \n",
    "                          cat_features=cat,\n",
    "                          thread_count=-1,\n",
    "                          early_stopping_rounds=100,\n",
    "                          verbose=True,\n",
    "                          random_seed=SEED,\n",
    "                          has_time=False\n",
    "                          )"
   ]
  },
  {
   "cell_type": "code",
   "execution_count": 57,
   "metadata": {},
   "outputs": [
    {
     "name": "stdout",
     "output_type": "stream",
     "text": [
      "Learning rate set to 0.02715\n",
      "0:\tlearn: 202271.5292963\ttest: 205819.2318133\tbest: 205819.2318133 (0)\ttotal: 2.22s\tremaining: 6h 10m 21s\n",
      "1:\tlearn: 198136.7908569\ttest: 201696.0292362\tbest: 201696.0292362 (1)\ttotal: 2.48s\tremaining: 3h 26m 13s\n",
      "2:\tlearn: 194127.0283647\ttest: 197722.3791227\tbest: 197722.3791227 (2)\ttotal: 4.27s\tremaining: 3h 56m 56s\n",
      "3:\tlearn: 190225.5749215\ttest: 193842.4464059\tbest: 193842.4464059 (3)\ttotal: 5.34s\tremaining: 3h 42m 21s\n",
      "4:\tlearn: 186463.4902164\ttest: 190124.8461629\tbest: 190124.8461629 (4)\ttotal: 5.91s\tremaining: 3h 17m 1s\n",
      "5:\tlearn: 182796.5384775\ttest: 186416.6918727\tbest: 186416.6918727 (5)\ttotal: 7.69s\tremaining: 3h 33m 35s\n",
      "6:\tlearn: 179272.9072550\ttest: 182921.8344376\tbest: 182921.8344376 (6)\ttotal: 7.82s\tremaining: 3h 6m 1s\n",
      "7:\tlearn: 175900.4239217\ttest: 179509.5193710\tbest: 179509.5193710 (7)\ttotal: 8.31s\tremaining: 2h 52m 59s\n",
      "8:\tlearn: 172580.1622712\ttest: 176207.5553765\tbest: 176207.5553765 (8)\ttotal: 8.37s\tremaining: 2h 34m 56s\n",
      "9:\tlearn: 169387.7920280\ttest: 173039.0519857\tbest: 173039.0519857 (9)\ttotal: 8.51s\tremaining: 2h 21m 36s\n",
      "10:\tlearn: 166263.9724448\ttest: 169953.2781629\tbest: 169953.2781629 (10)\ttotal: 9.58s\tremaining: 2h 24m 59s\n",
      "11:\tlearn: 163264.4092241\ttest: 166929.5302923\tbest: 166929.5302923 (11)\ttotal: 9.66s\tremaining: 2h 13m 59s\n",
      "12:\tlearn: 160363.6478741\ttest: 164106.7618203\tbest: 164106.7618203 (12)\ttotal: 10.8s\tremaining: 2h 17m 53s\n",
      "13:\tlearn: 157549.5653564\ttest: 161222.4458557\tbest: 161222.4458557 (13)\ttotal: 11.8s\tremaining: 2h 20m 25s\n",
      "14:\tlearn: 154788.6872704\ttest: 158519.6413571\tbest: 158519.6413571 (14)\ttotal: 12.9s\tremaining: 2h 23m 25s\n",
      "15:\tlearn: 152191.4936220\ttest: 156043.4544907\tbest: 156043.4544907 (15)\ttotal: 13.1s\tremaining: 2h 15m 47s\n",
      "16:\tlearn: 149645.2377556\ttest: 153600.9173385\tbest: 153600.9173385 (16)\ttotal: 14.1s\tremaining: 2h 18m 15s\n",
      "17:\tlearn: 147184.9286510\ttest: 151106.2119510\tbest: 151106.2119510 (17)\ttotal: 15s\tremaining: 2h 18m 39s\n",
      "18:\tlearn: 144776.5779918\ttest: 148706.4008614\tbest: 148706.4008614 (18)\ttotal: 15.5s\tremaining: 2h 15m 22s\n",
      "19:\tlearn: 142431.7797723\ttest: 146304.9238164\tbest: 146304.9238164 (19)\ttotal: 16.5s\tremaining: 2h 17m 1s\n",
      "20:\tlearn: 140148.2948666\ttest: 144150.4304439\tbest: 144150.4304439 (20)\ttotal: 17.5s\tremaining: 2h 18m 30s\n",
      "21:\tlearn: 137970.7847734\ttest: 141925.0429302\tbest: 141925.0429302 (21)\ttotal: 17.7s\tremaining: 2h 14m 3s\n",
      "22:\tlearn: 135909.4540430\ttest: 139833.9588310\tbest: 139833.9588310 (22)\ttotal: 17.9s\tremaining: 2h 9m 4s\n",
      "23:\tlearn: 133874.8661581\ttest: 137783.6224524\tbest: 137783.6224524 (23)\ttotal: 18.9s\tremaining: 2h 10m 44s\n",
      "24:\tlearn: 131884.0382418\ttest: 135793.6960609\tbest: 135793.6960609 (24)\ttotal: 19.9s\tremaining: 2h 12m 19s\n",
      "25:\tlearn: 130015.7286761\ttest: 134051.0230119\tbest: 134051.0230119 (25)\ttotal: 20.9s\tremaining: 2h 13m 43s\n",
      "26:\tlearn: 128175.0658590\ttest: 132203.9226596\tbest: 132203.9226596 (26)\ttotal: 21s\tremaining: 2h 9m 29s\n",
      "27:\tlearn: 126436.7991277\ttest: 130427.6912923\tbest: 130427.6912923 (27)\ttotal: 21.1s\tremaining: 2h 5m 32s\n",
      "28:\tlearn: 124752.7512021\ttest: 128828.5290878\tbest: 128828.5290878 (28)\ttotal: 22.2s\tremaining: 2h 7m 4s\n",
      "29:\tlearn: 123113.2647634\ttest: 127181.6907860\tbest: 127181.6907860 (29)\ttotal: 23.3s\tremaining: 2h 9m 15s\n",
      "30:\tlearn: 121535.5300604\ttest: 125639.0476249\tbest: 125639.0476249 (30)\ttotal: 23.4s\tremaining: 2h 5m 16s\n",
      "31:\tlearn: 119978.0625343\ttest: 124223.7296471\tbest: 124223.7296471 (31)\ttotal: 24.4s\tremaining: 2h 6m 52s\n",
      "32:\tlearn: 118480.9279962\ttest: 122789.7620289\tbest: 122789.7620289 (32)\ttotal: 25.5s\tremaining: 2h 8m 18s\n",
      "33:\tlearn: 117035.5869533\ttest: 121412.1932841\tbest: 121412.1932841 (33)\ttotal: 26.5s\tremaining: 2h 9m 31s\n",
      "34:\tlearn: 115632.8041935\ttest: 120010.0222692\tbest: 120010.0222692 (34)\ttotal: 27.6s\tremaining: 2h 10m 50s\n",
      "35:\tlearn: 114303.1954685\ttest: 118654.2052580\tbest: 118654.2052580 (35)\ttotal: 28.6s\tremaining: 2h 12m 3s\n",
      "36:\tlearn: 113002.8372787\ttest: 117349.2986496\tbest: 117349.2986496 (36)\ttotal: 29.6s\tremaining: 2h 13m 1s\n",
      "37:\tlearn: 111724.1887189\ttest: 116156.5827740\tbest: 116156.5827740 (37)\ttotal: 30.7s\tremaining: 2h 14m 5s\n",
      "38:\tlearn: 110500.8611941\ttest: 114999.3518611\tbest: 114999.3518611 (38)\ttotal: 31.7s\tremaining: 2h 14m 57s\n",
      "39:\tlearn: 109320.8059040\ttest: 113837.3465683\tbest: 113837.3465683 (39)\ttotal: 32.7s\tremaining: 2h 15m 52s\n",
      "40:\tlearn: 108191.1399606\ttest: 112769.8482028\tbest: 112769.8482028 (40)\ttotal: 33.7s\tremaining: 2h 16m 37s\n",
      "41:\tlearn: 107092.8259667\ttest: 111767.5814196\tbest: 111767.5814196 (41)\ttotal: 34.8s\tremaining: 2h 17m 20s\n",
      "42:\tlearn: 106047.5562165\ttest: 110671.8601907\tbest: 110671.8601907 (42)\ttotal: 35.9s\tremaining: 2h 18m 23s\n",
      "43:\tlearn: 105011.3343728\ttest: 109686.3309696\tbest: 109686.3309696 (43)\ttotal: 37.6s\tremaining: 2h 21m 53s\n",
      "44:\tlearn: 104026.5269088\ttest: 108752.1548824\tbest: 108752.1548824 (44)\ttotal: 38.1s\tremaining: 2h 20m 28s\n",
      "45:\tlearn: 103108.2375972\ttest: 107866.8139568\tbest: 107866.8139568 (45)\ttotal: 39.1s\tremaining: 2h 21m 5s\n",
      "46:\tlearn: 102212.9058928\ttest: 106992.3848393\tbest: 106992.3848393 (46)\ttotal: 40.1s\tremaining: 2h 21m 39s\n",
      "47:\tlearn: 101315.7605858\ttest: 106074.9773394\tbest: 106074.9773394 (47)\ttotal: 41.2s\tremaining: 2h 22m 15s\n",
      "48:\tlearn: 100471.4461543\ttest: 105248.6198752\tbest: 105248.6198752 (48)\ttotal: 42.2s\tremaining: 2h 22m 50s\n",
      "49:\tlearn: 99659.9229308\ttest: 104482.9934636\tbest: 104482.9934636 (49)\ttotal: 42.3s\tremaining: 2h 20m 22s\n",
      "50:\tlearn: 98840.0714719\ttest: 103729.3669558\tbest: 103729.3669558 (50)\ttotal: 43.4s\tremaining: 2h 20m 59s\n",
      "51:\tlearn: 98087.8882140\ttest: 102929.6253244\tbest: 102929.6253244 (51)\ttotal: 44.4s\tremaining: 2h 21m 38s\n",
      "52:\tlearn: 97342.0393153\ttest: 102223.8854068\tbest: 102223.8854068 (52)\ttotal: 45.4s\tremaining: 2h 22m 7s\n",
      "53:\tlearn: 96627.7058031\ttest: 101549.4470413\tbest: 101549.4470413 (53)\ttotal: 46.5s\tremaining: 2h 22m 35s\n",
      "54:\tlearn: 95940.4045241\ttest: 100947.8844356\tbest: 100947.8844356 (54)\ttotal: 47.5s\tremaining: 2h 23m 9s\n",
      "55:\tlearn: 95263.2917867\ttest: 100357.1078078\tbest: 100357.1078078 (55)\ttotal: 48.5s\tremaining: 2h 23m 35s\n",
      "56:\tlearn: 94607.0296894\ttest: 99681.4475910\tbest: 99681.4475910 (56)\ttotal: 49.5s\tremaining: 2h 23m 56s\n",
      "57:\tlearn: 93966.6682345\ttest: 99077.6564538\tbest: 99077.6564538 (57)\ttotal: 50.5s\tremaining: 2h 24m 22s\n",
      "58:\tlearn: 93346.0154881\ttest: 98509.0479951\tbest: 98509.0479951 (58)\ttotal: 51.5s\tremaining: 2h 24m 44s\n",
      "59:\tlearn: 92764.4016343\ttest: 97978.4709537\tbest: 97978.4709537 (59)\ttotal: 52.5s\tremaining: 2h 25m 4s\n",
      "60:\tlearn: 92216.6156894\ttest: 97458.3406803\tbest: 97458.3406803 (60)\ttotal: 53.6s\tremaining: 2h 25m 25s\n",
      "61:\tlearn: 91668.2534295\ttest: 96959.6426419\tbest: 96959.6426419 (61)\ttotal: 54.7s\tremaining: 2h 26m 11s\n",
      "62:\tlearn: 91139.1756538\ttest: 96453.9178190\tbest: 96453.9178190 (62)\ttotal: 55.7s\tremaining: 2h 26m 29s\n",
      "63:\tlearn: 90625.9945035\ttest: 95911.8853602\tbest: 95911.8853602 (63)\ttotal: 56.8s\tremaining: 2h 26m 50s\n",
      "64:\tlearn: 90143.9049172\ttest: 95474.3090812\tbest: 95474.3090812 (64)\ttotal: 57.8s\tremaining: 2h 27m 17s\n",
      "65:\tlearn: 89691.6034331\ttest: 94970.1113679\tbest: 94970.1113679 (65)\ttotal: 58.8s\tremaining: 2h 27m 36s\n",
      "66:\tlearn: 89232.5305857\ttest: 94537.8537583\tbest: 94537.8537583 (66)\ttotal: 59.9s\tremaining: 2h 27m 57s\n",
      "67:\tlearn: 88806.0237921\ttest: 94076.4675675\tbest: 94076.4675675 (67)\ttotal: 1m\tremaining: 2h 26m 21s\n",
      "68:\tlearn: 88376.8039844\ttest: 93678.6576893\tbest: 93678.6576893 (68)\ttotal: 1m 1s\tremaining: 2h 26m 45s\n",
      "69:\tlearn: 87974.2616479\ttest: 93280.7034458\tbest: 93280.7034458 (69)\ttotal: 1m 1s\tremaining: 2h 25m 13s\n",
      "70:\tlearn: 87580.0053635\ttest: 92915.9443096\tbest: 92915.9443096 (70)\ttotal: 1m 2s\tremaining: 2h 25m 31s\n",
      "71:\tlearn: 87177.3884214\ttest: 92558.3810997\tbest: 92558.3810997 (71)\ttotal: 1m 3s\tremaining: 2h 25m 46s\n",
      "72:\tlearn: 86838.0165871\ttest: 92225.9021692\tbest: 92225.9021692 (72)\ttotal: 1m 3s\tremaining: 2h 23m 50s\n",
      "73:\tlearn: 86468.8221127\ttest: 91867.5721898\tbest: 91867.5721898 (73)\ttotal: 1m 4s\tremaining: 2h 24m 11s\n",
      "74:\tlearn: 86142.1637677\ttest: 91538.7679041\tbest: 91538.7679041 (74)\ttotal: 1m 5s\tremaining: 2h 24m 30s\n",
      "75:\tlearn: 85795.5499829\ttest: 91187.6281036\tbest: 91187.6281036 (75)\ttotal: 1m 6s\tremaining: 2h 24m 48s\n",
      "76:\tlearn: 85472.9226014\ttest: 90894.9682996\tbest: 90894.9682996 (76)\ttotal: 1m 7s\tremaining: 2h 25m 8s\n",
      "77:\tlearn: 85149.8096672\ttest: 90544.4253555\tbest: 90544.4253555 (77)\ttotal: 1m 8s\tremaining: 2h 25m 26s\n",
      "78:\tlearn: 84848.8087636\ttest: 90269.4539102\tbest: 90269.4539102 (78)\ttotal: 1m 9s\tremaining: 2h 25m 40s\n",
      "79:\tlearn: 84544.0854376\ttest: 89992.3050907\tbest: 89992.3050907 (79)\ttotal: 1m 10s\tremaining: 2h 25m 56s\n",
      "80:\tlearn: 84242.5080724\ttest: 89716.6068002\tbest: 89716.6068002 (80)\ttotal: 1m 11s\tremaining: 2h 26m 10s\n",
      "81:\tlearn: 83963.1995677\ttest: 89454.6415606\tbest: 89454.6415606 (81)\ttotal: 1m 12s\tremaining: 2h 26m 23s\n",
      "82:\tlearn: 83699.4588418\ttest: 89212.2958975\tbest: 89212.2958975 (82)\ttotal: 1m 13s\tremaining: 2h 26m 42s\n",
      "83:\tlearn: 83423.9090701\ttest: 88950.8298070\tbest: 88950.8298070 (83)\ttotal: 1m 14s\tremaining: 2h 26m 58s\n",
      "84:\tlearn: 83177.1049173\ttest: 88715.5416489\tbest: 88715.5416489 (84)\ttotal: 1m 15s\tremaining: 2h 27m 12s\n",
      "85:\tlearn: 82941.3926476\ttest: 88497.6642915\tbest: 88497.6642915 (85)\ttotal: 1m 16s\tremaining: 2h 27m 26s\n",
      "86:\tlearn: 82716.0651639\ttest: 88254.5456275\tbest: 88254.5456275 (86)\ttotal: 1m 17s\tremaining: 2h 27m 39s\n",
      "87:\tlearn: 82480.5146806\ttest: 88031.4533611\tbest: 88031.4533611 (87)\ttotal: 1m 18s\tremaining: 2h 27m 51s\n",
      "88:\tlearn: 82259.3087448\ttest: 87834.7239291\tbest: 87834.7239291 (88)\ttotal: 1m 19s\tremaining: 2h 28m 3s\n",
      "89:\tlearn: 82045.2528480\ttest: 87645.9216678\tbest: 87645.9216678 (89)\ttotal: 1m 20s\tremaining: 2h 28m 14s\n",
      "90:\tlearn: 81846.1959937\ttest: 87457.9651541\tbest: 87457.9651541 (90)\ttotal: 1m 21s\tremaining: 2h 28m 30s\n",
      "91:\tlearn: 81634.9905535\ttest: 87236.4041749\tbest: 87236.4041749 (91)\ttotal: 1m 22s\tremaining: 2h 28m 40s\n",
      "92:\tlearn: 81425.3591933\ttest: 87033.2100377\tbest: 87033.2100377 (92)\ttotal: 1m 23s\tremaining: 2h 28m 51s\n",
      "93:\tlearn: 81270.6268030\ttest: 86862.1454639\tbest: 86862.1454639 (93)\ttotal: 1m 23s\tremaining: 2h 27m 22s\n",
      "94:\tlearn: 81073.8575367\ttest: 86665.9802514\tbest: 86665.9802514 (94)\ttotal: 1m 24s\tremaining: 2h 27m 35s\n",
      "95:\tlearn: 80883.8168932\ttest: 86515.8910397\tbest: 86515.8910397 (95)\ttotal: 1m 25s\tremaining: 2h 27m 46s\n",
      "96:\tlearn: 80707.4426158\ttest: 86338.4489133\tbest: 86338.4489133 (96)\ttotal: 1m 26s\tremaining: 2h 27m 58s\n",
      "97:\tlearn: 80537.9841729\ttest: 86186.7607750\tbest: 86186.7607750 (97)\ttotal: 1m 28s\tremaining: 2h 28m 14s\n",
      "98:\tlearn: 80394.6387067\ttest: 86062.1053180\tbest: 86062.1053180 (98)\ttotal: 1m 29s\tremaining: 2h 28m 25s\n",
      "99:\tlearn: 80226.6083613\ttest: 85891.7362618\tbest: 85891.7362618 (99)\ttotal: 1m 30s\tremaining: 2h 28m 34s\n",
      "100:\tlearn: 80087.0340364\ttest: 85760.1933182\tbest: 85760.1933182 (100)\ttotal: 1m 31s\tremaining: 2h 28m 46s\n",
      "101:\tlearn: 79915.9929961\ttest: 85602.4881841\tbest: 85602.4881841 (101)\ttotal: 1m 32s\tremaining: 2h 28m 55s\n",
      "102:\tlearn: 79748.7494463\ttest: 85462.0151910\tbest: 85462.0151910 (102)\ttotal: 1m 33s\tremaining: 2h 29m 4s\n",
      "103:\tlearn: 79596.8333761\ttest: 85324.3233719\tbest: 85324.3233719 (103)\ttotal: 1m 34s\tremaining: 2h 29m 13s\n",
      "104:\tlearn: 79475.6542864\ttest: 85202.3634388\tbest: 85202.3634388 (104)\ttotal: 1m 35s\tremaining: 2h 29m 24s\n",
      "105:\tlearn: 79356.6238913\ttest: 85067.0175477\tbest: 85067.0175477 (105)\ttotal: 1m 36s\tremaining: 2h 29m 33s\n",
      "106:\tlearn: 79205.5859183\ttest: 84930.1531096\tbest: 84930.1531096 (106)\ttotal: 1m 37s\tremaining: 2h 29m 45s\n",
      "107:\tlearn: 79094.3814576\ttest: 84830.5218714\tbest: 84830.5218714 (107)\ttotal: 1m 38s\tremaining: 2h 29m 57s\n",
      "108:\tlearn: 78985.5467511\ttest: 84724.9349298\tbest: 84724.9349298 (108)\ttotal: 1m 39s\tremaining: 2h 30m 8s\n",
      "109:\tlearn: 78874.1633830\ttest: 84615.4738530\tbest: 84615.4738530 (109)\ttotal: 1m 40s\tremaining: 2h 30m 25s\n",
      "110:\tlearn: 78769.1823928\ttest: 84496.5637233\tbest: 84496.5637233 (110)\ttotal: 1m 41s\tremaining: 2h 30m 40s\n",
      "111:\tlearn: 78652.3745538\ttest: 84395.6804945\tbest: 84395.6804945 (111)\ttotal: 1m 42s\tremaining: 2h 30m 48s\n",
      "112:\tlearn: 78530.9322537\ttest: 84326.0900066\tbest: 84326.0900066 (112)\ttotal: 1m 43s\tremaining: 2h 30m 55s\n",
      "113:\tlearn: 78422.9442927\ttest: 84228.5024319\tbest: 84228.5024319 (113)\ttotal: 1m 44s\tremaining: 2h 31m 3s\n",
      "114:\tlearn: 78309.3236312\ttest: 84106.5198540\tbest: 84106.5198540 (114)\ttotal: 1m 45s\tremaining: 2h 31m 10s\n",
      "115:\tlearn: 78206.7878167\ttest: 84031.2025998\tbest: 84031.2025998 (115)\ttotal: 1m 46s\tremaining: 2h 31m 17s\n",
      "116:\tlearn: 78121.7880379\ttest: 83942.4606017\tbest: 83942.4606017 (116)\ttotal: 1m 46s\tremaining: 2h 30m 18s\n",
      "117:\tlearn: 78027.3815578\ttest: 83857.5688590\tbest: 83857.5688590 (117)\ttotal: 1m 47s\tremaining: 2h 30m 28s\n",
      "118:\tlearn: 77910.8771012\ttest: 83755.1251343\tbest: 83755.1251343 (118)\ttotal: 1m 48s\tremaining: 2h 30m 35s\n",
      "119:\tlearn: 77798.7945092\ttest: 83678.9204542\tbest: 83678.9204542 (119)\ttotal: 1m 49s\tremaining: 2h 30m 42s\n",
      "120:\tlearn: 77704.8284177\ttest: 83595.5965838\tbest: 83595.5965838 (120)\ttotal: 1m 50s\tremaining: 2h 30m 49s\n",
      "121:\tlearn: 77586.8035203\ttest: 83488.9041034\tbest: 83488.9041034 (121)\ttotal: 1m 51s\tremaining: 2h 30m 56s\n",
      "122:\tlearn: 77508.2857893\ttest: 83417.7716543\tbest: 83417.7716543 (122)\ttotal: 1m 52s\tremaining: 2h 31m 3s\n",
      "123:\tlearn: 77422.2917532\ttest: 83359.5548603\tbest: 83359.5548603 (123)\ttotal: 1m 53s\tremaining: 2h 31m 11s\n",
      "124:\tlearn: 77359.7203860\ttest: 83304.2917833\tbest: 83304.2917833 (124)\ttotal: 1m 54s\tremaining: 2h 30m 7s\n",
      "125:\tlearn: 77251.3215245\ttest: 83224.5280418\tbest: 83224.5280418 (125)\ttotal: 1m 55s\tremaining: 2h 30m 15s\n",
      "126:\tlearn: 77170.6476969\ttest: 83136.7669093\tbest: 83136.7669093 (126)\ttotal: 1m 56s\tremaining: 2h 30m 22s\n",
      "127:\tlearn: 77078.1777226\ttest: 83061.2676933\tbest: 83061.2676933 (127)\ttotal: 1m 57s\tremaining: 2h 30m 29s\n",
      "128:\tlearn: 77006.0621689\ttest: 82977.2336504\tbest: 82977.2336504 (128)\ttotal: 1m 58s\tremaining: 2h 30m 38s\n",
      "129:\tlearn: 76929.1479684\ttest: 82904.5681971\tbest: 82904.5681971 (129)\ttotal: 1m 59s\tremaining: 2h 30m 45s\n",
      "130:\tlearn: 76859.7405222\ttest: 82854.6676924\tbest: 82854.6676924 (130)\ttotal: 2m\tremaining: 2h 30m 51s\n",
      "131:\tlearn: 76769.7052170\ttest: 82781.1230019\tbest: 82781.1230019 (131)\ttotal: 2m 1s\tremaining: 2h 30m 57s\n",
      "132:\tlearn: 76734.8715458\ttest: 82720.7518537\tbest: 82720.7518537 (132)\ttotal: 2m 1s\tremaining: 2h 29m 49s\n",
      "133:\tlearn: 76659.6432069\ttest: 82668.8688780\tbest: 82668.8688780 (133)\ttotal: 2m 2s\tremaining: 2h 29m 57s\n",
      "134:\tlearn: 76580.7351544\ttest: 82608.0912322\tbest: 82608.0912322 (134)\ttotal: 2m 3s\tremaining: 2h 30m 3s\n",
      "135:\tlearn: 76506.2249988\ttest: 82579.8828073\tbest: 82579.8828073 (135)\ttotal: 2m 4s\tremaining: 2h 30m 9s\n",
      "136:\tlearn: 76442.8804072\ttest: 82539.6046776\tbest: 82539.6046776 (136)\ttotal: 2m 5s\tremaining: 2h 30m 16s\n",
      "137:\tlearn: 76387.9333606\ttest: 82487.7063874\tbest: 82487.7063874 (137)\ttotal: 2m 6s\tremaining: 2h 30m 22s\n",
      "138:\tlearn: 76320.7462055\ttest: 82438.8953668\tbest: 82438.8953668 (138)\ttotal: 2m 7s\tremaining: 2h 30m 28s\n",
      "139:\tlearn: 76247.8007352\ttest: 82391.0903344\tbest: 82391.0903344 (139)\ttotal: 2m 8s\tremaining: 2h 30m 34s\n",
      "140:\tlearn: 76190.3524310\ttest: 82350.7994459\tbest: 82350.7994459 (140)\ttotal: 2m 9s\tremaining: 2h 30m 42s\n",
      "141:\tlearn: 76115.9048905\ttest: 82285.2238589\tbest: 82285.2238589 (141)\ttotal: 2m 10s\tremaining: 2h 30m 49s\n",
      "142:\tlearn: 76055.4664044\ttest: 82229.8000958\tbest: 82229.8000958 (142)\ttotal: 2m 11s\tremaining: 2h 30m 55s\n",
      "143:\tlearn: 75986.3226548\ttest: 82157.0411743\tbest: 82157.0411743 (143)\ttotal: 2m 12s\tremaining: 2h 31m 2s\n",
      "144:\tlearn: 75915.8995514\ttest: 82101.3013551\tbest: 82101.3013551 (144)\ttotal: 2m 13s\tremaining: 2h 31m 10s\n",
      "145:\tlearn: 75858.9527917\ttest: 82054.9539094\tbest: 82054.9539094 (145)\ttotal: 2m 14s\tremaining: 2h 31m 15s\n",
      "146:\tlearn: 75795.6224754\ttest: 82006.7571440\tbest: 82006.7571440 (146)\ttotal: 2m 15s\tremaining: 2h 31m 22s\n",
      "147:\tlearn: 75729.8074714\ttest: 81935.0969904\tbest: 81935.0969904 (147)\ttotal: 2m 16s\tremaining: 2h 31m 27s\n",
      "148:\tlearn: 75658.3864698\ttest: 81894.8261192\tbest: 81894.8261192 (148)\ttotal: 2m 17s\tremaining: 2h 31m 33s\n",
      "149:\tlearn: 75612.9169094\ttest: 81849.2785973\tbest: 81849.2785973 (149)\ttotal: 2m 18s\tremaining: 2h 31m 39s\n",
      "150:\tlearn: 75567.1397038\ttest: 81806.5789137\tbest: 81806.5789137 (150)\ttotal: 2m 20s\tremaining: 2h 32m 27s\n",
      "151:\tlearn: 75514.9562046\ttest: 81750.8729202\tbest: 81750.8729202 (151)\ttotal: 2m 21s\tremaining: 2h 32m 31s\n",
      "152:\tlearn: 75465.8104813\ttest: 81725.4588233\tbest: 81725.4588233 (152)\ttotal: 2m 22s\tremaining: 2h 32m 36s\n",
      "153:\tlearn: 75401.8597611\ttest: 81694.5640335\tbest: 81694.5640335 (153)\ttotal: 2m 23s\tremaining: 2h 32m 41s\n",
      "154:\tlearn: 75335.9135830\ttest: 81665.5940743\tbest: 81665.5940743 (154)\ttotal: 2m 24s\tremaining: 2h 32m 48s\n",
      "155:\tlearn: 75286.8190556\ttest: 81632.1883640\tbest: 81632.1883640 (155)\ttotal: 2m 25s\tremaining: 2h 32m 53s\n",
      "156:\tlearn: 75220.5536800\ttest: 81598.3118485\tbest: 81598.3118485 (156)\ttotal: 2m 26s\tremaining: 2h 32m 57s\n",
      "157:\tlearn: 75185.3201627\ttest: 81562.8210136\tbest: 81562.8210136 (157)\ttotal: 2m 27s\tremaining: 2h 33m 2s\n",
      "158:\tlearn: 75131.0326204\ttest: 81524.0297574\tbest: 81524.0297574 (158)\ttotal: 2m 28s\tremaining: 2h 33m 8s\n",
      "159:\tlearn: 75085.7422691\ttest: 81494.6784379\tbest: 81494.6784379 (159)\ttotal: 2m 29s\tremaining: 2h 33m 11s\n",
      "160:\tlearn: 75036.3983560\ttest: 81458.4985103\tbest: 81458.4985103 (160)\ttotal: 2m 30s\tremaining: 2h 33m 14s\n",
      "161:\tlearn: 74994.6054867\ttest: 81420.7453700\tbest: 81420.7453700 (161)\ttotal: 2m 31s\tremaining: 2h 33m 17s\n",
      "162:\tlearn: 74940.2530333\ttest: 81393.6771939\tbest: 81393.6771939 (162)\ttotal: 2m 32s\tremaining: 2h 33m 28s\n",
      "163:\tlearn: 74895.7154818\ttest: 81358.2921855\tbest: 81358.2921855 (163)\ttotal: 2m 33s\tremaining: 2h 33m 33s\n",
      "164:\tlearn: 74848.2665191\ttest: 81329.7878692\tbest: 81329.7878692 (164)\ttotal: 2m 34s\tremaining: 2h 33m 38s\n",
      "165:\tlearn: 74788.6725064\ttest: 81295.6808719\tbest: 81295.6808719 (165)\ttotal: 2m 35s\tremaining: 2h 33m 51s\n",
      "166:\tlearn: 74750.2556212\ttest: 81260.4845304\tbest: 81260.4845304 (166)\ttotal: 2m 36s\tremaining: 2h 33m 59s\n",
      "167:\tlearn: 74735.4952906\ttest: 81243.5701373\tbest: 81243.5701373 (167)\ttotal: 2m 36s\tremaining: 2h 33m 4s\n",
      "168:\tlearn: 74694.8309300\ttest: 81219.2687605\tbest: 81219.2687605 (168)\ttotal: 2m 38s\tremaining: 2h 33m 11s\n",
      "169:\tlearn: 74638.0099944\ttest: 81201.1863911\tbest: 81201.1863911 (169)\ttotal: 2m 39s\tremaining: 2h 33m 15s\n",
      "170:\tlearn: 74577.9905653\ttest: 81167.9675838\tbest: 81167.9675838 (170)\ttotal: 2m 40s\tremaining: 2h 33m 20s\n",
      "171:\tlearn: 74547.3622379\ttest: 81145.7842168\tbest: 81145.7842168 (171)\ttotal: 2m 41s\tremaining: 2h 33m 24s\n",
      "172:\tlearn: 74517.4176305\ttest: 81112.0964035\tbest: 81112.0964035 (172)\ttotal: 2m 42s\tremaining: 2h 33m 28s\n",
      "173:\tlearn: 74478.0855821\ttest: 81089.5519936\tbest: 81089.5519936 (173)\ttotal: 2m 43s\tremaining: 2h 33m 38s\n",
      "174:\tlearn: 74440.5598924\ttest: 81062.6673222\tbest: 81062.6673222 (174)\ttotal: 2m 44s\tremaining: 2h 33m 47s\n",
      "175:\tlearn: 74395.8166619\ttest: 81030.7063792\tbest: 81030.7063792 (175)\ttotal: 2m 45s\tremaining: 2h 33m 52s\n",
      "176:\tlearn: 74356.0628274\ttest: 81005.6148677\tbest: 81005.6148677 (176)\ttotal: 2m 46s\tremaining: 2h 33m 56s\n",
      "177:\tlearn: 74319.2234757\ttest: 80970.2582996\tbest: 80970.2582996 (177)\ttotal: 2m 47s\tremaining: 2h 33m 59s\n",
      "178:\tlearn: 74288.2610965\ttest: 80941.8416581\tbest: 80941.8416581 (178)\ttotal: 2m 48s\tremaining: 2h 34m 3s\n",
      "179:\tlearn: 74246.3044104\ttest: 80906.2643374\tbest: 80906.2643374 (179)\ttotal: 2m 49s\tremaining: 2h 34m 6s\n",
      "180:\tlearn: 74216.8016095\ttest: 80881.7603688\tbest: 80881.7603688 (180)\ttotal: 2m 50s\tremaining: 2h 34m 9s\n",
      "181:\tlearn: 74179.4702916\ttest: 80853.5225431\tbest: 80853.5225431 (181)\ttotal: 2m 51s\tremaining: 2h 34m 12s\n",
      "182:\tlearn: 74146.6685885\ttest: 80838.7996699\tbest: 80838.7996699 (182)\ttotal: 2m 52s\tremaining: 2h 34m 15s\n",
      "183:\tlearn: 74124.1516740\ttest: 80825.7106618\tbest: 80825.7106618 (183)\ttotal: 2m 53s\tremaining: 2h 34m 19s\n",
      "184:\tlearn: 74091.1230184\ttest: 80814.6097295\tbest: 80814.6097295 (184)\ttotal: 2m 54s\tremaining: 2h 34m 23s\n",
      "185:\tlearn: 74056.0588291\ttest: 80797.3499523\tbest: 80797.3499523 (185)\ttotal: 2m 55s\tremaining: 2h 34m 27s\n",
      "186:\tlearn: 74019.6708008\ttest: 80782.5542980\tbest: 80782.5542980 (186)\ttotal: 2m 56s\tremaining: 2h 34m 31s\n",
      "187:\tlearn: 73986.0315553\ttest: 80768.7232042\tbest: 80768.7232042 (187)\ttotal: 2m 57s\tremaining: 2h 34m 25s\n",
      "188:\tlearn: 73964.1306230\ttest: 80745.1244885\tbest: 80745.1244885 (188)\ttotal: 2m 58s\tremaining: 2h 34m 28s\n",
      "189:\tlearn: 73939.5136101\ttest: 80723.2874767\tbest: 80723.2874767 (189)\ttotal: 2m 59s\tremaining: 2h 34m 31s\n",
      "190:\tlearn: 73909.1255906\ttest: 80695.5563972\tbest: 80695.5563972 (190)\ttotal: 3m\tremaining: 2h 34m 34s\n",
      "191:\tlearn: 73867.2956701\ttest: 80685.2064205\tbest: 80685.2064205 (191)\ttotal: 3m 1s\tremaining: 2h 34m 37s\n",
      "192:\tlearn: 73841.0952913\ttest: 80659.9036436\tbest: 80659.9036436 (192)\ttotal: 3m 2s\tremaining: 2h 34m 40s\n",
      "193:\tlearn: 73801.4022583\ttest: 80643.9042262\tbest: 80643.9042262 (193)\ttotal: 3m 3s\tremaining: 2h 34m 44s\n",
      "194:\tlearn: 73762.5627923\ttest: 80624.4942148\tbest: 80624.4942148 (194)\ttotal: 3m 4s\tremaining: 2h 34m 46s\n",
      "195:\tlearn: 73732.3509862\ttest: 80601.3876950\tbest: 80601.3876950 (195)\ttotal: 3m 5s\tremaining: 2h 34m 49s\n",
      "196:\tlearn: 73707.5897338\ttest: 80593.8131567\tbest: 80593.8131567 (196)\ttotal: 3m 6s\tremaining: 2h 34m 56s\n",
      "197:\tlearn: 73688.5340771\ttest: 80577.7954803\tbest: 80577.7954803 (197)\ttotal: 3m 7s\tremaining: 2h 34m 58s\n",
      "198:\tlearn: 73665.5129398\ttest: 80569.0928892\tbest: 80569.0928892 (198)\ttotal: 3m 8s\tremaining: 2h 35m 1s\n",
      "199:\tlearn: 73626.3088150\ttest: 80545.6039311\tbest: 80545.6039311 (199)\ttotal: 3m 9s\tremaining: 2h 35m 5s\n",
      "200:\tlearn: 73593.5773767\ttest: 80529.7890479\tbest: 80529.7890479 (200)\ttotal: 3m 10s\tremaining: 2h 35m 7s\n",
      "201:\tlearn: 73559.5480167\ttest: 80516.8863229\tbest: 80516.8863229 (201)\ttotal: 3m 11s\tremaining: 2h 35m 8s\n",
      "202:\tlearn: 73532.3848799\ttest: 80488.4978635\tbest: 80488.4978635 (202)\ttotal: 3m 12s\tremaining: 2h 35m 13s\n",
      "203:\tlearn: 73497.6579864\ttest: 80480.1330724\tbest: 80480.1330724 (203)\ttotal: 3m 13s\tremaining: 2h 35m 15s\n",
      "204:\tlearn: 73464.2403600\ttest: 80469.1142867\tbest: 80469.1142867 (204)\ttotal: 3m 15s\tremaining: 2h 35m 18s\n",
      "205:\tlearn: 73436.3111028\ttest: 80442.9294346\tbest: 80442.9294346 (205)\ttotal: 3m 16s\tremaining: 2h 35m 20s\n",
      "206:\tlearn: 73412.9809541\ttest: 80427.3941613\tbest: 80427.3941613 (206)\ttotal: 3m 17s\tremaining: 2h 35m 22s\n",
      "207:\tlearn: 73367.9944208\ttest: 80419.5173806\tbest: 80419.5173806 (207)\ttotal: 3m 18s\tremaining: 2h 35m 24s\n",
      "208:\tlearn: 73330.1802392\ttest: 80408.3133235\tbest: 80408.3133235 (208)\ttotal: 3m 19s\tremaining: 2h 35m 26s\n",
      "209:\tlearn: 73292.3761532\ttest: 80391.3995640\tbest: 80391.3995640 (209)\ttotal: 3m 20s\tremaining: 2h 35m 28s\n",
      "210:\tlearn: 73263.5524935\ttest: 80380.9922757\tbest: 80380.9922757 (210)\ttotal: 3m 21s\tremaining: 2h 35m 30s\n",
      "211:\tlearn: 73235.2780751\ttest: 80378.8943555\tbest: 80378.8943555 (211)\ttotal: 3m 22s\tremaining: 2h 35m 32s\n",
      "212:\tlearn: 73208.9875649\ttest: 80365.2020301\tbest: 80365.2020301 (212)\ttotal: 3m 23s\tremaining: 2h 35m 35s\n",
      "213:\tlearn: 73179.8266027\ttest: 80344.0312096\tbest: 80344.0312096 (213)\ttotal: 3m 24s\tremaining: 2h 35m 38s\n",
      "214:\tlearn: 73158.2910475\ttest: 80339.7841021\tbest: 80339.7841021 (214)\ttotal: 3m 25s\tremaining: 2h 35m 41s\n",
      "215:\tlearn: 73115.6578862\ttest: 80340.9392646\tbest: 80339.7841021 (214)\ttotal: 3m 26s\tremaining: 2h 35m 45s\n",
      "216:\tlearn: 73095.3168732\ttest: 80322.7014949\tbest: 80322.7014949 (216)\ttotal: 3m 27s\tremaining: 2h 35m 47s\n",
      "217:\tlearn: 73059.8615697\ttest: 80311.0687889\tbest: 80311.0687889 (217)\ttotal: 3m 28s\tremaining: 2h 35m 48s\n",
      "218:\tlearn: 73026.0578021\ttest: 80309.3789402\tbest: 80309.3789402 (218)\ttotal: 3m 29s\tremaining: 2h 35m 52s\n",
      "219:\tlearn: 73021.0928266\ttest: 80301.0080991\tbest: 80301.0080991 (219)\ttotal: 3m 29s\tremaining: 2h 35m 9s\n",
      "220:\tlearn: 73011.4294144\ttest: 80287.3129921\tbest: 80287.3129921 (220)\ttotal: 3m 30s\tremaining: 2h 35m 4s\n",
      "221:\tlearn: 72996.3331855\ttest: 80288.2296598\tbest: 80287.3129921 (220)\ttotal: 3m 30s\tremaining: 2h 34m 24s\n",
      "222:\tlearn: 72961.1512414\ttest: 80288.3190016\tbest: 80287.3129921 (220)\ttotal: 3m 31s\tremaining: 2h 34m 26s\n",
      "223:\tlearn: 72958.9108440\ttest: 80278.8086869\tbest: 80278.8086869 (223)\ttotal: 3m 31s\tremaining: 2h 33m 44s\n",
      "224:\tlearn: 72932.3362149\ttest: 80281.2955780\tbest: 80278.8086869 (223)\ttotal: 3m 32s\tremaining: 2h 33m 39s\n",
      "225:\tlearn: 72900.4639517\ttest: 80277.2666639\tbest: 80277.2666639 (225)\ttotal: 3m 33s\tremaining: 2h 33m 41s\n",
      "226:\tlearn: 72893.6512902\ttest: 80263.1970675\tbest: 80263.1970675 (226)\ttotal: 3m 33s\tremaining: 2h 33m\n",
      "227:\tlearn: 72865.8828192\ttest: 80257.8772058\tbest: 80257.8772058 (227)\ttotal: 3m 34s\tremaining: 2h 33m 2s\n",
      "228:\tlearn: 72835.1542660\ttest: 80266.5336270\tbest: 80257.8772058 (227)\ttotal: 3m 35s\tremaining: 2h 33m 14s\n",
      "229:\tlearn: 72809.6697480\ttest: 80273.7352324\tbest: 80257.8772058 (227)\ttotal: 3m 36s\tremaining: 2h 33m 13s\n",
      "230:\tlearn: 72791.8513778\ttest: 80262.7988688\tbest: 80257.8772058 (227)\ttotal: 3m 37s\tremaining: 2h 33m 16s\n",
      "231:\tlearn: 72764.1850723\ttest: 80244.0709693\tbest: 80244.0709693 (231)\ttotal: 3m 38s\tremaining: 2h 33m 18s\n",
      "232:\tlearn: 72733.9788086\ttest: 80254.5151439\tbest: 80244.0709693 (231)\ttotal: 3m 39s\tremaining: 2h 33m 22s\n",
      "233:\tlearn: 72716.3998185\ttest: 80238.2223971\tbest: 80238.2223971 (233)\ttotal: 3m 40s\tremaining: 2h 33m 25s\n",
      "234:\tlearn: 72684.2458903\ttest: 80224.1629338\tbest: 80224.1629338 (234)\ttotal: 3m 41s\tremaining: 2h 33m 27s\n",
      "235:\tlearn: 72662.2656231\ttest: 80214.8291062\tbest: 80214.8291062 (235)\ttotal: 3m 42s\tremaining: 2h 33m 34s\n",
      "236:\tlearn: 72644.5470970\ttest: 80199.8331758\tbest: 80199.8331758 (236)\ttotal: 3m 44s\tremaining: 2h 33m 55s\n",
      "237:\tlearn: 72617.0502476\ttest: 80187.6130882\tbest: 80187.6130882 (237)\ttotal: 3m 45s\tremaining: 2h 34m 16s\n",
      "238:\tlearn: 72597.8760797\ttest: 80171.7666964\tbest: 80171.7666964 (238)\ttotal: 3m 46s\tremaining: 2h 34m 18s\n",
      "239:\tlearn: 72570.6465670\ttest: 80174.3074239\tbest: 80171.7666964 (238)\ttotal: 3m 47s\tremaining: 2h 34m 27s\n",
      "240:\tlearn: 72546.3364397\ttest: 80162.0328157\tbest: 80162.0328157 (240)\ttotal: 3m 49s\tremaining: 2h 34m 40s\n",
      "241:\tlearn: 72521.0122418\ttest: 80144.7724365\tbest: 80144.7724365 (241)\ttotal: 3m 50s\tremaining: 2h 35m 5s\n",
      "242:\tlearn: 72512.1456845\ttest: 80131.7537296\tbest: 80131.7537296 (242)\ttotal: 3m 50s\tremaining: 2h 34m 31s\n",
      "243:\tlearn: 72491.4914803\ttest: 80119.1350790\tbest: 80119.1350790 (243)\ttotal: 3m 52s\tremaining: 2h 34m 36s\n",
      "244:\tlearn: 72459.5834021\ttest: 80117.3484142\tbest: 80117.3484142 (244)\ttotal: 3m 53s\tremaining: 2h 34m 41s\n",
      "245:\tlearn: 72437.0609484\ttest: 80103.7223406\tbest: 80103.7223406 (245)\ttotal: 3m 54s\tremaining: 2h 34m 43s\n",
      "246:\tlearn: 72416.4727400\ttest: 80094.0210682\tbest: 80094.0210682 (246)\ttotal: 3m 55s\tremaining: 2h 34m 45s\n",
      "247:\tlearn: 72402.6197616\ttest: 80080.1152519\tbest: 80080.1152519 (247)\ttotal: 3m 56s\tremaining: 2h 34m 47s\n",
      "248:\tlearn: 72392.2431687\ttest: 80071.4274837\tbest: 80071.4274837 (248)\ttotal: 3m 57s\tremaining: 2h 34m 48s\n",
      "249:\tlearn: 72368.8904228\ttest: 80071.8521487\tbest: 80071.4274837 (248)\ttotal: 3m 58s\tremaining: 2h 34m 50s\n",
      "250:\tlearn: 72323.7322925\ttest: 80068.6450906\tbest: 80068.6450906 (250)\ttotal: 3m 59s\tremaining: 2h 34m 52s\n",
      "251:\tlearn: 72305.6359241\ttest: 80052.7472747\tbest: 80052.7472747 (251)\ttotal: 4m\tremaining: 2h 34m 53s\n",
      "252:\tlearn: 72285.8065708\ttest: 80069.1771077\tbest: 80052.7472747 (251)\ttotal: 4m 1s\tremaining: 2h 34m 54s\n",
      "253:\tlearn: 72263.9608756\ttest: 80061.8595574\tbest: 80052.7472747 (251)\ttotal: 4m 2s\tremaining: 2h 34m 56s\n",
      "254:\tlearn: 72247.1364121\ttest: 80053.3575129\tbest: 80052.7472747 (251)\ttotal: 4m 3s\tremaining: 2h 34m 57s\n",
      "255:\tlearn: 72238.7625630\ttest: 80046.9211373\tbest: 80046.9211373 (255)\ttotal: 4m 4s\tremaining: 2h 34m 58s\n",
      "256:\tlearn: 72211.2237679\ttest: 80039.7596798\tbest: 80039.7596798 (256)\ttotal: 4m 5s\tremaining: 2h 35m 1s\n",
      "257:\tlearn: 72194.6251986\ttest: 80035.1242848\tbest: 80035.1242848 (257)\ttotal: 4m 6s\tremaining: 2h 35m 3s\n",
      "258:\tlearn: 72180.5614087\ttest: 80027.9576921\tbest: 80027.9576921 (258)\ttotal: 4m 7s\tremaining: 2h 35m 5s\n",
      "259:\tlearn: 72164.8539913\ttest: 80011.6871872\tbest: 80011.6871872 (259)\ttotal: 4m 8s\tremaining: 2h 35m 6s\n",
      "260:\tlearn: 72145.4415995\ttest: 79996.1217370\tbest: 79996.1217370 (260)\ttotal: 4m 9s\tremaining: 2h 35m 7s\n",
      "261:\tlearn: 72138.4309507\ttest: 79993.3273220\tbest: 79993.3273220 (261)\ttotal: 4m 9s\tremaining: 2h 34m 35s\n",
      "262:\tlearn: 72115.7599804\ttest: 79981.9900073\tbest: 79981.9900073 (262)\ttotal: 4m 10s\tremaining: 2h 34m 37s\n",
      "263:\tlearn: 72101.5993169\ttest: 79972.7551474\tbest: 79972.7551474 (263)\ttotal: 4m 11s\tremaining: 2h 34m 38s\n",
      "264:\tlearn: 72090.6796820\ttest: 79964.0022545\tbest: 79964.0022545 (264)\ttotal: 4m 12s\tremaining: 2h 34m 40s\n",
      "265:\tlearn: 72065.9571796\ttest: 79948.2743591\tbest: 79948.2743591 (265)\ttotal: 4m 13s\tremaining: 2h 34m 43s\n",
      "266:\tlearn: 72049.6999742\ttest: 79936.6808270\tbest: 79936.6808270 (266)\ttotal: 4m 14s\tremaining: 2h 34m 45s\n",
      "267:\tlearn: 72020.4607388\ttest: 79925.7029172\tbest: 79925.7029172 (267)\ttotal: 4m 15s\tremaining: 2h 34m 46s\n",
      "268:\tlearn: 72008.5933132\ttest: 79920.8016568\tbest: 79920.8016568 (268)\ttotal: 4m 16s\tremaining: 2h 34m 48s\n",
      "269:\tlearn: 71985.9940542\ttest: 79919.7136678\tbest: 79919.7136678 (269)\ttotal: 4m 17s\tremaining: 2h 34m 50s\n",
      "270:\tlearn: 71961.2433057\ttest: 79913.2661695\tbest: 79913.2661695 (270)\ttotal: 4m 18s\tremaining: 2h 34m 51s\n",
      "271:\tlearn: 71939.3666786\ttest: 79910.6035391\tbest: 79910.6035391 (271)\ttotal: 4m 19s\tremaining: 2h 34m 52s\n",
      "272:\tlearn: 71930.2078247\ttest: 79906.5339120\tbest: 79906.5339120 (272)\ttotal: 4m 20s\tremaining: 2h 34m 26s\n",
      "273:\tlearn: 71903.9181631\ttest: 79898.6852663\tbest: 79898.6852663 (273)\ttotal: 4m 21s\tremaining: 2h 34m 27s\n",
      "274:\tlearn: 71900.8811572\ttest: 79892.1921750\tbest: 79892.1921750 (274)\ttotal: 4m 21s\tremaining: 2h 33m 53s\n",
      "275:\tlearn: 71889.3076498\ttest: 79883.4089657\tbest: 79883.4089657 (275)\ttotal: 4m 22s\tremaining: 2h 33m 54s\n",
      "276:\tlearn: 71873.6322614\ttest: 79876.9608269\tbest: 79876.9608269 (276)\ttotal: 4m 23s\tremaining: 2h 33m 56s\n",
      "277:\tlearn: 71857.7693140\ttest: 79869.0426306\tbest: 79869.0426306 (277)\ttotal: 4m 24s\tremaining: 2h 33m 58s\n",
      "278:\tlearn: 71833.9386718\ttest: 79858.4635740\tbest: 79858.4635740 (278)\ttotal: 4m 25s\tremaining: 2h 34m\n",
      "279:\tlearn: 71833.5124789\ttest: 79856.3456313\tbest: 79856.3456313 (279)\ttotal: 4m 25s\tremaining: 2h 33m 26s\n",
      "280:\tlearn: 71823.6912111\ttest: 79850.1478870\tbest: 79850.1478870 (280)\ttotal: 4m 26s\tremaining: 2h 33m 27s\n",
      "281:\tlearn: 71803.9738899\ttest: 79839.8179139\tbest: 79839.8179139 (281)\ttotal: 4m 27s\tremaining: 2h 33m 32s\n",
      "282:\tlearn: 71802.8292784\ttest: 79838.4479513\tbest: 79838.4479513 (282)\ttotal: 4m 27s\tremaining: 2h 32m 59s\n",
      "283:\tlearn: 71789.2465745\ttest: 79830.9276570\tbest: 79830.9276570 (283)\ttotal: 4m 28s\tremaining: 2h 33m 3s\n",
      "284:\tlearn: 71769.4160947\ttest: 79821.4612908\tbest: 79821.4612908 (284)\ttotal: 4m 29s\tremaining: 2h 33m 5s\n",
      "285:\tlearn: 71739.5722227\ttest: 79815.0029711\tbest: 79815.0029711 (285)\ttotal: 4m 30s\tremaining: 2h 33m 6s\n",
      "286:\tlearn: 71726.0972248\ttest: 79807.8394879\tbest: 79807.8394879 (286)\ttotal: 4m 31s\tremaining: 2h 33m 7s\n",
      "287:\tlearn: 71702.6316399\ttest: 79796.5684468\tbest: 79796.5684468 (287)\ttotal: 4m 32s\tremaining: 2h 33m 9s\n",
      "288:\tlearn: 71675.0791545\ttest: 79789.1732546\tbest: 79789.1732546 (288)\ttotal: 4m 33s\tremaining: 2h 33m 10s\n",
      "289:\tlearn: 71657.4292898\ttest: 79784.3247693\tbest: 79784.3247693 (289)\ttotal: 4m 34s\tremaining: 2h 33m 17s\n",
      "290:\tlearn: 71648.0479918\ttest: 79777.5969890\tbest: 79777.5969890 (290)\ttotal: 4m 35s\tremaining: 2h 33m 23s\n",
      "291:\tlearn: 71633.6440920\ttest: 79768.7840162\tbest: 79768.7840162 (291)\ttotal: 4m 36s\tremaining: 2h 33m 25s\n",
      "292:\tlearn: 71604.1222760\ttest: 79776.7935333\tbest: 79768.7840162 (291)\ttotal: 4m 37s\tremaining: 2h 33m 29s\n",
      "293:\tlearn: 71576.5089746\ttest: 79774.6592932\tbest: 79768.7840162 (291)\ttotal: 4m 38s\tremaining: 2h 33m 30s\n",
      "294:\tlearn: 71554.9207397\ttest: 79766.5847866\tbest: 79766.5847866 (294)\ttotal: 4m 40s\tremaining: 2h 33m 32s\n",
      "295:\tlearn: 71528.5692330\ttest: 79754.6080099\tbest: 79754.6080099 (295)\ttotal: 4m 41s\tremaining: 2h 33m 33s\n",
      "296:\tlearn: 71511.3600423\ttest: 79749.1527088\tbest: 79749.1527088 (296)\ttotal: 4m 42s\tremaining: 2h 33m 38s\n",
      "297:\tlearn: 71494.1859411\ttest: 79742.7736326\tbest: 79742.7736326 (297)\ttotal: 4m 43s\tremaining: 2h 33m 40s\n",
      "298:\tlearn: 71488.7214437\ttest: 79735.8481005\tbest: 79735.8481005 (298)\ttotal: 4m 44s\tremaining: 2h 33m 37s\n",
      "299:\tlearn: 71466.7978333\ttest: 79732.4983709\tbest: 79732.4983709 (299)\ttotal: 4m 45s\tremaining: 2h 33m 38s\n",
      "300:\tlearn: 71448.5463574\ttest: 79724.7812238\tbest: 79724.7812238 (300)\ttotal: 4m 46s\tremaining: 2h 33m 39s\n",
      "301:\tlearn: 71439.6116331\ttest: 79716.5540399\tbest: 79716.5540399 (301)\ttotal: 4m 47s\tremaining: 2h 33m 41s\n",
      "302:\tlearn: 71419.0251891\ttest: 79710.8543419\tbest: 79710.8543419 (302)\ttotal: 4m 48s\tremaining: 2h 33m 43s\n",
      "303:\tlearn: 71397.7156065\ttest: 79717.1172083\tbest: 79710.8543419 (302)\ttotal: 4m 49s\tremaining: 2h 33m 47s\n",
      "304:\tlearn: 71381.3002316\ttest: 79713.7691642\tbest: 79710.8543419 (302)\ttotal: 4m 50s\tremaining: 2h 33m 47s\n",
      "305:\tlearn: 71363.4302117\ttest: 79721.6220526\tbest: 79710.8543419 (302)\ttotal: 4m 51s\tremaining: 2h 33m 48s\n",
      "306:\tlearn: 71342.5656337\ttest: 79711.3428942\tbest: 79710.8543419 (302)\ttotal: 4m 52s\tremaining: 2h 33m 49s\n",
      "307:\tlearn: 71332.3849307\ttest: 79709.2945495\tbest: 79709.2945495 (307)\ttotal: 4m 53s\tremaining: 2h 33m 50s\n",
      "308:\tlearn: 71330.8723508\ttest: 79706.9115622\tbest: 79706.9115622 (308)\ttotal: 4m 53s\tremaining: 2h 33m 20s\n",
      "309:\tlearn: 71330.4203234\ttest: 79703.5397607\tbest: 79703.5397607 (309)\ttotal: 4m 53s\tremaining: 2h 32m 49s\n",
      "310:\tlearn: 71302.6311940\ttest: 79700.3010448\tbest: 79700.3010448 (310)\ttotal: 4m 54s\tremaining: 2h 32m 51s\n",
      "311:\tlearn: 71300.6858877\ttest: 79697.7408084\tbest: 79697.7408084 (311)\ttotal: 4m 54s\tremaining: 2h 32m 21s\n",
      "312:\tlearn: 71273.4084267\ttest: 79685.5522642\tbest: 79685.5522642 (312)\ttotal: 4m 55s\tremaining: 2h 32m 22s\n",
      "313:\tlearn: 71246.2577275\ttest: 79683.8401123\tbest: 79683.8401123 (313)\ttotal: 4m 56s\tremaining: 2h 32m 23s\n",
      "314:\tlearn: 71231.3200030\ttest: 79687.3872134\tbest: 79683.8401123 (313)\ttotal: 4m 57s\tremaining: 2h 32m 24s\n",
      "315:\tlearn: 71208.0830150\ttest: 79683.3270463\tbest: 79683.3270463 (315)\ttotal: 4m 58s\tremaining: 2h 32m 27s\n",
      "316:\tlearn: 71207.7405316\ttest: 79682.1459616\tbest: 79682.1459616 (316)\ttotal: 4m 58s\tremaining: 2h 31m 57s\n",
      "317:\tlearn: 71191.2393554\ttest: 79684.3509834\tbest: 79682.1459616 (316)\ttotal: 4m 59s\tremaining: 2h 31m 58s\n",
      "318:\tlearn: 71181.4570722\ttest: 79680.0774111\tbest: 79680.0774111 (318)\ttotal: 5m\tremaining: 2h 32m\n",
      "319:\tlearn: 71160.9006802\ttest: 79668.6390298\tbest: 79668.6390298 (319)\ttotal: 5m 1s\tremaining: 2h 32m 1s\n",
      "320:\tlearn: 71148.8609880\ttest: 79666.3489557\tbest: 79666.3489557 (320)\ttotal: 5m 2s\tremaining: 2h 32m 3s\n",
      "321:\tlearn: 71119.3987876\ttest: 79674.0741344\tbest: 79666.3489557 (320)\ttotal: 5m 3s\tremaining: 2h 32m 4s\n",
      "322:\tlearn: 71097.4149810\ttest: 79677.9202813\tbest: 79666.3489557 (320)\ttotal: 5m 4s\tremaining: 2h 32m 5s\n",
      "323:\tlearn: 71094.9528652\ttest: 79675.1813988\tbest: 79666.3489557 (320)\ttotal: 5m 4s\tremaining: 2h 31m 37s\n",
      "324:\tlearn: 71072.0753753\ttest: 79674.8576081\tbest: 79666.3489557 (320)\ttotal: 5m 5s\tremaining: 2h 31m 39s\n",
      "325:\tlearn: 71051.1823490\ttest: 79669.0323111\tbest: 79666.3489557 (320)\ttotal: 5m 6s\tremaining: 2h 31m 40s\n",
      "326:\tlearn: 71025.4883924\ttest: 79667.5985172\tbest: 79666.3489557 (320)\ttotal: 5m 7s\tremaining: 2h 31m 42s\n",
      "327:\tlearn: 71010.1804019\ttest: 79669.1809526\tbest: 79666.3489557 (320)\ttotal: 5m 8s\tremaining: 2h 31m 43s\n",
      "328:\tlearn: 70986.5028589\ttest: 79670.2090955\tbest: 79666.3489557 (320)\ttotal: 5m 9s\tremaining: 2h 31m 44s\n",
      "329:\tlearn: 70976.6416291\ttest: 79666.2614846\tbest: 79666.2614846 (329)\ttotal: 5m 10s\tremaining: 2h 31m 46s\n",
      "330:\tlearn: 70956.3731001\ttest: 79662.5298765\tbest: 79662.5298765 (330)\ttotal: 5m 11s\tremaining: 2h 31m 48s\n",
      "331:\tlearn: 70936.4872764\ttest: 79681.7556990\tbest: 79662.5298765 (330)\ttotal: 5m 12s\tremaining: 2h 31m 50s\n",
      "332:\tlearn: 70928.2016643\ttest: 79678.1653902\tbest: 79662.5298765 (330)\ttotal: 5m 13s\tremaining: 2h 31m 52s\n",
      "333:\tlearn: 70923.8858484\ttest: 79672.1972152\tbest: 79662.5298765 (330)\ttotal: 5m 14s\tremaining: 2h 31m 54s\n",
      "334:\tlearn: 70914.6429621\ttest: 79667.2233334\tbest: 79662.5298765 (330)\ttotal: 5m 15s\tremaining: 2h 31m 28s\n",
      "335:\tlearn: 70908.4914255\ttest: 79664.2686133\tbest: 79662.5298765 (330)\ttotal: 5m 15s\tremaining: 2h 31m 24s\n",
      "336:\tlearn: 70885.1696360\ttest: 79674.2391076\tbest: 79662.5298765 (330)\ttotal: 5m 16s\tremaining: 2h 31m 26s\n",
      "337:\tlearn: 70868.6362312\ttest: 79673.8149171\tbest: 79662.5298765 (330)\ttotal: 5m 17s\tremaining: 2h 31m 27s\n",
      "338:\tlearn: 70860.5904772\ttest: 79666.1551481\tbest: 79662.5298765 (330)\ttotal: 5m 18s\tremaining: 2h 31m 28s\n",
      "339:\tlearn: 70842.2820916\ttest: 79673.9073823\tbest: 79662.5298765 (330)\ttotal: 5m 19s\tremaining: 2h 31m 30s\n",
      "340:\tlearn: 70830.3033629\ttest: 79670.0202570\tbest: 79662.5298765 (330)\ttotal: 5m 20s\tremaining: 2h 31m 31s\n",
      "341:\tlearn: 70802.0228434\ttest: 79666.5062033\tbest: 79662.5298765 (330)\ttotal: 5m 21s\tremaining: 2h 31m 32s\n",
      "342:\tlearn: 70782.8620444\ttest: 79668.1056563\tbest: 79662.5298765 (330)\ttotal: 5m 22s\tremaining: 2h 31m 33s\n",
      "343:\tlearn: 70764.0481728\ttest: 79657.4220827\tbest: 79657.4220827 (343)\ttotal: 5m 24s\tremaining: 2h 31m 35s\n",
      "344:\tlearn: 70761.9310285\ttest: 79655.1788586\tbest: 79655.1788586 (344)\ttotal: 5m 24s\tremaining: 2h 31m 11s\n",
      "345:\tlearn: 70751.9444100\ttest: 79652.3235230\tbest: 79652.3235230 (345)\ttotal: 5m 25s\tremaining: 2h 31m 12s\n",
      "346:\tlearn: 70734.1598401\ttest: 79647.0255246\tbest: 79647.0255246 (346)\ttotal: 5m 26s\tremaining: 2h 31m 13s\n",
      "347:\tlearn: 70721.9508909\ttest: 79653.6099890\tbest: 79647.0255246 (346)\ttotal: 5m 26s\tremaining: 2h 30m 48s\n",
      "348:\tlearn: 70705.4864942\ttest: 79653.7127659\tbest: 79647.0255246 (346)\ttotal: 5m 27s\tremaining: 2h 30m 50s\n",
      "349:\tlearn: 70698.3931857\ttest: 79650.1564152\tbest: 79647.0255246 (346)\ttotal: 5m 28s\tremaining: 2h 30m 53s\n",
      "350:\tlearn: 70680.2744316\ttest: 79641.7746288\tbest: 79641.7746288 (350)\ttotal: 5m 29s\tremaining: 2h 30m 54s\n",
      "351:\tlearn: 70670.8021131\ttest: 79637.1834120\tbest: 79637.1834120 (351)\ttotal: 5m 30s\tremaining: 2h 30m 55s\n",
      "352:\tlearn: 70662.6130747\ttest: 79633.8051676\tbest: 79633.8051676 (352)\ttotal: 5m 31s\tremaining: 2h 30m 57s\n",
      "353:\tlearn: 70660.4001363\ttest: 79632.8317390\tbest: 79632.8317390 (353)\ttotal: 5m 31s\tremaining: 2h 30m 31s\n",
      "354:\tlearn: 70640.7115413\ttest: 79638.3864906\tbest: 79632.8317390 (353)\ttotal: 5m 32s\tremaining: 2h 30m 33s\n",
      "355:\tlearn: 70626.8173914\ttest: 79631.1053224\tbest: 79631.1053224 (355)\ttotal: 5m 33s\tremaining: 2h 30m 34s\n",
      "356:\tlearn: 70606.8059482\ttest: 79638.5287853\tbest: 79631.1053224 (355)\ttotal: 5m 34s\tremaining: 2h 30m 36s\n",
      "357:\tlearn: 70582.9281117\ttest: 79640.0816553\tbest: 79631.1053224 (355)\ttotal: 5m 35s\tremaining: 2h 30m 45s\n",
      "358:\tlearn: 70576.7662642\ttest: 79636.9937178\tbest: 79631.1053224 (355)\ttotal: 5m 36s\tremaining: 2h 30m 47s\n",
      "359:\tlearn: 70557.9584840\ttest: 79639.0555067\tbest: 79631.1053224 (355)\ttotal: 5m 37s\tremaining: 2h 30m 48s\n",
      "360:\tlearn: 70537.9275755\ttest: 79639.5489822\tbest: 79631.1053224 (355)\ttotal: 5m 38s\tremaining: 2h 30m 50s\n",
      "361:\tlearn: 70510.1931276\ttest: 79631.3531198\tbest: 79631.1053224 (355)\ttotal: 5m 39s\tremaining: 2h 30m 51s\n",
      "362:\tlearn: 70495.1643224\ttest: 79640.4841561\tbest: 79631.1053224 (355)\ttotal: 5m 41s\tremaining: 2h 30m 53s\n",
      "363:\tlearn: 70486.4063138\ttest: 79635.8606905\tbest: 79631.1053224 (355)\ttotal: 5m 42s\tremaining: 2h 30m 54s\n",
      "364:\tlearn: 70479.3998193\ttest: 79632.4135814\tbest: 79631.1053224 (355)\ttotal: 5m 43s\tremaining: 2h 30m 55s\n",
      "365:\tlearn: 70458.5533794\ttest: 79641.9754948\tbest: 79631.1053224 (355)\ttotal: 5m 44s\tremaining: 2h 30m 57s\n",
      "366:\tlearn: 70435.7189700\ttest: 79646.5896977\tbest: 79631.1053224 (355)\ttotal: 5m 45s\tremaining: 2h 30m 58s\n",
      "367:\tlearn: 70422.4570918\ttest: 79644.5312572\tbest: 79631.1053224 (355)\ttotal: 5m 46s\tremaining: 2h 30m 59s\n",
      "368:\tlearn: 70404.9233505\ttest: 79637.9502892\tbest: 79631.1053224 (355)\ttotal: 5m 47s\tremaining: 2h 31m\n",
      "369:\tlearn: 70386.4711851\ttest: 79635.3700614\tbest: 79631.1053224 (355)\ttotal: 5m 48s\tremaining: 2h 31m 1s\n",
      "370:\tlearn: 70366.6594463\ttest: 79637.1566159\tbest: 79631.1053224 (355)\ttotal: 5m 49s\tremaining: 2h 31m 2s\n",
      "371:\tlearn: 70365.5390454\ttest: 79633.5246563\tbest: 79631.1053224 (355)\ttotal: 5m 49s\tremaining: 2h 30m 38s\n",
      "372:\tlearn: 70342.9921060\ttest: 79631.1533365\tbest: 79631.1053224 (355)\ttotal: 5m 50s\tremaining: 2h 30m 38s\n",
      "373:\tlearn: 70326.1282037\ttest: 79630.6508521\tbest: 79630.6508521 (373)\ttotal: 5m 51s\tremaining: 2h 30m 39s\n",
      "374:\tlearn: 70319.1242363\ttest: 79624.7944392\tbest: 79624.7944392 (374)\ttotal: 5m 52s\tremaining: 2h 30m 40s\n",
      "375:\tlearn: 70303.2259189\ttest: 79635.7289602\tbest: 79624.7944392 (374)\ttotal: 5m 53s\tremaining: 2h 30m 41s\n",
      "376:\tlearn: 70287.8466594\ttest: 79632.9794278\tbest: 79624.7944392 (374)\ttotal: 5m 54s\tremaining: 2h 30m 43s\n",
      "377:\tlearn: 70265.4164048\ttest: 79635.9834965\tbest: 79624.7944392 (374)\ttotal: 5m 55s\tremaining: 2h 30m 44s\n",
      "378:\tlearn: 70258.5385697\ttest: 79634.4647476\tbest: 79624.7944392 (374)\ttotal: 5m 56s\tremaining: 2h 30m 46s\n",
      "379:\tlearn: 70253.5208571\ttest: 79629.2579640\tbest: 79624.7944392 (374)\ttotal: 5m 57s\tremaining: 2h 30m 47s\n",
      "380:\tlearn: 70238.0088064\ttest: 79634.1747857\tbest: 79624.7944392 (374)\ttotal: 5m 58s\tremaining: 2h 30m 50s\n",
      "381:\tlearn: 70219.1339885\ttest: 79632.5086304\tbest: 79624.7944392 (374)\ttotal: 5m 59s\tremaining: 2h 30m 51s\n",
      "382:\tlearn: 70203.8505352\ttest: 79630.3912487\tbest: 79624.7944392 (374)\ttotal: 6m\tremaining: 2h 30m 53s\n",
      "383:\tlearn: 70182.1721399\ttest: 79641.0357704\tbest: 79624.7944392 (374)\ttotal: 6m 1s\tremaining: 2h 30m 54s\n",
      "384:\tlearn: 70159.4974028\ttest: 79633.0126501\tbest: 79624.7944392 (374)\ttotal: 6m 2s\tremaining: 2h 30m 57s\n",
      "385:\tlearn: 70140.7946109\ttest: 79625.8348342\tbest: 79624.7944392 (374)\ttotal: 6m 3s\tremaining: 2h 30m 58s\n",
      "386:\tlearn: 70127.8030932\ttest: 79628.4298236\tbest: 79624.7944392 (374)\ttotal: 6m 4s\tremaining: 2h 30m 59s\n",
      "387:\tlearn: 70117.1917558\ttest: 79626.0524086\tbest: 79624.7944392 (374)\ttotal: 6m 5s\tremaining: 2h 31m\n",
      "388:\tlearn: 70099.3607417\ttest: 79625.0932599\tbest: 79624.7944392 (374)\ttotal: 6m 6s\tremaining: 2h 31m 5s\n",
      "389:\tlearn: 70089.8087417\ttest: 79620.6030698\tbest: 79620.6030698 (389)\ttotal: 6m 7s\tremaining: 2h 31m 5s\n",
      "390:\tlearn: 70071.3590019\ttest: 79627.9653540\tbest: 79620.6030698 (389)\ttotal: 6m 8s\tremaining: 2h 31m 6s\n",
      "391:\tlearn: 70062.4335383\ttest: 79626.1514477\tbest: 79620.6030698 (389)\ttotal: 6m 9s\tremaining: 2h 31m 7s\n",
      "392:\tlearn: 70036.7948717\ttest: 79628.2275710\tbest: 79620.6030698 (389)\ttotal: 6m 10s\tremaining: 2h 31m 8s\n",
      "393:\tlearn: 70021.7231497\ttest: 79634.5189714\tbest: 79620.6030698 (389)\ttotal: 6m 11s\tremaining: 2h 31m 9s\n",
      "394:\tlearn: 70014.2606668\ttest: 79632.5556841\tbest: 79620.6030698 (389)\ttotal: 6m 13s\tremaining: 2h 31m 10s\n",
      "395:\tlearn: 70000.7202617\ttest: 79637.7924211\tbest: 79620.6030698 (389)\ttotal: 6m 14s\tremaining: 2h 31m 11s\n",
      "396:\tlearn: 69975.5470964\ttest: 79631.7392180\tbest: 79620.6030698 (389)\ttotal: 6m 15s\tremaining: 2h 31m 12s\n",
      "397:\tlearn: 69950.4528327\ttest: 79635.0350540\tbest: 79620.6030698 (389)\ttotal: 6m 16s\tremaining: 2h 31m 26s\n",
      "398:\tlearn: 69917.9843146\ttest: 79628.9667988\tbest: 79620.6030698 (389)\ttotal: 6m 18s\tremaining: 2h 31m 38s\n",
      "399:\tlearn: 69909.3590409\ttest: 79627.5064412\tbest: 79620.6030698 (389)\ttotal: 6m 19s\tremaining: 2h 31m 58s\n",
      "400:\tlearn: 69900.5259292\ttest: 79625.0941226\tbest: 79620.6030698 (389)\ttotal: 6m 21s\tremaining: 2h 32m\n",
      "401:\tlearn: 69896.0703650\ttest: 79620.0005318\tbest: 79620.0005318 (401)\ttotal: 6m 22s\tremaining: 2h 32m 2s\n",
      "402:\tlearn: 69871.8173382\ttest: 79609.4281794\tbest: 79609.4281794 (402)\ttotal: 6m 23s\tremaining: 2h 32m 3s\n",
      "403:\tlearn: 69862.6682871\ttest: 79607.3055336\tbest: 79607.3055336 (403)\ttotal: 6m 24s\tremaining: 2h 32m 8s\n",
      "404:\tlearn: 69840.3323864\ttest: 79608.5377173\tbest: 79607.3055336 (403)\ttotal: 6m 25s\tremaining: 2h 32m 11s\n",
      "405:\tlearn: 69818.8945336\ttest: 79603.1660618\tbest: 79603.1660618 (405)\ttotal: 6m 26s\tremaining: 2h 32m 13s\n",
      "406:\tlearn: 69804.3123233\ttest: 79615.7568448\tbest: 79603.1660618 (405)\ttotal: 6m 27s\tremaining: 2h 32m 14s\n",
      "407:\tlearn: 69786.8442313\ttest: 79615.4711186\tbest: 79603.1660618 (405)\ttotal: 6m 28s\tremaining: 2h 32m 16s\n",
      "408:\tlearn: 69764.0326749\ttest: 79608.6753441\tbest: 79603.1660618 (405)\ttotal: 6m 29s\tremaining: 2h 32m 17s\n",
      "409:\tlearn: 69759.1536612\ttest: 79606.0526637\tbest: 79603.1660618 (405)\ttotal: 6m 30s\tremaining: 2h 32m 17s\n",
      "410:\tlearn: 69750.0317488\ttest: 79602.1626720\tbest: 79602.1626720 (410)\ttotal: 6m 31s\tremaining: 2h 32m 18s\n",
      "411:\tlearn: 69737.5957483\ttest: 79593.5458550\tbest: 79593.5458550 (411)\ttotal: 6m 32s\tremaining: 2h 32m 19s\n",
      "412:\tlearn: 69733.1660151\ttest: 79592.5487214\tbest: 79592.5487214 (412)\ttotal: 6m 33s\tremaining: 2h 32m 19s\n",
      "413:\tlearn: 69728.7325600\ttest: 79591.1122174\tbest: 79591.1122174 (413)\ttotal: 6m 34s\tremaining: 2h 32m 24s\n",
      "414:\tlearn: 69722.4026955\ttest: 79587.7680995\tbest: 79587.7680995 (414)\ttotal: 6m 35s\tremaining: 2h 32m 25s\n",
      "415:\tlearn: 69703.8067893\ttest: 79578.9449489\tbest: 79578.9449489 (415)\ttotal: 6m 37s\tremaining: 2h 32m 26s\n",
      "416:\tlearn: 69682.9406383\ttest: 79578.1673845\tbest: 79578.1673845 (416)\ttotal: 6m 38s\tremaining: 2h 32m 27s\n",
      "417:\tlearn: 69658.5248488\ttest: 79580.0606370\tbest: 79578.1673845 (416)\ttotal: 6m 39s\tremaining: 2h 32m 29s\n",
      "418:\tlearn: 69644.4731501\ttest: 79580.3702806\tbest: 79578.1673845 (416)\ttotal: 6m 40s\tremaining: 2h 32m 31s\n",
      "419:\tlearn: 69633.1873962\ttest: 79575.6784762\tbest: 79575.6784762 (419)\ttotal: 6m 41s\tremaining: 2h 32m 31s\n",
      "420:\tlearn: 69614.8559267\ttest: 79574.4439601\tbest: 79574.4439601 (420)\ttotal: 6m 42s\tremaining: 2h 32m 32s\n",
      "421:\tlearn: 69606.6732929\ttest: 79574.2972599\tbest: 79574.2972599 (421)\ttotal: 6m 43s\tremaining: 2h 32m 35s\n",
      "422:\tlearn: 69589.7697289\ttest: 79581.6661159\tbest: 79574.2972599 (421)\ttotal: 6m 44s\tremaining: 2h 32m 35s\n",
      "423:\tlearn: 69570.5196056\ttest: 79574.2580910\tbest: 79574.2580910 (423)\ttotal: 6m 45s\tremaining: 2h 32m 36s\n",
      "424:\tlearn: 69553.7525963\ttest: 79567.5100195\tbest: 79567.5100195 (424)\ttotal: 6m 46s\tremaining: 2h 32m 37s\n",
      "425:\tlearn: 69531.1400096\ttest: 79567.0090144\tbest: 79567.0090144 (425)\ttotal: 6m 47s\tremaining: 2h 32m 38s\n",
      "426:\tlearn: 69511.9378226\ttest: 79561.8583763\tbest: 79561.8583763 (426)\ttotal: 6m 48s\tremaining: 2h 32m 38s\n",
      "427:\tlearn: 69503.6553516\ttest: 79557.8911252\tbest: 79557.8911252 (427)\ttotal: 6m 49s\tremaining: 2h 32m 39s\n",
      "428:\tlearn: 69493.5163743\ttest: 79551.5261813\tbest: 79551.5261813 (428)\ttotal: 6m 50s\tremaining: 2h 32m 40s\n",
      "429:\tlearn: 69479.9824498\ttest: 79563.3280619\tbest: 79551.5261813 (428)\ttotal: 6m 51s\tremaining: 2h 32m 40s\n",
      "430:\tlearn: 69465.6386678\ttest: 79566.6145649\tbest: 79551.5261813 (428)\ttotal: 6m 52s\tremaining: 2h 32m 41s\n",
      "431:\tlearn: 69449.0044455\ttest: 79557.4959102\tbest: 79551.5261813 (428)\ttotal: 6m 53s\tremaining: 2h 32m 43s\n",
      "432:\tlearn: 69428.1046511\ttest: 79555.5513639\tbest: 79551.5261813 (428)\ttotal: 6m 54s\tremaining: 2h 32m 44s\n",
      "433:\tlearn: 69416.0230569\ttest: 79551.6160119\tbest: 79551.5261813 (428)\ttotal: 6m 55s\tremaining: 2h 32m 44s\n",
      "434:\tlearn: 69411.2611756\ttest: 79549.4408385\tbest: 79549.4408385 (434)\ttotal: 6m 56s\tremaining: 2h 32m 44s\n",
      "435:\tlearn: 69389.9961229\ttest: 79553.0886490\tbest: 79549.4408385 (434)\ttotal: 6m 57s\tremaining: 2h 32m 45s\n",
      "436:\tlearn: 69375.6466423\ttest: 79554.4153051\tbest: 79549.4408385 (434)\ttotal: 6m 58s\tremaining: 2h 32m 45s\n",
      "437:\tlearn: 69352.8383678\ttest: 79553.0156644\tbest: 79549.4408385 (434)\ttotal: 6m 59s\tremaining: 2h 32m 46s\n",
      "438:\tlearn: 69334.3374553\ttest: 79549.0220964\tbest: 79549.0220964 (438)\ttotal: 7m\tremaining: 2h 32m 46s\n",
      "439:\tlearn: 69317.9862520\ttest: 79556.7080503\tbest: 79549.0220964 (438)\ttotal: 7m 1s\tremaining: 2h 32m 46s\n",
      "440:\tlearn: 69305.2480931\ttest: 79566.6028444\tbest: 79549.0220964 (438)\ttotal: 7m 2s\tremaining: 2h 32m 47s\n",
      "441:\tlearn: 69285.2868669\ttest: 79562.3985475\tbest: 79549.0220964 (438)\ttotal: 7m 3s\tremaining: 2h 32m 47s\n",
      "442:\tlearn: 69259.1927859\ttest: 79558.7330644\tbest: 79549.0220964 (438)\ttotal: 7m 4s\tremaining: 2h 32m 47s\n",
      "443:\tlearn: 69245.3598328\ttest: 79559.9511583\tbest: 79549.0220964 (438)\ttotal: 7m 6s\tremaining: 2h 32m 48s\n",
      "444:\tlearn: 69237.7058313\ttest: 79557.2601474\tbest: 79549.0220964 (438)\ttotal: 7m 7s\tremaining: 2h 32m 51s\n",
      "445:\tlearn: 69224.4527824\ttest: 79574.0826348\tbest: 79549.0220964 (438)\ttotal: 7m 8s\tremaining: 2h 32m 56s\n",
      "446:\tlearn: 69209.1062396\ttest: 79569.7186154\tbest: 79549.0220964 (438)\ttotal: 7m 9s\tremaining: 2h 33m 1s\n",
      "447:\tlearn: 69199.2770091\ttest: 79569.2338775\tbest: 79549.0220964 (438)\ttotal: 7m 10s\tremaining: 2h 33m 4s\n",
      "448:\tlearn: 69182.9707604\ttest: 79572.7942062\tbest: 79549.0220964 (438)\ttotal: 7m 11s\tremaining: 2h 33m 5s\n",
      "449:\tlearn: 69163.5275054\ttest: 79579.1016596\tbest: 79549.0220964 (438)\ttotal: 7m 12s\tremaining: 2h 33m 5s\n",
      "450:\tlearn: 69143.7812912\ttest: 79577.5445148\tbest: 79549.0220964 (438)\ttotal: 7m 13s\tremaining: 2h 33m 7s\n",
      "451:\tlearn: 69127.0512384\ttest: 79581.9850061\tbest: 79549.0220964 (438)\ttotal: 7m 14s\tremaining: 2h 33m 8s\n",
      "452:\tlearn: 69107.2739475\ttest: 79575.4315652\tbest: 79549.0220964 (438)\ttotal: 7m 16s\tremaining: 2h 33m 9s\n",
      "453:\tlearn: 69092.3824655\ttest: 79572.4586783\tbest: 79549.0220964 (438)\ttotal: 7m 17s\tremaining: 2h 33m 9s\n",
      "454:\tlearn: 69073.4013580\ttest: 79578.7839306\tbest: 79549.0220964 (438)\ttotal: 7m 18s\tremaining: 2h 33m 9s\n",
      "455:\tlearn: 69055.1240402\ttest: 79586.4450493\tbest: 79549.0220964 (438)\ttotal: 7m 19s\tremaining: 2h 33m 9s\n",
      "456:\tlearn: 69037.0464749\ttest: 79589.3732856\tbest: 79549.0220964 (438)\ttotal: 7m 20s\tremaining: 2h 33m 11s\n",
      "457:\tlearn: 69015.8639461\ttest: 79590.8710721\tbest: 79549.0220964 (438)\ttotal: 7m 21s\tremaining: 2h 33m 12s\n",
      "458:\tlearn: 68998.1219738\ttest: 79588.9026140\tbest: 79549.0220964 (438)\ttotal: 7m 22s\tremaining: 2h 33m 12s\n",
      "459:\tlearn: 68983.5202681\ttest: 79597.7945454\tbest: 79549.0220964 (438)\ttotal: 7m 23s\tremaining: 2h 33m 13s\n",
      "460:\tlearn: 68972.2042637\ttest: 79604.8791150\tbest: 79549.0220964 (438)\ttotal: 7m 24s\tremaining: 2h 33m 14s\n",
      "461:\tlearn: 68957.1147065\ttest: 79615.0686785\tbest: 79549.0220964 (438)\ttotal: 7m 25s\tremaining: 2h 33m 14s\n",
      "462:\tlearn: 68941.6963585\ttest: 79622.0757723\tbest: 79549.0220964 (438)\ttotal: 7m 26s\tremaining: 2h 33m 15s\n",
      "463:\tlearn: 68926.0687601\ttest: 79619.4010127\tbest: 79549.0220964 (438)\ttotal: 7m 27s\tremaining: 2h 33m 16s\n",
      "464:\tlearn: 68913.1888081\ttest: 79616.8167071\tbest: 79549.0220964 (438)\ttotal: 7m 28s\tremaining: 2h 33m 16s\n",
      "465:\tlearn: 68898.1539007\ttest: 79630.5399790\tbest: 79549.0220964 (438)\ttotal: 7m 29s\tremaining: 2h 33m 16s\n",
      "466:\tlearn: 68885.4045483\ttest: 79634.6108638\tbest: 79549.0220964 (438)\ttotal: 7m 30s\tremaining: 2h 33m 16s\n",
      "467:\tlearn: 68861.5823290\ttest: 79632.9927379\tbest: 79549.0220964 (438)\ttotal: 7m 31s\tremaining: 2h 33m 16s\n",
      "468:\tlearn: 68848.0304408\ttest: 79628.7266768\tbest: 79549.0220964 (438)\ttotal: 7m 32s\tremaining: 2h 33m 16s\n",
      "469:\tlearn: 68829.0608022\ttest: 79626.0955542\tbest: 79549.0220964 (438)\ttotal: 7m 33s\tremaining: 2h 33m 17s\n",
      "470:\tlearn: 68809.6702755\ttest: 79621.2199453\tbest: 79549.0220964 (438)\ttotal: 7m 34s\tremaining: 2h 33m 18s\n",
      "471:\tlearn: 68795.8009045\ttest: 79626.3074665\tbest: 79549.0220964 (438)\ttotal: 7m 35s\tremaining: 2h 33m 18s\n",
      "472:\tlearn: 68783.5283419\ttest: 79625.0074564\tbest: 79549.0220964 (438)\ttotal: 7m 36s\tremaining: 2h 33m 20s\n",
      "473:\tlearn: 68767.1920391\ttest: 79630.4256161\tbest: 79549.0220964 (438)\ttotal: 7m 37s\tremaining: 2h 33m 23s\n",
      "474:\tlearn: 68747.9406813\ttest: 79627.9659788\tbest: 79549.0220964 (438)\ttotal: 7m 38s\tremaining: 2h 33m 23s\n",
      "475:\tlearn: 68731.0531704\ttest: 79627.0186833\tbest: 79549.0220964 (438)\ttotal: 7m 39s\tremaining: 2h 33m 23s\n",
      "476:\tlearn: 68718.3831233\ttest: 79638.2130915\tbest: 79549.0220964 (438)\ttotal: 7m 41s\tremaining: 2h 33m 24s\n",
      "477:\tlearn: 68705.1046324\ttest: 79642.2688810\tbest: 79549.0220964 (438)\ttotal: 7m 42s\tremaining: 2h 33m 24s\n",
      "478:\tlearn: 68698.7110168\ttest: 79641.6533499\tbest: 79549.0220964 (438)\ttotal: 7m 43s\tremaining: 2h 33m 24s\n",
      "479:\tlearn: 68678.6682978\ttest: 79644.7761909\tbest: 79549.0220964 (438)\ttotal: 7m 44s\tremaining: 2h 33m 24s\n",
      "480:\tlearn: 68666.6489908\ttest: 79651.6045197\tbest: 79549.0220964 (438)\ttotal: 7m 45s\tremaining: 2h 33m 24s\n",
      "481:\tlearn: 68644.9066277\ttest: 79644.4420636\tbest: 79549.0220964 (438)\ttotal: 7m 46s\tremaining: 2h 33m 24s\n",
      "482:\tlearn: 68623.6617169\ttest: 79646.2542784\tbest: 79549.0220964 (438)\ttotal: 7m 47s\tremaining: 2h 33m 24s\n",
      "483:\tlearn: 68611.3152777\ttest: 79647.1995034\tbest: 79549.0220964 (438)\ttotal: 7m 48s\tremaining: 2h 33m 24s\n",
      "484:\tlearn: 68592.2797282\ttest: 79649.2969476\tbest: 79549.0220964 (438)\ttotal: 7m 49s\tremaining: 2h 33m 24s\n",
      "485:\tlearn: 68575.0974064\ttest: 79647.9826387\tbest: 79549.0220964 (438)\ttotal: 7m 50s\tremaining: 2h 33m 24s\n",
      "486:\tlearn: 68555.6472143\ttest: 79647.4449331\tbest: 79549.0220964 (438)\ttotal: 7m 51s\tremaining: 2h 33m 24s\n",
      "487:\tlearn: 68534.9307951\ttest: 79646.7817321\tbest: 79549.0220964 (438)\ttotal: 7m 52s\tremaining: 2h 33m 25s\n",
      "488:\tlearn: 68518.5768385\ttest: 79650.9907425\tbest: 79549.0220964 (438)\ttotal: 7m 53s\tremaining: 2h 33m 27s\n",
      "489:\tlearn: 68506.7284272\ttest: 79668.6258454\tbest: 79549.0220964 (438)\ttotal: 7m 54s\tremaining: 2h 33m 27s\n",
      "490:\tlearn: 68491.4982781\ttest: 79673.4989905\tbest: 79549.0220964 (438)\ttotal: 7m 55s\tremaining: 2h 33m 27s\n",
      "491:\tlearn: 68473.6530167\ttest: 79678.7011660\tbest: 79549.0220964 (438)\ttotal: 7m 56s\tremaining: 2h 33m 27s\n",
      "492:\tlearn: 68461.3777405\ttest: 79672.9172549\tbest: 79549.0220964 (438)\ttotal: 7m 57s\tremaining: 2h 33m 27s\n",
      "493:\tlearn: 68447.4234914\ttest: 79677.8840897\tbest: 79549.0220964 (438)\ttotal: 7m 58s\tremaining: 2h 33m 28s\n",
      "494:\tlearn: 68436.1218626\ttest: 79674.9980208\tbest: 79549.0220964 (438)\ttotal: 7m 59s\tremaining: 2h 33m 28s\n",
      "495:\tlearn: 68423.3340211\ttest: 79672.3580482\tbest: 79549.0220964 (438)\ttotal: 8m\tremaining: 2h 33m 28s\n",
      "496:\tlearn: 68408.9042812\ttest: 79670.9030273\tbest: 79549.0220964 (438)\ttotal: 8m 1s\tremaining: 2h 33m 28s\n",
      "497:\tlearn: 68395.8563943\ttest: 79672.7393663\tbest: 79549.0220964 (438)\ttotal: 8m 2s\tremaining: 2h 33m 28s\n",
      "498:\tlearn: 68391.0952621\ttest: 79671.9015192\tbest: 79549.0220964 (438)\ttotal: 8m 3s\tremaining: 2h 33m 27s\n",
      "499:\tlearn: 68379.6569657\ttest: 79668.9390636\tbest: 79549.0220964 (438)\ttotal: 8m 4s\tremaining: 2h 33m 28s\n",
      "500:\tlearn: 68366.1507177\ttest: 79680.6653194\tbest: 79549.0220964 (438)\ttotal: 8m 5s\tremaining: 2h 33m 27s\n",
      "501:\tlearn: 68353.4465794\ttest: 79687.7833768\tbest: 79549.0220964 (438)\ttotal: 8m 7s\tremaining: 2h 33m 47s\n",
      "502:\tlearn: 68340.9272264\ttest: 79684.3435288\tbest: 79549.0220964 (438)\ttotal: 8m 9s\tremaining: 2h 33m 59s\n",
      "503:\tlearn: 68336.2371988\ttest: 79682.7834276\tbest: 79549.0220964 (438)\ttotal: 8m 10s\tremaining: 2h 34m 5s\n",
      "504:\tlearn: 68321.5294927\ttest: 79682.0016089\tbest: 79549.0220964 (438)\ttotal: 8m 11s\tremaining: 2h 34m 8s\n",
      "505:\tlearn: 68307.6124799\ttest: 79687.9173232\tbest: 79549.0220964 (438)\ttotal: 8m 13s\tremaining: 2h 34m 10s\n",
      "506:\tlearn: 68295.2396808\ttest: 79695.2320486\tbest: 79549.0220964 (438)\ttotal: 8m 14s\tremaining: 2h 34m 13s\n",
      "507:\tlearn: 68281.0732692\ttest: 79700.1566486\tbest: 79549.0220964 (438)\ttotal: 8m 15s\tremaining: 2h 34m 15s\n",
      "508:\tlearn: 68270.3390744\ttest: 79702.9288934\tbest: 79549.0220964 (438)\ttotal: 8m 16s\tremaining: 2h 34m 18s\n",
      "509:\tlearn: 68250.6768374\ttest: 79702.1326594\tbest: 79549.0220964 (438)\ttotal: 8m 17s\tremaining: 2h 34m 19s\n",
      "510:\tlearn: 68235.3286655\ttest: 79697.0369068\tbest: 79549.0220964 (438)\ttotal: 8m 18s\tremaining: 2h 34m 19s\n",
      "511:\tlearn: 68223.6088310\ttest: 79695.4485810\tbest: 79549.0220964 (438)\ttotal: 8m 19s\tremaining: 2h 34m 19s\n",
      "512:\tlearn: 68215.4888889\ttest: 79693.6606739\tbest: 79549.0220964 (438)\ttotal: 8m 20s\tremaining: 2h 34m 19s\n",
      "513:\tlearn: 68203.1767705\ttest: 79695.7627443\tbest: 79549.0220964 (438)\ttotal: 8m 21s\tremaining: 2h 34m 20s\n",
      "514:\tlearn: 68192.2098692\ttest: 79695.9512467\tbest: 79549.0220964 (438)\ttotal: 8m 22s\tremaining: 2h 34m 20s\n",
      "515:\tlearn: 68179.5572125\ttest: 79694.2881031\tbest: 79549.0220964 (438)\ttotal: 8m 23s\tremaining: 2h 34m 20s\n",
      "516:\tlearn: 68169.0360711\ttest: 79688.8270322\tbest: 79549.0220964 (438)\ttotal: 8m 24s\tremaining: 2h 34m 19s\n",
      "517:\tlearn: 68156.9232350\ttest: 79692.8346274\tbest: 79549.0220964 (438)\ttotal: 8m 25s\tremaining: 2h 34m 19s\n",
      "518:\tlearn: 68143.3946595\ttest: 79700.8467274\tbest: 79549.0220964 (438)\ttotal: 8m 26s\tremaining: 2h 34m 18s\n",
      "519:\tlearn: 68131.7151556\ttest: 79706.1118281\tbest: 79549.0220964 (438)\ttotal: 8m 27s\tremaining: 2h 34m 18s\n",
      "520:\tlearn: 68118.2117002\ttest: 79715.8011204\tbest: 79549.0220964 (438)\ttotal: 8m 28s\tremaining: 2h 34m 18s\n",
      "521:\tlearn: 68108.3121101\ttest: 79720.1674583\tbest: 79549.0220964 (438)\ttotal: 8m 29s\tremaining: 2h 34m 17s\n",
      "522:\tlearn: 68096.3799610\ttest: 79717.0070296\tbest: 79549.0220964 (438)\ttotal: 8m 30s\tremaining: 2h 34m 17s\n",
      "523:\tlearn: 68082.4275919\ttest: 79716.2455616\tbest: 79549.0220964 (438)\ttotal: 8m 31s\tremaining: 2h 34m 17s\n",
      "524:\tlearn: 68072.1450852\ttest: 79714.1089470\tbest: 79549.0220964 (438)\ttotal: 8m 32s\tremaining: 2h 34m 16s\n",
      "525:\tlearn: 68064.4296015\ttest: 79710.7761743\tbest: 79549.0220964 (438)\ttotal: 8m 33s\tremaining: 2h 34m 16s\n",
      "526:\tlearn: 68053.6560386\ttest: 79715.8489913\tbest: 79549.0220964 (438)\ttotal: 8m 35s\tremaining: 2h 34m 17s\n",
      "527:\tlearn: 68043.8391637\ttest: 79720.6826787\tbest: 79549.0220964 (438)\ttotal: 8m 36s\tremaining: 2h 34m 26s\n",
      "528:\tlearn: 68033.8327928\ttest: 79719.0200033\tbest: 79549.0220964 (438)\ttotal: 8m 37s\tremaining: 2h 34m 31s\n",
      "529:\tlearn: 68021.1159132\ttest: 79724.0147684\tbest: 79549.0220964 (438)\ttotal: 8m 38s\tremaining: 2h 34m 31s\n",
      "530:\tlearn: 68008.7009874\ttest: 79727.5006057\tbest: 79549.0220964 (438)\ttotal: 8m 39s\tremaining: 2h 34m 31s\n",
      "531:\tlearn: 67997.6638861\ttest: 79725.0277370\tbest: 79549.0220964 (438)\ttotal: 8m 40s\tremaining: 2h 34m 30s\n",
      "532:\tlearn: 67986.1350052\ttest: 79730.1541643\tbest: 79549.0220964 (438)\ttotal: 8m 42s\tremaining: 2h 34m 32s\n",
      "533:\tlearn: 67974.3031299\ttest: 79735.7969511\tbest: 79549.0220964 (438)\ttotal: 8m 43s\tremaining: 2h 34m 37s\n",
      "534:\tlearn: 67963.0652856\ttest: 79732.9853454\tbest: 79549.0220964 (438)\ttotal: 8m 44s\tremaining: 2h 34m 37s\n",
      "535:\tlearn: 67953.5295201\ttest: 79737.1699082\tbest: 79549.0220964 (438)\ttotal: 8m 45s\tremaining: 2h 34m 39s\n",
      "536:\tlearn: 67944.7747260\ttest: 79732.8280031\tbest: 79549.0220964 (438)\ttotal: 8m 47s\tremaining: 2h 34m 57s\n",
      "537:\tlearn: 67934.5982216\ttest: 79734.8522785\tbest: 79549.0220964 (438)\ttotal: 8m 48s\tremaining: 2h 35m 2s\n",
      "538:\tlearn: 67925.2391321\ttest: 79734.7614051\tbest: 79549.0220964 (438)\ttotal: 8m 50s\tremaining: 2h 35m 4s\n",
      "Stopped by overfitting detector  (100 iterations wait)\n",
      "\n",
      "bestTest = 79549.0221\n",
      "bestIteration = 438\n",
      "\n",
      "Shrink model to first 439 iterations.\n"
     ]
    }
   ],
   "source": [
    "model_cat.fit(Pool(data=X_train, \n",
    "               label=y_train, \n",
    "              cat_features=cat,\n",
    "              #weight=X_train.COL_YOU_WANT_TO_WEIGHT\n",
    "              ),\n",
    "          eval_set = (X_validation, y_validation),\n",
    "          logging_level='Verbose'\n",
    "         )\n",
    "\n",
    "y_pred = model_cat.predict(X_test)"
   ]
  },
  {
   "cell_type": "code",
   "execution_count": 58,
   "metadata": {},
   "outputs": [],
   "source": [
    "model_performance_RMSE['CatBoost'] = np.sqrt(metrics.mean_squared_error(y_test, y_pred))"
   ]
  },
  {
   "cell_type": "markdown",
   "metadata": {},
   "source": [
    "# Model Evaluation"
   ]
  },
  {
   "cell_type": "code",
   "execution_count": 59,
   "metadata": {},
   "outputs": [
    {
     "data": {
      "text/plain": [
       "[('Grid Search Tuned Random Forest', 66792.91248909173),\n",
       " ('Manually Tuned Random Forest', 67116.3076607449),\n",
       " ('Linear Regression', 85541.03890281366),\n",
       " ('Scaled Linear Regression', 85541.03890281367),\n",
       " ('Standardised Linear Regression', 85541.03890281367),\n",
       " ('Ridge Regression', 85541.04359169057),\n",
       " ('Tuned Ridge Regression', 85541.15877166428),\n",
       " ('LightBGM', 91945.94076373828),\n",
       " ('CatBoost', 93225.70993299826),\n",
       " ('DummyRegressor', 201865.523594521)]"
      ]
     },
     "execution_count": 59,
     "metadata": {},
     "output_type": "execute_result"
    }
   ],
   "source": [
    "sorted(model_performance_RMSE.items(), key=lambda x:x[1])"
   ]
  },
  {
   "cell_type": "code",
   "execution_count": 60,
   "metadata": {
    "scrolled": false
   },
   "outputs": [
    {
     "data": {
      "image/png": "[encoded data removed]",
      "text/plain": [
       "<Figure size 1080x576 with 1 Axes>"
      ]
     },
     "metadata": {
      "needs_background": "light"
     },
     "output_type": "display_data"
    }
   ],
   "source": [
    "plt.figure(figsize=(15,8))\n",
    "plt.plot(list(model_performance_RMSE.keys()),list(model_performance_RMSE.values()))\n",
    "plt.xticks(rotation=45)\n",
    "plt.ylabel('RMSE')\n",
    "plt.title('Models Comparasion');"
   ]
  },
  {
   "cell_type": "markdown",
   "metadata": {},
   "source": [
    "## Best Model - Random Forest"
   ]
  },
  {
   "cell_type": "code",
   "execution_count": 77,
   "metadata": {},
   "outputs": [
    {
     "name": "stdout",
     "output_type": "stream",
     "text": [
      "Random Forest RMSE (testing): 66792.912\n",
      "Random Forest OOB Score: 0.916\n"
     ]
    }
   ],
   "source": [
    "feature_names = ['post_type', 'video_views', 'reactions', 'comments', 'potential_reach']\n",
    "target_name = ['impressions']\n",
    "\n",
    "X = df[feature_names]\n",
    "y = df[target_name]\n",
    "\n",
    "X_train, X_test, y_train, y_test = train_test_split(X, y, random_state=0)\n",
    "\n",
    "rfreg = RandomForestRegressor(n_estimators=185, max_features=3, \n",
    "                              oob_score=True, random_state=1, n_jobs=-1).fit(X_train, y_train.values.ravel())\n",
    "y_pred = rfreg.predict(X_test)\n",
    "\n",
    "print('Random Forest RMSE (testing): {:.3f}'.format(np.sqrt(metrics.mean_squared_error(y_test, y_pred))))\n",
    "print('Random Forest OOB Score: {:.3f}'.format(rfreg.oob_score_))"
   ]
  },
  {
   "cell_type": "markdown",
   "metadata": {},
   "source": [
    "## Feature Importances - Random Forest"
   ]
  },
  {
   "cell_type": "code",
   "execution_count": 78,
   "metadata": {},
   "outputs": [
    {
     "data": {
      "text/html": [
       "<div>\n",
       "<style scoped>\n",
       "    .dataframe tbody tr th:only-of-type {\n",
       "        vertical-align: middle;\n",
       "    }\n",
       "\n",
       "    .dataframe tbody tr th {\n",
       "        vertical-align: top;\n",
       "    }\n",
       "\n",
       "    .dataframe thead th {\n",
       "        text-align: right;\n",
       "    }\n",
       "</style>\n",
       "<table border=\"1\" class=\"dataframe\">\n",
       "  <thead>\n",
       "    <tr style=\"text-align: right;\">\n",
       "      <th></th>\n",
       "      <th>feature</th>\n",
       "      <th>importance</th>\n",
       "    </tr>\n",
       "  </thead>\n",
       "  <tbody>\n",
       "    <tr>\n",
       "      <th>2</th>\n",
       "      <td>reactions</td>\n",
       "      <td>0.464281</td>\n",
       "    </tr>\n",
       "    <tr>\n",
       "      <th>4</th>\n",
       "      <td>potential_reach</td>\n",
       "      <td>0.420068</td>\n",
       "    </tr>\n",
       "    <tr>\n",
       "      <th>3</th>\n",
       "      <td>comments</td>\n",
       "      <td>0.091017</td>\n",
       "    </tr>\n",
       "    <tr>\n",
       "      <th>1</th>\n",
       "      <td>video_views</td>\n",
       "      <td>0.022883</td>\n",
       "    </tr>\n",
       "    <tr>\n",
       "      <th>0</th>\n",
       "      <td>post_type</td>\n",
       "      <td>0.001752</td>\n",
       "    </tr>\n",
       "  </tbody>\n",
       "</table>\n",
       "</div>"
      ],
      "text/plain": [
       "           feature  importance\n",
       "2        reactions    0.464281\n",
       "4  potential_reach    0.420068\n",
       "3         comments    0.091017\n",
       "1      video_views    0.022883\n",
       "0        post_type    0.001752"
      ]
     },
     "execution_count": 78,
     "metadata": {},
     "output_type": "execute_result"
    }
   ],
   "source": [
    "# Compute feature importances\n",
    "pd.DataFrame({\n",
    "    'feature': feature_names, \n",
    "    'importance': rfreg.feature_importances_}\n",
    ").sort_values(by='importance', ascending=False)"
   ]
  },
  {
   "cell_type": "markdown",
   "metadata": {},
   "source": [
    "## Cross Validate Random Forest Model"
   ]
  },
  {
   "cell_type": "code",
   "execution_count": 63,
   "metadata": {},
   "outputs": [
    {
     "data": {
      "text/plain": [
       "71545.69642489101"
      ]
     },
     "execution_count": 63,
     "metadata": {},
     "output_type": "execute_result"
    }
   ],
   "source": [
    "np.mean(np.sqrt(-cross_val_score(rfreg, X, y.values.ravel(), cv=5, scoring='neg_mean_squared_error')))"
   ]
  },
  {
   "cell_type": "markdown",
   "metadata": {},
   "source": [
    "- very robust model, generalises well"
   ]
  },
  {
   "cell_type": "markdown",
   "metadata": {},
   "source": [
    "## Develop Intuition from Random Forest Model"
   ]
  },
  {
   "cell_type": "code",
   "execution_count": 64,
   "metadata": {},
   "outputs": [
    {
     "name": "stderr",
     "output_type": "stream",
     "text": [
      "/usr/local/lib/python3.9/site-packages/seaborn/distributions.py:2557: FutureWarning: `distplot` is a deprecated function and will be removed in a future version. Please adapt your code to use either `displot` (a figure-level function with similar flexibility) or `histplot` (an axes-level function for histograms).\n",
      "  warnings.warn(msg, FutureWarning)\n",
      "/usr/local/lib/python3.9/site-packages/seaborn/distributions.py:2557: FutureWarning: `distplot` is a deprecated function and will be removed in a future version. Please adapt your code to use either `displot` (a figure-level function with similar flexibility) or `histplot` (an axes-level function for histograms).\n",
      "  warnings.warn(msg, FutureWarning)\n"
     ]
    },
    {
     "data": {
      "image/png": "[encoded data removed]",
      "text/plain": [
       "<Figure size 1080x576 with 1 Axes>"
      ]
     },
     "metadata": {
      "needs_background": "light"
     },
     "output_type": "display_data"
    }
   ],
   "source": [
    "plt.rcParams.update({'font.size': 16})\n",
    "plt.figure(figsize=(15,8))\n",
    "sns.distplot(y_test, label=\"True Value\")\n",
    "sns.distplot(y_pred, label=\"Predicted Value\", color=\"orange\")\n",
    "plt.title('Impression distribution')\n",
    "plt.legend();"
   ]
  },
  {
   "cell_type": "markdown",
   "metadata": {},
   "source": [
    "- can't tell much. Need to log transform the target value - impressions"
   ]
  },
  {
   "cell_type": "code",
   "execution_count": 65,
   "metadata": {},
   "outputs": [
    {
     "data": {
      "image/png": "[encoded data removed]",
      "text/plain": [
       "<Figure size 1080x576 with 1 Axes>"
      ]
     },
     "metadata": {
      "needs_background": "light"
     },
     "output_type": "display_data"
    }
   ],
   "source": [
    "plt.figure(figsize=(15,8))\n",
    "sns.histplot(np.log(y_test+0.01), label=\"True Value\", alpha=0.5)\n",
    "sns.histplot(np.log(y_pred+0.01), label=\"Predicted Value\", color=\"orange\", alpha=0.3)\n",
    "plt.legend()\n",
    "plt.title('Impression distribution after log transformation')\n",
    "plt.show();"
   ]
  },
  {
   "cell_type": "markdown",
   "metadata": {},
   "source": [
    "- better but xtick is on natural log scale"
   ]
  },
  {
   "cell_type": "code",
   "execution_count": 66,
   "metadata": {},
   "outputs": [
    {
     "data": {
      "image/png": "[encoded data removed]",
      "text/plain": [
       "<Figure size 1080x576 with 1 Axes>"
      ]
     },
     "metadata": {
      "needs_background": "light"
     },
     "output_type": "display_data"
    }
   ],
   "source": [
    "plt.figure(figsize=(15,8))\n",
    "sns.histplot(np.log(y_test+0.01), label=\"True Value\", alpha=0.5, kde=True)\n",
    "sns.histplot(np.log(y_pred+0.01), label=\"Predicted Value\", color=\"orange\", alpha=0.3, kde=True)\n",
    "plt.legend()\n",
    "plt.title('Impression distribution after log transformation')\n",
    "labels = [int(np.exp(x)) for x in range(4,18,2)]\n",
    "plt.xticks(range(4,18,2), labels)\n",
    "plt.axvline(x=np.log(200), color='r', linestyle='-')\n",
    "plt.axvline(x=np.log(4500), color='r', linestyle='-')\n",
    "plt.show();"
   ]
  },
  {
   "cell_type": "code",
   "execution_count": 67,
   "metadata": {},
   "outputs": [
    {
     "data": {
      "text/html": [
       "<div>\n",
       "<style scoped>\n",
       "    .dataframe tbody tr th:only-of-type {\n",
       "        vertical-align: middle;\n",
       "    }\n",
       "\n",
       "    .dataframe tbody tr th {\n",
       "        vertical-align: top;\n",
       "    }\n",
       "\n",
       "    .dataframe thead th {\n",
       "        text-align: right;\n",
       "    }\n",
       "</style>\n",
       "<table border=\"1\" class=\"dataframe\">\n",
       "  <thead>\n",
       "    <tr style=\"text-align: right;\">\n",
       "      <th></th>\n",
       "      <th>impressions</th>\n",
       "    </tr>\n",
       "  </thead>\n",
       "  <tbody>\n",
       "    <tr>\n",
       "      <th>0.00280</th>\n",
       "      <td>171.92040</td>\n",
       "    </tr>\n",
       "    <tr>\n",
       "      <th>0.30389</th>\n",
       "      <td>4747.18227</td>\n",
       "    </tr>\n",
       "  </tbody>\n",
       "</table>\n",
       "</div>"
      ],
      "text/plain": [
       "         impressions\n",
       "0.00280    171.92040\n",
       "0.30389   4747.18227"
      ]
     },
     "execution_count": 67,
     "metadata": {},
     "output_type": "execute_result"
    }
   ],
   "source": [
    "y_test.quantile([0.0028,0.30389])"
   ]
  },
  {
   "cell_type": "code",
   "execution_count": 68,
   "metadata": {},
   "outputs": [
    {
     "data": {
      "text/html": [
       "<div>\n",
       "<style scoped>\n",
       "    .dataframe tbody tr th:only-of-type {\n",
       "        vertical-align: middle;\n",
       "    }\n",
       "\n",
       "    .dataframe tbody tr th {\n",
       "        vertical-align: top;\n",
       "    }\n",
       "\n",
       "    .dataframe thead th {\n",
       "        text-align: right;\n",
       "    }\n",
       "</style>\n",
       "<table border=\"1\" class=\"dataframe\">\n",
       "  <thead>\n",
       "    <tr style=\"text-align: right;\">\n",
       "      <th></th>\n",
       "      <th>impressions</th>\n",
       "    </tr>\n",
       "  </thead>\n",
       "  <tbody>\n",
       "    <tr>\n",
       "      <th>0.25</th>\n",
       "      <td>3490.0</td>\n",
       "    </tr>\n",
       "    <tr>\n",
       "      <th>0.50</th>\n",
       "      <td>12571.5</td>\n",
       "    </tr>\n",
       "    <tr>\n",
       "      <th>0.75</th>\n",
       "      <td>44580.5</td>\n",
       "    </tr>\n",
       "  </tbody>\n",
       "</table>\n",
       "</div>"
      ],
      "text/plain": [
       "      impressions\n",
       "0.25       3490.0\n",
       "0.50      12571.5\n",
       "0.75      44580.5"
      ]
     },
     "execution_count": 68,
     "metadata": {},
     "output_type": "execute_result"
    }
   ],
   "source": [
    "y_test.quantile([0.25, 0.5, 0.75])"
   ]
  },
  {
   "cell_type": "code",
   "execution_count": 69,
   "metadata": {},
   "outputs": [
    {
     "data": {
      "image/png": "[encoded data removed]",
      "text/plain": [
       "<Figure size 1080x576 with 1 Axes>"
      ]
     },
     "metadata": {
      "needs_background": "light"
     },
     "output_type": "display_data"
    }
   ],
   "source": [
    "# distribution of target variable\n",
    "plt.figure(figsize=(15,8))\n",
    "sns.boxplot(data=y_test, orient=\"v\");"
   ]
  },
  {
   "cell_type": "code",
   "execution_count": 70,
   "metadata": {},
   "outputs": [
    {
     "data": {
      "text/plain": [
       "520"
      ]
     },
     "execution_count": 70,
     "metadata": {},
     "output_type": "execute_result"
    }
   ],
   "source": [
    "y_test[y_test.impressions>724575.31].shape[0]"
   ]
  },
  {
   "cell_type": "markdown",
   "metadata": {},
   "source": [
    "- Random Forest lowest RMSE of impression achieves by under-predicting low-value instances and over-predicting high-value instances\n",
    "- this strategy is not optimal as there are lots of low-value instances - 90% instances under 128268.40"
   ]
  },
  {
   "cell_type": "markdown",
   "metadata": {},
   "source": [
    "# Predict New Instances"
   ]
  },
  {
   "cell_type": "code",
   "execution_count": 103,
   "metadata": {},
   "outputs": [
    {
     "data": {
      "text/plain": [
       "array([1038.77297297])"
      ]
     },
     "execution_count": 103,
     "metadata": {},
     "output_type": "execute_result"
    }
   ],
   "source": [
    "rfreg.predict([[1, 343, 131, 19, 2085]]) #actual impression: 636373\n",
    "#feature_names = ['post_type_IMAGE:0-image;1-video', \n",
    "#'video_views', 'reactions', 'comments', 'potential_reach']"
   ]
  },
  {
   "cell_type": "markdown",
   "metadata": {},
   "source": [
    "# Interpretability"
   ]
  },
  {
   "cell_type": "code",
   "execution_count": 72,
   "metadata": {},
   "outputs": [],
   "source": [
    "#import shap\n",
    "#%timeit\n",
    "#shap_values = shap.TreeExplainer(rfreg).shap_values(X_train)\n",
    "#shap.summary_plot(shap_values, X_train, plot_type=\"bar\")"
   ]
  },
  {
   "cell_type": "code",
   "execution_count": 73,
   "metadata": {},
   "outputs": [],
   "source": [
    "#shap.summary_plot(shap_values, X_train)"
   ]
  },
  {
   "cell_type": "markdown",
   "metadata": {},
   "source": [
    "# Decision Tree"
   ]
  },
  {
   "cell_type": "code",
   "execution_count": 74,
   "metadata": {},
   "outputs": [],
   "source": [
    "treereg = DecisionTreeRegressor(max_depth=3, max_features=5).fit(X_train, y_train)"
   ]
  },
  {
   "cell_type": "code",
   "execution_count": 75,
   "metadata": {},
   "outputs": [
    {
     "data": {
      "image/png": "[encoded data removed]",
      "text/plain": [
       "<Figure size 1440x576 with 1 Axes>"
      ]
     },
     "metadata": {
      "needs_background": "light"
     },
     "output_type": "display_data"
    }
   ],
   "source": [
    "fig, ax = plt.subplots(figsize=(20,8))\n",
    "tree.plot_tree(treereg, feature_names=feature_names, class_names=target_name, filled=True, fontsize=10);"
   ]
  },
  {
   "cell_type": "code",
   "execution_count": 76,
   "metadata": {},
   "outputs": [],
   "source": [
    "#https://docs.google.com/presentation/d/1_wljom0EVPC8sJE-f6tjQ-jmcUWjB6jzQSg1voF5YY0/edit#slide=id.g7402f38921_0_5"
   ]
  },
  {
   "cell_type": "code",
   "execution_count": 79,
   "metadata": {},
   "outputs": [],
   "source": [
    "validation_df.to_csv('/Users/sili/Documents/Dove/impression/oauth/data_20210101-20210115.csv')"
   ]
  }
 ],
 "metadata": {
  "kernelspec": {
   "display_name": "Python 3",
   "language": "python",
   "name": "python3"
  },
  "language_info": {
   "codemirror_mode": {
    "name": "ipython",
    "version": 3
   },
   "file_extension": ".py",
   "mimetype": "text/x-python",
   "name": "python",
   "nbconvert_exporter": "python",
   "pygments_lexer": "ipython3",
   "version": "3.6.5"
  }
 },
 "nbformat": 4,
 "nbformat_minor": 4
}
